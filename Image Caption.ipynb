{
 "cells": [
  {
   "cell_type": "markdown",
   "metadata": {},
   "source": [
    "## import the important libraries"
   ]
  },
  {
   "cell_type": "code",
   "execution_count": 57,
   "metadata": {},
   "outputs": [],
   "source": [
    "import os                                                                                  # Operating System library for file operations\n",
    "import re                                                                                  # Regular Expression library for text processing\n",
    "import cv2                                                                                 # OpenCV library for image processing\n",
    "import tqdm\n",
    "import random                                                                              # Library for generating random numbers or shuffling sequences\n",
    "import string                                                                              # Library for string operations\n",
    "import pickle                                                                              # Library for serializing and deserializing Python objects\n",
    "\n",
    "import numpy as np                                                                         # Numerical computing library\n",
    "import pandas as pd                                                                        # Data manipulation and analysis library\n",
    "import tensorflow as tf                                                                    # Deep learning framework\n",
    "\n",
    "from keras.utils import plot_model, to_categorical, Sequence                               # Utilities for Keras models\n",
    "from keras.layers import Embedding, Input, Dense, Dropout, concatenate, LSTM, Flatten, add # Keras layers\n",
    "from keras.models import Model, load_model                                                 # Keras models\n",
    "from keras.preprocessing.text import Tokenizer                                             # Text preprocessing\n",
    "from keras.preprocessing.image import load_img, img_to_array                               # Image preprocessing\n",
    "from keras.preprocessing.sequence import pad_sequences                                     # Sequence preprocessing\n",
    "from keras.applications.inception_v3 import InceptionV3, preprocess_input                  # InceptionV3 model for image feature extraction"
   ]
  },
  {
   "cell_type": "markdown",
   "metadata": {},
   "source": [
    "## Create CNN model to extract the features"
   ]
  },
  {
   "cell_type": "code",
   "execution_count": 11,
   "metadata": {},
   "outputs": [],
   "source": [
    "def get_features_encoder():\n",
    "\n",
    "    incept = InceptionV3(input_shape=(224,224,3), include_top=False, weights='imagenet')  # Use the pre-trained CNN model (InceptionV3)\n",
    "    \n",
    "    print(len(incept.layers))                                                             # Print the number of layers in the InceptionV3 model\n",
    "    \n",
    "    for layer in incept.layers:                                                           # Set all layers in the InceptionV3 model to non-trainable\n",
    "        layer.trainable = False\n",
    "    \n",
    "    flatten = Flatten()(incept.output)                                                    # Flatten the output of the InceptionV3 model\n",
    "    layer1 = Dense(units=10, activation='relu')(flatten)                                  # Add a dense layer with 10 units and ReLU activation\n",
    "    layer2 = Dense(units=2048, activation='relu')(layer1)                                 # Add another dense layer with 2048 units and ReLU activation\n",
    "    features_encoder = Model(incept.input, layer2)                                        # Create a model that maps input images to the output of the second dense layer\n",
    "\n",
    "    return features_encoder                                                               # return the full model"
   ]
  },
  {
   "cell_type": "code",
   "execution_count": 12,
   "metadata": {},
   "outputs": [
    {
     "name": "stdout",
     "output_type": "stream",
     "text": [
      "311\n",
      "314\n",
      "Model: \"model_1\"\n",
      "__________________________________________________________________________________________________\n",
      " Layer (type)                Output Shape                 Param #   Connected to                  \n",
      "==================================================================================================\n",
      " input_2 (InputLayer)        [(None, 224, 224, 3)]        0         []                            \n",
      "                                                                                                  \n",
      " conv2d_94 (Conv2D)          (None, 111, 111, 32)         864       ['input_2[0][0]']             \n",
      "                                                                                                  \n",
      " batch_normalization_94 (Ba  (None, 111, 111, 32)         96        ['conv2d_94[0][0]']           \n",
      " tchNormalization)                                                                                \n",
      "                                                                                                  \n",
      " activation_94 (Activation)  (None, 111, 111, 32)         0         ['batch_normalization_94[0][0]\n",
      "                                                                    ']                            \n",
      "                                                                                                  \n",
      " conv2d_95 (Conv2D)          (None, 109, 109, 32)         9216      ['activation_94[0][0]']       \n",
      "                                                                                                  \n",
      " batch_normalization_95 (Ba  (None, 109, 109, 32)         96        ['conv2d_95[0][0]']           \n",
      " tchNormalization)                                                                                \n",
      "                                                                                                  \n",
      " activation_95 (Activation)  (None, 109, 109, 32)         0         ['batch_normalization_95[0][0]\n",
      "                                                                    ']                            \n",
      "                                                                                                  \n",
      " conv2d_96 (Conv2D)          (None, 109, 109, 64)         18432     ['activation_95[0][0]']       \n",
      "                                                                                                  \n",
      " batch_normalization_96 (Ba  (None, 109, 109, 64)         192       ['conv2d_96[0][0]']           \n",
      " tchNormalization)                                                                                \n",
      "                                                                                                  \n",
      " activation_96 (Activation)  (None, 109, 109, 64)         0         ['batch_normalization_96[0][0]\n",
      "                                                                    ']                            \n",
      "                                                                                                  \n",
      " max_pooling2d_4 (MaxPoolin  (None, 54, 54, 64)           0         ['activation_96[0][0]']       \n",
      " g2D)                                                                                             \n",
      "                                                                                                  \n",
      " conv2d_97 (Conv2D)          (None, 54, 54, 80)           5120      ['max_pooling2d_4[0][0]']     \n",
      "                                                                                                  \n",
      " batch_normalization_97 (Ba  (None, 54, 54, 80)           240       ['conv2d_97[0][0]']           \n",
      " tchNormalization)                                                                                \n",
      "                                                                                                  \n",
      " activation_97 (Activation)  (None, 54, 54, 80)           0         ['batch_normalization_97[0][0]\n",
      "                                                                    ']                            \n",
      "                                                                                                  \n",
      " conv2d_98 (Conv2D)          (None, 52, 52, 192)          138240    ['activation_97[0][0]']       \n",
      "                                                                                                  \n",
      " batch_normalization_98 (Ba  (None, 52, 52, 192)          576       ['conv2d_98[0][0]']           \n",
      " tchNormalization)                                                                                \n",
      "                                                                                                  \n",
      " activation_98 (Activation)  (None, 52, 52, 192)          0         ['batch_normalization_98[0][0]\n",
      "                                                                    ']                            \n",
      "                                                                                                  \n",
      " max_pooling2d_5 (MaxPoolin  (None, 25, 25, 192)          0         ['activation_98[0][0]']       \n",
      " g2D)                                                                                             \n",
      "                                                                                                  \n",
      " conv2d_102 (Conv2D)         (None, 25, 25, 64)           12288     ['max_pooling2d_5[0][0]']     \n",
      "                                                                                                  \n",
      " batch_normalization_102 (B  (None, 25, 25, 64)           192       ['conv2d_102[0][0]']          \n",
      " atchNormalization)                                                                               \n",
      "                                                                                                  \n",
      " activation_102 (Activation  (None, 25, 25, 64)           0         ['batch_normalization_102[0][0\n",
      " )                                                                  ]']                           \n",
      "                                                                                                  \n",
      " conv2d_100 (Conv2D)         (None, 25, 25, 48)           9216      ['max_pooling2d_5[0][0]']     \n",
      "                                                                                                  \n",
      " conv2d_103 (Conv2D)         (None, 25, 25, 96)           55296     ['activation_102[0][0]']      \n",
      "                                                                                                  \n",
      " batch_normalization_100 (B  (None, 25, 25, 48)           144       ['conv2d_100[0][0]']          \n",
      " atchNormalization)                                                                               \n",
      "                                                                                                  \n",
      " batch_normalization_103 (B  (None, 25, 25, 96)           288       ['conv2d_103[0][0]']          \n",
      " atchNormalization)                                                                               \n",
      "                                                                                                  \n",
      " activation_100 (Activation  (None, 25, 25, 48)           0         ['batch_normalization_100[0][0\n",
      " )                                                                  ]']                           \n",
      "                                                                                                  \n",
      " activation_103 (Activation  (None, 25, 25, 96)           0         ['batch_normalization_103[0][0\n",
      " )                                                                  ]']                           \n",
      "                                                                                                  \n",
      " average_pooling2d_9 (Avera  (None, 25, 25, 192)          0         ['max_pooling2d_5[0][0]']     \n",
      " gePooling2D)                                                                                     \n",
      "                                                                                                  \n",
      " conv2d_99 (Conv2D)          (None, 25, 25, 64)           12288     ['max_pooling2d_5[0][0]']     \n",
      "                                                                                                  \n",
      " conv2d_101 (Conv2D)         (None, 25, 25, 64)           76800     ['activation_100[0][0]']      \n",
      "                                                                                                  \n",
      " conv2d_104 (Conv2D)         (None, 25, 25, 96)           82944     ['activation_103[0][0]']      \n",
      "                                                                                                  \n",
      " conv2d_105 (Conv2D)         (None, 25, 25, 32)           6144      ['average_pooling2d_9[0][0]'] \n",
      "                                                                                                  \n",
      " batch_normalization_99 (Ba  (None, 25, 25, 64)           192       ['conv2d_99[0][0]']           \n",
      " tchNormalization)                                                                                \n",
      "                                                                                                  \n",
      " batch_normalization_101 (B  (None, 25, 25, 64)           192       ['conv2d_101[0][0]']          \n",
      " atchNormalization)                                                                               \n",
      "                                                                                                  \n",
      " batch_normalization_104 (B  (None, 25, 25, 96)           288       ['conv2d_104[0][0]']          \n",
      " atchNormalization)                                                                               \n",
      "                                                                                                  \n",
      " batch_normalization_105 (B  (None, 25, 25, 32)           96        ['conv2d_105[0][0]']          \n",
      " atchNormalization)                                                                               \n",
      "                                                                                                  \n",
      " activation_99 (Activation)  (None, 25, 25, 64)           0         ['batch_normalization_99[0][0]\n",
      "                                                                    ']                            \n",
      "                                                                                                  \n",
      " activation_101 (Activation  (None, 25, 25, 64)           0         ['batch_normalization_101[0][0\n",
      " )                                                                  ]']                           \n",
      "                                                                                                  \n",
      " activation_104 (Activation  (None, 25, 25, 96)           0         ['batch_normalization_104[0][0\n",
      " )                                                                  ]']                           \n",
      "                                                                                                  \n",
      " activation_105 (Activation  (None, 25, 25, 32)           0         ['batch_normalization_105[0][0\n",
      " )                                                                  ]']                           \n",
      "                                                                                                  \n",
      " mixed0 (Concatenate)        (None, 25, 25, 256)          0         ['activation_99[0][0]',       \n",
      "                                                                     'activation_101[0][0]',      \n",
      "                                                                     'activation_104[0][0]',      \n",
      "                                                                     'activation_105[0][0]']      \n",
      "                                                                                                  \n",
      " conv2d_109 (Conv2D)         (None, 25, 25, 64)           16384     ['mixed0[0][0]']              \n",
      "                                                                                                  \n",
      " batch_normalization_109 (B  (None, 25, 25, 64)           192       ['conv2d_109[0][0]']          \n",
      " atchNormalization)                                                                               \n",
      "                                                                                                  \n",
      " activation_109 (Activation  (None, 25, 25, 64)           0         ['batch_normalization_109[0][0\n",
      " )                                                                  ]']                           \n",
      "                                                                                                  \n",
      " conv2d_107 (Conv2D)         (None, 25, 25, 48)           12288     ['mixed0[0][0]']              \n",
      "                                                                                                  \n",
      " conv2d_110 (Conv2D)         (None, 25, 25, 96)           55296     ['activation_109[0][0]']      \n",
      "                                                                                                  \n",
      " batch_normalization_107 (B  (None, 25, 25, 48)           144       ['conv2d_107[0][0]']          \n",
      " atchNormalization)                                                                               \n",
      "                                                                                                  \n",
      " batch_normalization_110 (B  (None, 25, 25, 96)           288       ['conv2d_110[0][0]']          \n",
      " atchNormalization)                                                                               \n",
      "                                                                                                  \n",
      " activation_107 (Activation  (None, 25, 25, 48)           0         ['batch_normalization_107[0][0\n",
      " )                                                                  ]']                           \n",
      "                                                                                                  \n",
      " activation_110 (Activation  (None, 25, 25, 96)           0         ['batch_normalization_110[0][0\n",
      " )                                                                  ]']                           \n",
      "                                                                                                  \n",
      " average_pooling2d_10 (Aver  (None, 25, 25, 256)          0         ['mixed0[0][0]']              \n",
      " agePooling2D)                                                                                    \n",
      "                                                                                                  \n",
      " conv2d_106 (Conv2D)         (None, 25, 25, 64)           16384     ['mixed0[0][0]']              \n",
      "                                                                                                  \n",
      " conv2d_108 (Conv2D)         (None, 25, 25, 64)           76800     ['activation_107[0][0]']      \n",
      "                                                                                                  \n",
      " conv2d_111 (Conv2D)         (None, 25, 25, 96)           82944     ['activation_110[0][0]']      \n",
      "                                                                                                  \n",
      " conv2d_112 (Conv2D)         (None, 25, 25, 64)           16384     ['average_pooling2d_10[0][0]']\n",
      "                                                                                                  \n",
      " batch_normalization_106 (B  (None, 25, 25, 64)           192       ['conv2d_106[0][0]']          \n",
      " atchNormalization)                                                                               \n",
      "                                                                                                  \n",
      " batch_normalization_108 (B  (None, 25, 25, 64)           192       ['conv2d_108[0][0]']          \n",
      " atchNormalization)                                                                               \n",
      "                                                                                                  \n",
      " batch_normalization_111 (B  (None, 25, 25, 96)           288       ['conv2d_111[0][0]']          \n",
      " atchNormalization)                                                                               \n",
      "                                                                                                  \n",
      " batch_normalization_112 (B  (None, 25, 25, 64)           192       ['conv2d_112[0][0]']          \n",
      " atchNormalization)                                                                               \n",
      "                                                                                                  \n",
      " activation_106 (Activation  (None, 25, 25, 64)           0         ['batch_normalization_106[0][0\n",
      " )                                                                  ]']                           \n",
      "                                                                                                  \n",
      " activation_108 (Activation  (None, 25, 25, 64)           0         ['batch_normalization_108[0][0\n",
      " )                                                                  ]']                           \n",
      "                                                                                                  \n",
      " activation_111 (Activation  (None, 25, 25, 96)           0         ['batch_normalization_111[0][0\n",
      " )                                                                  ]']                           \n",
      "                                                                                                  \n",
      " activation_112 (Activation  (None, 25, 25, 64)           0         ['batch_normalization_112[0][0\n",
      " )                                                                  ]']                           \n",
      "                                                                                                  \n",
      " mixed1 (Concatenate)        (None, 25, 25, 288)          0         ['activation_106[0][0]',      \n",
      "                                                                     'activation_108[0][0]',      \n",
      "                                                                     'activation_111[0][0]',      \n",
      "                                                                     'activation_112[0][0]']      \n",
      "                                                                                                  \n",
      " conv2d_116 (Conv2D)         (None, 25, 25, 64)           18432     ['mixed1[0][0]']              \n",
      "                                                                                                  \n",
      " batch_normalization_116 (B  (None, 25, 25, 64)           192       ['conv2d_116[0][0]']          \n",
      " atchNormalization)                                                                               \n",
      "                                                                                                  \n",
      " activation_116 (Activation  (None, 25, 25, 64)           0         ['batch_normalization_116[0][0\n",
      " )                                                                  ]']                           \n",
      "                                                                                                  \n",
      " conv2d_114 (Conv2D)         (None, 25, 25, 48)           13824     ['mixed1[0][0]']              \n",
      "                                                                                                  \n",
      " conv2d_117 (Conv2D)         (None, 25, 25, 96)           55296     ['activation_116[0][0]']      \n",
      "                                                                                                  \n",
      " batch_normalization_114 (B  (None, 25, 25, 48)           144       ['conv2d_114[0][0]']          \n",
      " atchNormalization)                                                                               \n",
      "                                                                                                  \n",
      " batch_normalization_117 (B  (None, 25, 25, 96)           288       ['conv2d_117[0][0]']          \n",
      " atchNormalization)                                                                               \n",
      "                                                                                                  \n",
      " activation_114 (Activation  (None, 25, 25, 48)           0         ['batch_normalization_114[0][0\n",
      " )                                                                  ]']                           \n",
      "                                                                                                  \n",
      " activation_117 (Activation  (None, 25, 25, 96)           0         ['batch_normalization_117[0][0\n",
      " )                                                                  ]']                           \n",
      "                                                                                                  \n",
      " average_pooling2d_11 (Aver  (None, 25, 25, 288)          0         ['mixed1[0][0]']              \n",
      " agePooling2D)                                                                                    \n",
      "                                                                                                  \n",
      " conv2d_113 (Conv2D)         (None, 25, 25, 64)           18432     ['mixed1[0][0]']              \n",
      "                                                                                                  \n",
      " conv2d_115 (Conv2D)         (None, 25, 25, 64)           76800     ['activation_114[0][0]']      \n",
      "                                                                                                  \n",
      " conv2d_118 (Conv2D)         (None, 25, 25, 96)           82944     ['activation_117[0][0]']      \n",
      "                                                                                                  \n",
      " conv2d_119 (Conv2D)         (None, 25, 25, 64)           18432     ['average_pooling2d_11[0][0]']\n",
      "                                                                                                  \n",
      " batch_normalization_113 (B  (None, 25, 25, 64)           192       ['conv2d_113[0][0]']          \n",
      " atchNormalization)                                                                               \n",
      "                                                                                                  \n",
      " batch_normalization_115 (B  (None, 25, 25, 64)           192       ['conv2d_115[0][0]']          \n",
      " atchNormalization)                                                                               \n",
      "                                                                                                  \n",
      " batch_normalization_118 (B  (None, 25, 25, 96)           288       ['conv2d_118[0][0]']          \n",
      " atchNormalization)                                                                               \n",
      "                                                                                                  \n",
      " batch_normalization_119 (B  (None, 25, 25, 64)           192       ['conv2d_119[0][0]']          \n",
      " atchNormalization)                                                                               \n",
      "                                                                                                  \n",
      " activation_113 (Activation  (None, 25, 25, 64)           0         ['batch_normalization_113[0][0\n",
      " )                                                                  ]']                           \n",
      "                                                                                                  \n",
      " activation_115 (Activation  (None, 25, 25, 64)           0         ['batch_normalization_115[0][0\n",
      " )                                                                  ]']                           \n",
      "                                                                                                  \n",
      " activation_118 (Activation  (None, 25, 25, 96)           0         ['batch_normalization_118[0][0\n",
      " )                                                                  ]']                           \n",
      "                                                                                                  \n",
      " activation_119 (Activation  (None, 25, 25, 64)           0         ['batch_normalization_119[0][0\n",
      " )                                                                  ]']                           \n",
      "                                                                                                  \n",
      " mixed2 (Concatenate)        (None, 25, 25, 288)          0         ['activation_113[0][0]',      \n",
      "                                                                     'activation_115[0][0]',      \n",
      "                                                                     'activation_118[0][0]',      \n",
      "                                                                     'activation_119[0][0]']      \n",
      "                                                                                                  \n",
      " conv2d_121 (Conv2D)         (None, 25, 25, 64)           18432     ['mixed2[0][0]']              \n",
      "                                                                                                  \n",
      " batch_normalization_121 (B  (None, 25, 25, 64)           192       ['conv2d_121[0][0]']          \n",
      " atchNormalization)                                                                               \n",
      "                                                                                                  \n",
      " activation_121 (Activation  (None, 25, 25, 64)           0         ['batch_normalization_121[0][0\n",
      " )                                                                  ]']                           \n",
      "                                                                                                  \n",
      " conv2d_122 (Conv2D)         (None, 25, 25, 96)           55296     ['activation_121[0][0]']      \n",
      "                                                                                                  \n",
      " batch_normalization_122 (B  (None, 25, 25, 96)           288       ['conv2d_122[0][0]']          \n",
      " atchNormalization)                                                                               \n",
      "                                                                                                  \n",
      " activation_122 (Activation  (None, 25, 25, 96)           0         ['batch_normalization_122[0][0\n",
      " )                                                                  ]']                           \n",
      "                                                                                                  \n",
      " conv2d_120 (Conv2D)         (None, 12, 12, 384)          995328    ['mixed2[0][0]']              \n",
      "                                                                                                  \n",
      " conv2d_123 (Conv2D)         (None, 12, 12, 96)           82944     ['activation_122[0][0]']      \n",
      "                                                                                                  \n",
      " batch_normalization_120 (B  (None, 12, 12, 384)          1152      ['conv2d_120[0][0]']          \n",
      " atchNormalization)                                                                               \n",
      "                                                                                                  \n",
      " batch_normalization_123 (B  (None, 12, 12, 96)           288       ['conv2d_123[0][0]']          \n",
      " atchNormalization)                                                                               \n",
      "                                                                                                  \n",
      " activation_120 (Activation  (None, 12, 12, 384)          0         ['batch_normalization_120[0][0\n",
      " )                                                                  ]']                           \n",
      "                                                                                                  \n",
      " activation_123 (Activation  (None, 12, 12, 96)           0         ['batch_normalization_123[0][0\n",
      " )                                                                  ]']                           \n",
      "                                                                                                  \n",
      " max_pooling2d_6 (MaxPoolin  (None, 12, 12, 288)          0         ['mixed2[0][0]']              \n",
      " g2D)                                                                                             \n",
      "                                                                                                  \n",
      " mixed3 (Concatenate)        (None, 12, 12, 768)          0         ['activation_120[0][0]',      \n",
      "                                                                     'activation_123[0][0]',      \n",
      "                                                                     'max_pooling2d_6[0][0]']     \n",
      "                                                                                                  \n",
      " conv2d_128 (Conv2D)         (None, 12, 12, 128)          98304     ['mixed3[0][0]']              \n",
      "                                                                                                  \n",
      " batch_normalization_128 (B  (None, 12, 12, 128)          384       ['conv2d_128[0][0]']          \n",
      " atchNormalization)                                                                               \n",
      "                                                                                                  \n",
      " activation_128 (Activation  (None, 12, 12, 128)          0         ['batch_normalization_128[0][0\n",
      " )                                                                  ]']                           \n",
      "                                                                                                  \n",
      " conv2d_129 (Conv2D)         (None, 12, 12, 128)          114688    ['activation_128[0][0]']      \n",
      "                                                                                                  \n",
      " batch_normalization_129 (B  (None, 12, 12, 128)          384       ['conv2d_129[0][0]']          \n",
      " atchNormalization)                                                                               \n",
      "                                                                                                  \n",
      " activation_129 (Activation  (None, 12, 12, 128)          0         ['batch_normalization_129[0][0\n",
      " )                                                                  ]']                           \n",
      "                                                                                                  \n",
      " conv2d_125 (Conv2D)         (None, 12, 12, 128)          98304     ['mixed3[0][0]']              \n",
      "                                                                                                  \n",
      " conv2d_130 (Conv2D)         (None, 12, 12, 128)          114688    ['activation_129[0][0]']      \n",
      "                                                                                                  \n",
      " batch_normalization_125 (B  (None, 12, 12, 128)          384       ['conv2d_125[0][0]']          \n",
      " atchNormalization)                                                                               \n",
      "                                                                                                  \n",
      " batch_normalization_130 (B  (None, 12, 12, 128)          384       ['conv2d_130[0][0]']          \n",
      " atchNormalization)                                                                               \n",
      "                                                                                                  \n",
      " activation_125 (Activation  (None, 12, 12, 128)          0         ['batch_normalization_125[0][0\n",
      " )                                                                  ]']                           \n",
      "                                                                                                  \n",
      " activation_130 (Activation  (None, 12, 12, 128)          0         ['batch_normalization_130[0][0\n",
      " )                                                                  ]']                           \n",
      "                                                                                                  \n",
      " conv2d_126 (Conv2D)         (None, 12, 12, 128)          114688    ['activation_125[0][0]']      \n",
      "                                                                                                  \n",
      " conv2d_131 (Conv2D)         (None, 12, 12, 128)          114688    ['activation_130[0][0]']      \n",
      "                                                                                                  \n",
      " batch_normalization_126 (B  (None, 12, 12, 128)          384       ['conv2d_126[0][0]']          \n",
      " atchNormalization)                                                                               \n",
      "                                                                                                  \n",
      " batch_normalization_131 (B  (None, 12, 12, 128)          384       ['conv2d_131[0][0]']          \n",
      " atchNormalization)                                                                               \n",
      "                                                                                                  \n",
      " activation_126 (Activation  (None, 12, 12, 128)          0         ['batch_normalization_126[0][0\n",
      " )                                                                  ]']                           \n",
      "                                                                                                  \n",
      " activation_131 (Activation  (None, 12, 12, 128)          0         ['batch_normalization_131[0][0\n",
      " )                                                                  ]']                           \n",
      "                                                                                                  \n",
      " average_pooling2d_12 (Aver  (None, 12, 12, 768)          0         ['mixed3[0][0]']              \n",
      " agePooling2D)                                                                                    \n",
      "                                                                                                  \n",
      " conv2d_124 (Conv2D)         (None, 12, 12, 192)          147456    ['mixed3[0][0]']              \n",
      "                                                                                                  \n",
      " conv2d_127 (Conv2D)         (None, 12, 12, 192)          172032    ['activation_126[0][0]']      \n",
      "                                                                                                  \n",
      " conv2d_132 (Conv2D)         (None, 12, 12, 192)          172032    ['activation_131[0][0]']      \n",
      "                                                                                                  \n",
      " conv2d_133 (Conv2D)         (None, 12, 12, 192)          147456    ['average_pooling2d_12[0][0]']\n",
      "                                                                                                  \n",
      " batch_normalization_124 (B  (None, 12, 12, 192)          576       ['conv2d_124[0][0]']          \n",
      " atchNormalization)                                                                               \n",
      "                                                                                                  \n",
      " batch_normalization_127 (B  (None, 12, 12, 192)          576       ['conv2d_127[0][0]']          \n",
      " atchNormalization)                                                                               \n",
      "                                                                                                  \n",
      " batch_normalization_132 (B  (None, 12, 12, 192)          576       ['conv2d_132[0][0]']          \n",
      " atchNormalization)                                                                               \n",
      "                                                                                                  \n",
      " batch_normalization_133 (B  (None, 12, 12, 192)          576       ['conv2d_133[0][0]']          \n",
      " atchNormalization)                                                                               \n",
      "                                                                                                  \n",
      " activation_124 (Activation  (None, 12, 12, 192)          0         ['batch_normalization_124[0][0\n",
      " )                                                                  ]']                           \n",
      "                                                                                                  \n",
      " activation_127 (Activation  (None, 12, 12, 192)          0         ['batch_normalization_127[0][0\n",
      " )                                                                  ]']                           \n",
      "                                                                                                  \n",
      " activation_132 (Activation  (None, 12, 12, 192)          0         ['batch_normalization_132[0][0\n",
      " )                                                                  ]']                           \n",
      "                                                                                                  \n",
      " activation_133 (Activation  (None, 12, 12, 192)          0         ['batch_normalization_133[0][0\n",
      " )                                                                  ]']                           \n",
      "                                                                                                  \n",
      " mixed4 (Concatenate)        (None, 12, 12, 768)          0         ['activation_124[0][0]',      \n",
      "                                                                     'activation_127[0][0]',      \n",
      "                                                                     'activation_132[0][0]',      \n",
      "                                                                     'activation_133[0][0]']      \n",
      "                                                                                                  \n",
      " conv2d_138 (Conv2D)         (None, 12, 12, 160)          122880    ['mixed4[0][0]']              \n",
      "                                                                                                  \n",
      " batch_normalization_138 (B  (None, 12, 12, 160)          480       ['conv2d_138[0][0]']          \n",
      " atchNormalization)                                                                               \n",
      "                                                                                                  \n",
      " activation_138 (Activation  (None, 12, 12, 160)          0         ['batch_normalization_138[0][0\n",
      " )                                                                  ]']                           \n",
      "                                                                                                  \n",
      " conv2d_139 (Conv2D)         (None, 12, 12, 160)          179200    ['activation_138[0][0]']      \n",
      "                                                                                                  \n",
      " batch_normalization_139 (B  (None, 12, 12, 160)          480       ['conv2d_139[0][0]']          \n",
      " atchNormalization)                                                                               \n",
      "                                                                                                  \n",
      " activation_139 (Activation  (None, 12, 12, 160)          0         ['batch_normalization_139[0][0\n",
      " )                                                                  ]']                           \n",
      "                                                                                                  \n",
      " conv2d_135 (Conv2D)         (None, 12, 12, 160)          122880    ['mixed4[0][0]']              \n",
      "                                                                                                  \n",
      " conv2d_140 (Conv2D)         (None, 12, 12, 160)          179200    ['activation_139[0][0]']      \n",
      "                                                                                                  \n",
      " batch_normalization_135 (B  (None, 12, 12, 160)          480       ['conv2d_135[0][0]']          \n",
      " atchNormalization)                                                                               \n",
      "                                                                                                  \n",
      " batch_normalization_140 (B  (None, 12, 12, 160)          480       ['conv2d_140[0][0]']          \n",
      " atchNormalization)                                                                               \n",
      "                                                                                                  \n",
      " activation_135 (Activation  (None, 12, 12, 160)          0         ['batch_normalization_135[0][0\n",
      " )                                                                  ]']                           \n",
      "                                                                                                  \n",
      " activation_140 (Activation  (None, 12, 12, 160)          0         ['batch_normalization_140[0][0\n",
      " )                                                                  ]']                           \n",
      "                                                                                                  \n",
      " conv2d_136 (Conv2D)         (None, 12, 12, 160)          179200    ['activation_135[0][0]']      \n",
      "                                                                                                  \n",
      " conv2d_141 (Conv2D)         (None, 12, 12, 160)          179200    ['activation_140[0][0]']      \n",
      "                                                                                                  \n",
      " batch_normalization_136 (B  (None, 12, 12, 160)          480       ['conv2d_136[0][0]']          \n",
      " atchNormalization)                                                                               \n",
      "                                                                                                  \n",
      " batch_normalization_141 (B  (None, 12, 12, 160)          480       ['conv2d_141[0][0]']          \n",
      " atchNormalization)                                                                               \n",
      "                                                                                                  \n",
      " activation_136 (Activation  (None, 12, 12, 160)          0         ['batch_normalization_136[0][0\n",
      " )                                                                  ]']                           \n",
      "                                                                                                  \n",
      " activation_141 (Activation  (None, 12, 12, 160)          0         ['batch_normalization_141[0][0\n",
      " )                                                                  ]']                           \n",
      "                                                                                                  \n",
      " average_pooling2d_13 (Aver  (None, 12, 12, 768)          0         ['mixed4[0][0]']              \n",
      " agePooling2D)                                                                                    \n",
      "                                                                                                  \n",
      " conv2d_134 (Conv2D)         (None, 12, 12, 192)          147456    ['mixed4[0][0]']              \n",
      "                                                                                                  \n",
      " conv2d_137 (Conv2D)         (None, 12, 12, 192)          215040    ['activation_136[0][0]']      \n",
      "                                                                                                  \n",
      " conv2d_142 (Conv2D)         (None, 12, 12, 192)          215040    ['activation_141[0][0]']      \n",
      "                                                                                                  \n",
      " conv2d_143 (Conv2D)         (None, 12, 12, 192)          147456    ['average_pooling2d_13[0][0]']\n",
      "                                                                                                  \n",
      " batch_normalization_134 (B  (None, 12, 12, 192)          576       ['conv2d_134[0][0]']          \n",
      " atchNormalization)                                                                               \n",
      "                                                                                                  \n",
      " batch_normalization_137 (B  (None, 12, 12, 192)          576       ['conv2d_137[0][0]']          \n",
      " atchNormalization)                                                                               \n",
      "                                                                                                  \n",
      " batch_normalization_142 (B  (None, 12, 12, 192)          576       ['conv2d_142[0][0]']          \n",
      " atchNormalization)                                                                               \n",
      "                                                                                                  \n",
      " batch_normalization_143 (B  (None, 12, 12, 192)          576       ['conv2d_143[0][0]']          \n",
      " atchNormalization)                                                                               \n",
      "                                                                                                  \n",
      " activation_134 (Activation  (None, 12, 12, 192)          0         ['batch_normalization_134[0][0\n",
      " )                                                                  ]']                           \n",
      "                                                                                                  \n",
      " activation_137 (Activation  (None, 12, 12, 192)          0         ['batch_normalization_137[0][0\n",
      " )                                                                  ]']                           \n",
      "                                                                                                  \n",
      " activation_142 (Activation  (None, 12, 12, 192)          0         ['batch_normalization_142[0][0\n",
      " )                                                                  ]']                           \n",
      "                                                                                                  \n",
      " activation_143 (Activation  (None, 12, 12, 192)          0         ['batch_normalization_143[0][0\n",
      " )                                                                  ]']                           \n",
      "                                                                                                  \n",
      " mixed5 (Concatenate)        (None, 12, 12, 768)          0         ['activation_134[0][0]',      \n",
      "                                                                     'activation_137[0][0]',      \n",
      "                                                                     'activation_142[0][0]',      \n",
      "                                                                     'activation_143[0][0]']      \n",
      "                                                                                                  \n",
      " conv2d_148 (Conv2D)         (None, 12, 12, 160)          122880    ['mixed5[0][0]']              \n",
      "                                                                                                  \n",
      " batch_normalization_148 (B  (None, 12, 12, 160)          480       ['conv2d_148[0][0]']          \n",
      " atchNormalization)                                                                               \n",
      "                                                                                                  \n",
      " activation_148 (Activation  (None, 12, 12, 160)          0         ['batch_normalization_148[0][0\n",
      " )                                                                  ]']                           \n",
      "                                                                                                  \n",
      " conv2d_149 (Conv2D)         (None, 12, 12, 160)          179200    ['activation_148[0][0]']      \n",
      "                                                                                                  \n",
      " batch_normalization_149 (B  (None, 12, 12, 160)          480       ['conv2d_149[0][0]']          \n",
      " atchNormalization)                                                                               \n",
      "                                                                                                  \n",
      " activation_149 (Activation  (None, 12, 12, 160)          0         ['batch_normalization_149[0][0\n",
      " )                                                                  ]']                           \n",
      "                                                                                                  \n",
      " conv2d_145 (Conv2D)         (None, 12, 12, 160)          122880    ['mixed5[0][0]']              \n",
      "                                                                                                  \n",
      " conv2d_150 (Conv2D)         (None, 12, 12, 160)          179200    ['activation_149[0][0]']      \n",
      "                                                                                                  \n",
      " batch_normalization_145 (B  (None, 12, 12, 160)          480       ['conv2d_145[0][0]']          \n",
      " atchNormalization)                                                                               \n",
      "                                                                                                  \n",
      " batch_normalization_150 (B  (None, 12, 12, 160)          480       ['conv2d_150[0][0]']          \n",
      " atchNormalization)                                                                               \n",
      "                                                                                                  \n",
      " activation_145 (Activation  (None, 12, 12, 160)          0         ['batch_normalization_145[0][0\n",
      " )                                                                  ]']                           \n",
      "                                                                                                  \n",
      " activation_150 (Activation  (None, 12, 12, 160)          0         ['batch_normalization_150[0][0\n",
      " )                                                                  ]']                           \n",
      "                                                                                                  \n",
      " conv2d_146 (Conv2D)         (None, 12, 12, 160)          179200    ['activation_145[0][0]']      \n",
      "                                                                                                  \n",
      " conv2d_151 (Conv2D)         (None, 12, 12, 160)          179200    ['activation_150[0][0]']      \n",
      "                                                                                                  \n",
      " batch_normalization_146 (B  (None, 12, 12, 160)          480       ['conv2d_146[0][0]']          \n",
      " atchNormalization)                                                                               \n",
      "                                                                                                  \n",
      " batch_normalization_151 (B  (None, 12, 12, 160)          480       ['conv2d_151[0][0]']          \n",
      " atchNormalization)                                                                               \n",
      "                                                                                                  \n",
      " activation_146 (Activation  (None, 12, 12, 160)          0         ['batch_normalization_146[0][0\n",
      " )                                                                  ]']                           \n",
      "                                                                                                  \n",
      " activation_151 (Activation  (None, 12, 12, 160)          0         ['batch_normalization_151[0][0\n",
      " )                                                                  ]']                           \n",
      "                                                                                                  \n",
      " average_pooling2d_14 (Aver  (None, 12, 12, 768)          0         ['mixed5[0][0]']              \n",
      " agePooling2D)                                                                                    \n",
      "                                                                                                  \n",
      " conv2d_144 (Conv2D)         (None, 12, 12, 192)          147456    ['mixed5[0][0]']              \n",
      "                                                                                                  \n",
      " conv2d_147 (Conv2D)         (None, 12, 12, 192)          215040    ['activation_146[0][0]']      \n",
      "                                                                                                  \n",
      " conv2d_152 (Conv2D)         (None, 12, 12, 192)          215040    ['activation_151[0][0]']      \n",
      "                                                                                                  \n",
      " conv2d_153 (Conv2D)         (None, 12, 12, 192)          147456    ['average_pooling2d_14[0][0]']\n",
      "                                                                                                  \n",
      " batch_normalization_144 (B  (None, 12, 12, 192)          576       ['conv2d_144[0][0]']          \n",
      " atchNormalization)                                                                               \n",
      "                                                                                                  \n",
      " batch_normalization_147 (B  (None, 12, 12, 192)          576       ['conv2d_147[0][0]']          \n",
      " atchNormalization)                                                                               \n",
      "                                                                                                  \n",
      " batch_normalization_152 (B  (None, 12, 12, 192)          576       ['conv2d_152[0][0]']          \n",
      " atchNormalization)                                                                               \n",
      "                                                                                                  \n",
      " batch_normalization_153 (B  (None, 12, 12, 192)          576       ['conv2d_153[0][0]']          \n",
      " atchNormalization)                                                                               \n",
      "                                                                                                  \n",
      " activation_144 (Activation  (None, 12, 12, 192)          0         ['batch_normalization_144[0][0\n",
      " )                                                                  ]']                           \n",
      "                                                                                                  \n",
      " activation_147 (Activation  (None, 12, 12, 192)          0         ['batch_normalization_147[0][0\n",
      " )                                                                  ]']                           \n",
      "                                                                                                  \n",
      " activation_152 (Activation  (None, 12, 12, 192)          0         ['batch_normalization_152[0][0\n",
      " )                                                                  ]']                           \n",
      "                                                                                                  \n",
      " activation_153 (Activation  (None, 12, 12, 192)          0         ['batch_normalization_153[0][0\n",
      " )                                                                  ]']                           \n",
      "                                                                                                  \n",
      " mixed6 (Concatenate)        (None, 12, 12, 768)          0         ['activation_144[0][0]',      \n",
      "                                                                     'activation_147[0][0]',      \n",
      "                                                                     'activation_152[0][0]',      \n",
      "                                                                     'activation_153[0][0]']      \n",
      "                                                                                                  \n",
      " conv2d_158 (Conv2D)         (None, 12, 12, 192)          147456    ['mixed6[0][0]']              \n",
      "                                                                                                  \n",
      " batch_normalization_158 (B  (None, 12, 12, 192)          576       ['conv2d_158[0][0]']          \n",
      " atchNormalization)                                                                               \n",
      "                                                                                                  \n",
      " activation_158 (Activation  (None, 12, 12, 192)          0         ['batch_normalization_158[0][0\n",
      " )                                                                  ]']                           \n",
      "                                                                                                  \n",
      " conv2d_159 (Conv2D)         (None, 12, 12, 192)          258048    ['activation_158[0][0]']      \n",
      "                                                                                                  \n",
      " batch_normalization_159 (B  (None, 12, 12, 192)          576       ['conv2d_159[0][0]']          \n",
      " atchNormalization)                                                                               \n",
      "                                                                                                  \n",
      " activation_159 (Activation  (None, 12, 12, 192)          0         ['batch_normalization_159[0][0\n",
      " )                                                                  ]']                           \n",
      "                                                                                                  \n",
      " conv2d_155 (Conv2D)         (None, 12, 12, 192)          147456    ['mixed6[0][0]']              \n",
      "                                                                                                  \n",
      " conv2d_160 (Conv2D)         (None, 12, 12, 192)          258048    ['activation_159[0][0]']      \n",
      "                                                                                                  \n",
      " batch_normalization_155 (B  (None, 12, 12, 192)          576       ['conv2d_155[0][0]']          \n",
      " atchNormalization)                                                                               \n",
      "                                                                                                  \n",
      " batch_normalization_160 (B  (None, 12, 12, 192)          576       ['conv2d_160[0][0]']          \n",
      " atchNormalization)                                                                               \n",
      "                                                                                                  \n",
      " activation_155 (Activation  (None, 12, 12, 192)          0         ['batch_normalization_155[0][0\n",
      " )                                                                  ]']                           \n",
      "                                                                                                  \n",
      " activation_160 (Activation  (None, 12, 12, 192)          0         ['batch_normalization_160[0][0\n",
      " )                                                                  ]']                           \n",
      "                                                                                                  \n",
      " conv2d_156 (Conv2D)         (None, 12, 12, 192)          258048    ['activation_155[0][0]']      \n",
      "                                                                                                  \n",
      " conv2d_161 (Conv2D)         (None, 12, 12, 192)          258048    ['activation_160[0][0]']      \n",
      "                                                                                                  \n",
      " batch_normalization_156 (B  (None, 12, 12, 192)          576       ['conv2d_156[0][0]']          \n",
      " atchNormalization)                                                                               \n",
      "                                                                                                  \n",
      " batch_normalization_161 (B  (None, 12, 12, 192)          576       ['conv2d_161[0][0]']          \n",
      " atchNormalization)                                                                               \n",
      "                                                                                                  \n",
      " activation_156 (Activation  (None, 12, 12, 192)          0         ['batch_normalization_156[0][0\n",
      " )                                                                  ]']                           \n",
      "                                                                                                  \n",
      " activation_161 (Activation  (None, 12, 12, 192)          0         ['batch_normalization_161[0][0\n",
      " )                                                                  ]']                           \n",
      "                                                                                                  \n",
      " average_pooling2d_15 (Aver  (None, 12, 12, 768)          0         ['mixed6[0][0]']              \n",
      " agePooling2D)                                                                                    \n",
      "                                                                                                  \n",
      " conv2d_154 (Conv2D)         (None, 12, 12, 192)          147456    ['mixed6[0][0]']              \n",
      "                                                                                                  \n",
      " conv2d_157 (Conv2D)         (None, 12, 12, 192)          258048    ['activation_156[0][0]']      \n",
      "                                                                                                  \n",
      " conv2d_162 (Conv2D)         (None, 12, 12, 192)          258048    ['activation_161[0][0]']      \n",
      "                                                                                                  \n",
      " conv2d_163 (Conv2D)         (None, 12, 12, 192)          147456    ['average_pooling2d_15[0][0]']\n",
      "                                                                                                  \n",
      " batch_normalization_154 (B  (None, 12, 12, 192)          576       ['conv2d_154[0][0]']          \n",
      " atchNormalization)                                                                               \n",
      "                                                                                                  \n",
      " batch_normalization_157 (B  (None, 12, 12, 192)          576       ['conv2d_157[0][0]']          \n",
      " atchNormalization)                                                                               \n",
      "                                                                                                  \n",
      " batch_normalization_162 (B  (None, 12, 12, 192)          576       ['conv2d_162[0][0]']          \n",
      " atchNormalization)                                                                               \n",
      "                                                                                                  \n",
      " batch_normalization_163 (B  (None, 12, 12, 192)          576       ['conv2d_163[0][0]']          \n",
      " atchNormalization)                                                                               \n",
      "                                                                                                  \n",
      " activation_154 (Activation  (None, 12, 12, 192)          0         ['batch_normalization_154[0][0\n",
      " )                                                                  ]']                           \n",
      "                                                                                                  \n",
      " activation_157 (Activation  (None, 12, 12, 192)          0         ['batch_normalization_157[0][0\n",
      " )                                                                  ]']                           \n",
      "                                                                                                  \n",
      " activation_162 (Activation  (None, 12, 12, 192)          0         ['batch_normalization_162[0][0\n",
      " )                                                                  ]']                           \n",
      "                                                                                                  \n",
      " activation_163 (Activation  (None, 12, 12, 192)          0         ['batch_normalization_163[0][0\n",
      " )                                                                  ]']                           \n",
      "                                                                                                  \n",
      " mixed7 (Concatenate)        (None, 12, 12, 768)          0         ['activation_154[0][0]',      \n",
      "                                                                     'activation_157[0][0]',      \n",
      "                                                                     'activation_162[0][0]',      \n",
      "                                                                     'activation_163[0][0]']      \n",
      "                                                                                                  \n",
      " conv2d_166 (Conv2D)         (None, 12, 12, 192)          147456    ['mixed7[0][0]']              \n",
      "                                                                                                  \n",
      " batch_normalization_166 (B  (None, 12, 12, 192)          576       ['conv2d_166[0][0]']          \n",
      " atchNormalization)                                                                               \n",
      "                                                                                                  \n",
      " activation_166 (Activation  (None, 12, 12, 192)          0         ['batch_normalization_166[0][0\n",
      " )                                                                  ]']                           \n",
      "                                                                                                  \n",
      " conv2d_167 (Conv2D)         (None, 12, 12, 192)          258048    ['activation_166[0][0]']      \n",
      "                                                                                                  \n",
      " batch_normalization_167 (B  (None, 12, 12, 192)          576       ['conv2d_167[0][0]']          \n",
      " atchNormalization)                                                                               \n",
      "                                                                                                  \n",
      " activation_167 (Activation  (None, 12, 12, 192)          0         ['batch_normalization_167[0][0\n",
      " )                                                                  ]']                           \n",
      "                                                                                                  \n",
      " conv2d_164 (Conv2D)         (None, 12, 12, 192)          147456    ['mixed7[0][0]']              \n",
      "                                                                                                  \n",
      " conv2d_168 (Conv2D)         (None, 12, 12, 192)          258048    ['activation_167[0][0]']      \n",
      "                                                                                                  \n",
      " batch_normalization_164 (B  (None, 12, 12, 192)          576       ['conv2d_164[0][0]']          \n",
      " atchNormalization)                                                                               \n",
      "                                                                                                  \n",
      " batch_normalization_168 (B  (None, 12, 12, 192)          576       ['conv2d_168[0][0]']          \n",
      " atchNormalization)                                                                               \n",
      "                                                                                                  \n",
      " activation_164 (Activation  (None, 12, 12, 192)          0         ['batch_normalization_164[0][0\n",
      " )                                                                  ]']                           \n",
      "                                                                                                  \n",
      " activation_168 (Activation  (None, 12, 12, 192)          0         ['batch_normalization_168[0][0\n",
      " )                                                                  ]']                           \n",
      "                                                                                                  \n",
      " conv2d_165 (Conv2D)         (None, 5, 5, 320)            552960    ['activation_164[0][0]']      \n",
      "                                                                                                  \n",
      " conv2d_169 (Conv2D)         (None, 5, 5, 192)            331776    ['activation_168[0][0]']      \n",
      "                                                                                                  \n",
      " batch_normalization_165 (B  (None, 5, 5, 320)            960       ['conv2d_165[0][0]']          \n",
      " atchNormalization)                                                                               \n",
      "                                                                                                  \n",
      " batch_normalization_169 (B  (None, 5, 5, 192)            576       ['conv2d_169[0][0]']          \n",
      " atchNormalization)                                                                               \n",
      "                                                                                                  \n",
      " activation_165 (Activation  (None, 5, 5, 320)            0         ['batch_normalization_165[0][0\n",
      " )                                                                  ]']                           \n",
      "                                                                                                  \n",
      " activation_169 (Activation  (None, 5, 5, 192)            0         ['batch_normalization_169[0][0\n",
      " )                                                                  ]']                           \n",
      "                                                                                                  \n",
      " max_pooling2d_7 (MaxPoolin  (None, 5, 5, 768)            0         ['mixed7[0][0]']              \n",
      " g2D)                                                                                             \n",
      "                                                                                                  \n",
      " mixed8 (Concatenate)        (None, 5, 5, 1280)           0         ['activation_165[0][0]',      \n",
      "                                                                     'activation_169[0][0]',      \n",
      "                                                                     'max_pooling2d_7[0][0]']     \n",
      "                                                                                                  \n",
      " conv2d_174 (Conv2D)         (None, 5, 5, 448)            573440    ['mixed8[0][0]']              \n",
      "                                                                                                  \n",
      " batch_normalization_174 (B  (None, 5, 5, 448)            1344      ['conv2d_174[0][0]']          \n",
      " atchNormalization)                                                                               \n",
      "                                                                                                  \n",
      " activation_174 (Activation  (None, 5, 5, 448)            0         ['batch_normalization_174[0][0\n",
      " )                                                                  ]']                           \n",
      "                                                                                                  \n",
      " conv2d_171 (Conv2D)         (None, 5, 5, 384)            491520    ['mixed8[0][0]']              \n",
      "                                                                                                  \n",
      " conv2d_175 (Conv2D)         (None, 5, 5, 384)            1548288   ['activation_174[0][0]']      \n",
      "                                                                                                  \n",
      " batch_normalization_171 (B  (None, 5, 5, 384)            1152      ['conv2d_171[0][0]']          \n",
      " atchNormalization)                                                                               \n",
      "                                                                                                  \n",
      " batch_normalization_175 (B  (None, 5, 5, 384)            1152      ['conv2d_175[0][0]']          \n",
      " atchNormalization)                                                                               \n",
      "                                                                                                  \n",
      " activation_171 (Activation  (None, 5, 5, 384)            0         ['batch_normalization_171[0][0\n",
      " )                                                                  ]']                           \n",
      "                                                                                                  \n",
      " activation_175 (Activation  (None, 5, 5, 384)            0         ['batch_normalization_175[0][0\n",
      " )                                                                  ]']                           \n",
      "                                                                                                  \n",
      " conv2d_172 (Conv2D)         (None, 5, 5, 384)            442368    ['activation_171[0][0]']      \n",
      "                                                                                                  \n",
      " conv2d_173 (Conv2D)         (None, 5, 5, 384)            442368    ['activation_171[0][0]']      \n",
      "                                                                                                  \n",
      " conv2d_176 (Conv2D)         (None, 5, 5, 384)            442368    ['activation_175[0][0]']      \n",
      "                                                                                                  \n",
      " conv2d_177 (Conv2D)         (None, 5, 5, 384)            442368    ['activation_175[0][0]']      \n",
      "                                                                                                  \n",
      " average_pooling2d_16 (Aver  (None, 5, 5, 1280)           0         ['mixed8[0][0]']              \n",
      " agePooling2D)                                                                                    \n",
      "                                                                                                  \n",
      " conv2d_170 (Conv2D)         (None, 5, 5, 320)            409600    ['mixed8[0][0]']              \n",
      "                                                                                                  \n",
      " batch_normalization_172 (B  (None, 5, 5, 384)            1152      ['conv2d_172[0][0]']          \n",
      " atchNormalization)                                                                               \n",
      "                                                                                                  \n",
      " batch_normalization_173 (B  (None, 5, 5, 384)            1152      ['conv2d_173[0][0]']          \n",
      " atchNormalization)                                                                               \n",
      "                                                                                                  \n",
      " batch_normalization_176 (B  (None, 5, 5, 384)            1152      ['conv2d_176[0][0]']          \n",
      " atchNormalization)                                                                               \n",
      "                                                                                                  \n",
      " batch_normalization_177 (B  (None, 5, 5, 384)            1152      ['conv2d_177[0][0]']          \n",
      " atchNormalization)                                                                               \n",
      "                                                                                                  \n",
      " conv2d_178 (Conv2D)         (None, 5, 5, 192)            245760    ['average_pooling2d_16[0][0]']\n",
      "                                                                                                  \n",
      " batch_normalization_170 (B  (None, 5, 5, 320)            960       ['conv2d_170[0][0]']          \n",
      " atchNormalization)                                                                               \n",
      "                                                                                                  \n",
      " activation_172 (Activation  (None, 5, 5, 384)            0         ['batch_normalization_172[0][0\n",
      " )                                                                  ]']                           \n",
      "                                                                                                  \n",
      " activation_173 (Activation  (None, 5, 5, 384)            0         ['batch_normalization_173[0][0\n",
      " )                                                                  ]']                           \n",
      "                                                                                                  \n",
      " activation_176 (Activation  (None, 5, 5, 384)            0         ['batch_normalization_176[0][0\n",
      " )                                                                  ]']                           \n",
      "                                                                                                  \n",
      " activation_177 (Activation  (None, 5, 5, 384)            0         ['batch_normalization_177[0][0\n",
      " )                                                                  ]']                           \n",
      "                                                                                                  \n",
      " batch_normalization_178 (B  (None, 5, 5, 192)            576       ['conv2d_178[0][0]']          \n",
      " atchNormalization)                                                                               \n",
      "                                                                                                  \n",
      " activation_170 (Activation  (None, 5, 5, 320)            0         ['batch_normalization_170[0][0\n",
      " )                                                                  ]']                           \n",
      "                                                                                                  \n",
      " mixed9_0 (Concatenate)      (None, 5, 5, 768)            0         ['activation_172[0][0]',      \n",
      "                                                                     'activation_173[0][0]']      \n",
      "                                                                                                  \n",
      " concatenate_2 (Concatenate  (None, 5, 5, 768)            0         ['activation_176[0][0]',      \n",
      " )                                                                   'activation_177[0][0]']      \n",
      "                                                                                                  \n",
      " activation_178 (Activation  (None, 5, 5, 192)            0         ['batch_normalization_178[0][0\n",
      " )                                                                  ]']                           \n",
      "                                                                                                  \n",
      " mixed9 (Concatenate)        (None, 5, 5, 2048)           0         ['activation_170[0][0]',      \n",
      "                                                                     'mixed9_0[0][0]',            \n",
      "                                                                     'concatenate_2[0][0]',       \n",
      "                                                                     'activation_178[0][0]']      \n",
      "                                                                                                  \n",
      " conv2d_183 (Conv2D)         (None, 5, 5, 448)            917504    ['mixed9[0][0]']              \n",
      "                                                                                                  \n",
      " batch_normalization_183 (B  (None, 5, 5, 448)            1344      ['conv2d_183[0][0]']          \n",
      " atchNormalization)                                                                               \n",
      "                                                                                                  \n",
      " activation_183 (Activation  (None, 5, 5, 448)            0         ['batch_normalization_183[0][0\n",
      " )                                                                  ]']                           \n",
      "                                                                                                  \n",
      " conv2d_180 (Conv2D)         (None, 5, 5, 384)            786432    ['mixed9[0][0]']              \n",
      "                                                                                                  \n",
      " conv2d_184 (Conv2D)         (None, 5, 5, 384)            1548288   ['activation_183[0][0]']      \n",
      "                                                                                                  \n",
      " batch_normalization_180 (B  (None, 5, 5, 384)            1152      ['conv2d_180[0][0]']          \n",
      " atchNormalization)                                                                               \n",
      "                                                                                                  \n",
      " batch_normalization_184 (B  (None, 5, 5, 384)            1152      ['conv2d_184[0][0]']          \n",
      " atchNormalization)                                                                               \n",
      "                                                                                                  \n",
      " activation_180 (Activation  (None, 5, 5, 384)            0         ['batch_normalization_180[0][0\n",
      " )                                                                  ]']                           \n",
      "                                                                                                  \n",
      " activation_184 (Activation  (None, 5, 5, 384)            0         ['batch_normalization_184[0][0\n",
      " )                                                                  ]']                           \n",
      "                                                                                                  \n",
      " conv2d_181 (Conv2D)         (None, 5, 5, 384)            442368    ['activation_180[0][0]']      \n",
      "                                                                                                  \n",
      " conv2d_182 (Conv2D)         (None, 5, 5, 384)            442368    ['activation_180[0][0]']      \n",
      "                                                                                                  \n",
      " conv2d_185 (Conv2D)         (None, 5, 5, 384)            442368    ['activation_184[0][0]']      \n",
      "                                                                                                  \n",
      " conv2d_186 (Conv2D)         (None, 5, 5, 384)            442368    ['activation_184[0][0]']      \n",
      "                                                                                                  \n",
      " average_pooling2d_17 (Aver  (None, 5, 5, 2048)           0         ['mixed9[0][0]']              \n",
      " agePooling2D)                                                                                    \n",
      "                                                                                                  \n",
      " conv2d_179 (Conv2D)         (None, 5, 5, 320)            655360    ['mixed9[0][0]']              \n",
      "                                                                                                  \n",
      " batch_normalization_181 (B  (None, 5, 5, 384)            1152      ['conv2d_181[0][0]']          \n",
      " atchNormalization)                                                                               \n",
      "                                                                                                  \n",
      " batch_normalization_182 (B  (None, 5, 5, 384)            1152      ['conv2d_182[0][0]']          \n",
      " atchNormalization)                                                                               \n",
      "                                                                                                  \n",
      " batch_normalization_185 (B  (None, 5, 5, 384)            1152      ['conv2d_185[0][0]']          \n",
      " atchNormalization)                                                                               \n",
      "                                                                                                  \n",
      " batch_normalization_186 (B  (None, 5, 5, 384)            1152      ['conv2d_186[0][0]']          \n",
      " atchNormalization)                                                                               \n",
      "                                                                                                  \n",
      " conv2d_187 (Conv2D)         (None, 5, 5, 192)            393216    ['average_pooling2d_17[0][0]']\n",
      "                                                                                                  \n",
      " batch_normalization_179 (B  (None, 5, 5, 320)            960       ['conv2d_179[0][0]']          \n",
      " atchNormalization)                                                                               \n",
      "                                                                                                  \n",
      " activation_181 (Activation  (None, 5, 5, 384)            0         ['batch_normalization_181[0][0\n",
      " )                                                                  ]']                           \n",
      "                                                                                                  \n",
      " activation_182 (Activation  (None, 5, 5, 384)            0         ['batch_normalization_182[0][0\n",
      " )                                                                  ]']                           \n",
      "                                                                                                  \n",
      " activation_185 (Activation  (None, 5, 5, 384)            0         ['batch_normalization_185[0][0\n",
      " )                                                                  ]']                           \n",
      "                                                                                                  \n",
      " activation_186 (Activation  (None, 5, 5, 384)            0         ['batch_normalization_186[0][0\n",
      " )                                                                  ]']                           \n",
      "                                                                                                  \n",
      " batch_normalization_187 (B  (None, 5, 5, 192)            576       ['conv2d_187[0][0]']          \n",
      " atchNormalization)                                                                               \n",
      "                                                                                                  \n",
      " activation_179 (Activation  (None, 5, 5, 320)            0         ['batch_normalization_179[0][0\n",
      " )                                                                  ]']                           \n",
      "                                                                                                  \n",
      " mixed9_1 (Concatenate)      (None, 5, 5, 768)            0         ['activation_181[0][0]',      \n",
      "                                                                     'activation_182[0][0]']      \n",
      "                                                                                                  \n",
      " concatenate_3 (Concatenate  (None, 5, 5, 768)            0         ['activation_185[0][0]',      \n",
      " )                                                                   'activation_186[0][0]']      \n",
      "                                                                                                  \n",
      " activation_187 (Activation  (None, 5, 5, 192)            0         ['batch_normalization_187[0][0\n",
      " )                                                                  ]']                           \n",
      "                                                                                                  \n",
      " mixed10 (Concatenate)       (None, 5, 5, 2048)           0         ['activation_179[0][0]',      \n",
      "                                                                     'mixed9_1[0][0]',            \n",
      "                                                                     'concatenate_3[0][0]',       \n",
      "                                                                     'activation_187[0][0]']      \n",
      "                                                                                                  \n",
      " flatten_1 (Flatten)         (None, 51200)                0         ['mixed10[0][0]']             \n",
      "                                                                                                  \n",
      " dense_2 (Dense)             (None, 10)                   512010    ['flatten_1[0][0]']           \n",
      "                                                                                                  \n",
      " dense_3 (Dense)             (None, 2048)                 22528     ['dense_2[0][0]']             \n",
      "                                                                                                  \n",
      "==================================================================================================\n",
      "Total params: 22337322 (85.21 MB)\n",
      "Trainable params: 534538 (2.04 MB)\n",
      "Non-trainable params: 21802784 (83.17 MB)\n",
      "__________________________________________________________________________________________________\n"
     ]
    }
   ],
   "source": [
    "features_encoder = get_features_encoder()               # Get the feature encoder model using the defined function\n",
    "\n",
    "print(len(features_encoder.layers))                     # Print the number of layers in the feature encoder model\n",
    "\n",
    "features_encoder.summary()                              # Display a summary of the feature encoder model, showing its architecture and parameters"
   ]
  },
  {
   "cell_type": "code",
   "execution_count": 13,
   "metadata": {},
   "outputs": [
    {
     "name": "stdout",
     "output_type": "stream",
     "text": [
      "WARNING:tensorflow:Compiled the loaded model, but the compiled metrics have yet to be built. `model.compile_metrics` will be empty until you train or evaluate the model.\n"
     ]
    }
   ],
   "source": [
    "features_encoder.save('features_encoder.h5')            # Save the feature encoder model to a file named 'features_encoder.h5'"
   ]
  },
  {
   "cell_type": "code",
   "execution_count": 14,
   "metadata": {},
   "outputs": [
    {
     "name": "stdout",
     "output_type": "stream",
     "text": [
      "WARNING:tensorflow:No training configuration found in the save file, so the model was *not* compiled. Compile it manually.\n"
     ]
    }
   ],
   "source": [
    "features_encoder = load_model('features_encoder.h5')    # Load the feature encoder model from the file 'features_encoder.h5'"
   ]
  },
  {
   "cell_type": "markdown",
   "metadata": {},
   "source": [
    "## Load the images of Flicker8k dataset and Extract the features"
   ]
  },
  {
   "cell_type": "code",
   "execution_count": 15,
   "metadata": {},
   "outputs": [],
   "source": [
    "datadir=r'C:\\Users\\3tia Al Hasawy\\Desktop\\AMIT\\New folder\\Images'  # path of image's folder\n",
    "\n",
    "features=dict()                                         # Create features dictionary to save the features of the images with their ids as keys\n",
    "\n",
    "for img in (os.listdir(datadir)):                   # Loop in image's folder to get each image name\n",
    "    \n",
    "    img_path=os.path.join(datadir,img)                  # Join folder path to the name of each image \n",
    "    image=cv2.imread(img_path)                          # Read each image by its path\n",
    "    image=cv2.resize(image,(224,224))                   # Resize each image to (224,224)\n",
    "    image=img_to_array(image)                           # Ronvert each image to array\n",
    "    image=image.reshape((-1,224,224,3))                 # Reshape each image \n",
    "    image=preprocess_input(image)                       # Preprocess each image to inceptionV3 model\n",
    "    feature=features_encoder.predict(image,verbose=0)   # Predict the feature of each image\n",
    "    image_id=img.split('.')[0]                          # Get the id of each image by its name\n",
    "    features[image_id]=feature                          # Save each feature of image by its id in the dictionary"
   ]
  },
  {
   "cell_type": "code",
   "execution_count": 16,
   "metadata": {},
   "outputs": [],
   "source": [
    "pickle.dump(features,open('features.pkl','wb'))         # Save the features of images"
   ]
  },
  {
   "cell_type": "code",
   "execution_count": 17,
   "metadata": {},
   "outputs": [],
   "source": [
    "file = open('features.pkl', 'rb')                       # Open the file 'features.pkl' for reading in binary mode\n",
    "\n",
    "features = pickle.load(file)                            # Load the data from the file using pickle and store it in the variable 'features'"
   ]
  },
  {
   "cell_type": "markdown",
   "metadata": {},
   "source": [
    "## Load the captions from the text file"
   ]
  },
  {
   "cell_type": "code",
   "execution_count": 18,
   "metadata": {},
   "outputs": [],
   "source": [
    "def read_file(file_path):                               # Function for read images IDs and its captions\n",
    "    \n",
    "    file = open(file_path, 'r')                         # Open the file specified by file_path for reading\n",
    "    lines = file.readlines()                            # Read all lines from the file\n",
    "    string_lines = [str(i).strip('\\n') for i in lines]  # Remove the newline character ('\\n') from each line and convert to string\n",
    "    string_lines = string_lines[1:]                     # Exclude the first line (header) from the list of string lines\n",
    "    img_ids = [i.split(',')[0].split('.')[0] for i in string_lines] # Extract image IDs and captions from the string lines\n",
    "    captions = [y.split(',')[1] for y in string_lines]\n",
    "    \n",
    "    return img_ids, captions                            # Return the extracted image IDs and captions"
   ]
  },
  {
   "cell_type": "code",
   "execution_count": 19,
   "metadata": {},
   "outputs": [],
   "source": [
    "captions_file=r'C:\\Users\\3tia Al Hasawy\\Desktop\\AMIT\\captions.txt' # Read the captions and the image's id of each caption \n",
    "img_ids, captions=read_file(captions_file)"
   ]
  },
  {
   "cell_type": "code",
   "execution_count": 20,
   "metadata": {},
   "outputs": [
    {
     "name": "stdout",
     "output_type": "stream",
     "text": [
      "1000268201_693b08cb0e\n",
      "A child in a pink dress is climbing up a set of stairs in an entry way .\n"
     ]
    }
   ],
   "source": [
    "print(img_ids[0])                                      # Print the first element of the list img_ids\n",
    "\n",
    "print(captions[0])                                     # Print the first element of the list captions"
   ]
  },
  {
   "cell_type": "code",
   "execution_count": 21,
   "metadata": {},
   "outputs": [],
   "source": [
    "mapping = dict()                                       # Create an empty dictionary to store mappings between image IDs and captions\n",
    "\n",
    "for i, y in zip(img_ids, captions):                    # Iterate through pairs of image IDs and captions\n",
    "    if i not in mapping:                               # Check if the image ID is not already in the mapping dictionary\n",
    "        mapping[i] = []                                # If not, create a new entry with the image ID as the key and an empty list as the value\n",
    "    mapping[i].append(y)                               # Append the current caption to the list of captions for the corresponding image ID"
   ]
  },
  {
   "cell_type": "code",
   "execution_count": 22,
   "metadata": {},
   "outputs": [
    {
     "data": {
      "text/plain": [
       "['A child in a pink dress is climbing up a set of stairs in an entry way .',\n",
       " 'A girl going into a wooden building .',\n",
       " 'A little girl climbing into a wooden playhouse .',\n",
       " 'A little girl climbing the stairs to her playhouse .',\n",
       " 'A little girl in a pink dress going into a wooden cabin .']"
      ]
     },
     "execution_count": 22,
     "metadata": {},
     "output_type": "execute_result"
    }
   ],
   "source": [
    "mapping[img_ids[0]]                                    # Retrieve the list of captions associated with the first image ID in the img_ids list"
   ]
  },
  {
   "cell_type": "markdown",
   "metadata": {},
   "source": [
    "## Preprocessing for each caption"
   ]
  },
  {
   "cell_type": "code",
   "execution_count": 23,
   "metadata": {},
   "outputs": [],
   "source": [
    "def preprocessing(caption):                            # For cleaning caption\n",
    "    \n",
    "    caption = re.sub(\"[^A-Za-z]\", \" \", caption)        # Remove non-alphabetic characters and replace with space\n",
    "    caption = re.sub(\"(\\?|!)+\", \" \", caption)          # Remove consecutive question marks or exclamation marks and replace with space\n",
    "    caption = re.sub(\"\\s\\d+\\s\", \"\", caption)           # Remove single digits surrounded by spaces\n",
    "    caption = re.sub(\"(\\.|\\,)+\", \"\", caption)          # Remove periods and commas\n",
    "    caption = re.sub(\"^\\s+\", \"\", caption)              # Remove leading and trailing white spaces\n",
    "    caption = re.sub(\"\\s+$\", \"\", caption)\n",
    "    \n",
    "    for word in caption.split():                       # Iterate through each word in the caption\n",
    "        \n",
    "        if word not in string.punctuation:             # Check if the word is not a punctuation mark\n",
    "            new_word = word.lower()                    # Make all words in lowercase\n",
    "            caption.replace(word, new_word)            # Replace the original word with the lowercase version\n",
    "            \n",
    "        else:\n",
    "            caption.replace(word, '')                  # Remove punctuation marks from the caption\n",
    "    \n",
    "    caption = \"startsen \" + \" \".join([word for word in caption.split() if len]) + \" endsen\"   # Add start and end tokens to the caption\n",
    "    \n",
    "    return caption                                     # Return the caption after preprocessing"
   ]
  },
  {
   "cell_type": "code",
   "execution_count": 24,
   "metadata": {},
   "outputs": [],
   "source": [
    "for key, captions in mapping.items():                 # Iterate through each key-value pair in the mapping dictionary\n",
    "    \n",
    "    for i in range(len(captions)):                    # Iterate through each caption associated with the current key\n",
    "        \n",
    "        caption = preprocessing(captions[i])          # Preprocess the current caption using the preprocessing function\n",
    "        captions[i] = caption                         # Replace the original caption with the preprocessed one"
   ]
  },
  {
   "cell_type": "code",
   "execution_count": 25,
   "metadata": {},
   "outputs": [
    {
     "data": {
      "text/plain": [
       "['startsen A child in a pink dress is climbing up a set of stairs in an entry way endsen',\n",
       " 'startsen A girl going into a wooden building endsen',\n",
       " 'startsen A little girl climbing into a wooden playhouse endsen',\n",
       " 'startsen A little girl climbing the stairs to her playhouse endsen',\n",
       " 'startsen A little girl in a pink dress going into a wooden cabin endsen']"
      ]
     },
     "execution_count": 25,
     "metadata": {},
     "output_type": "execute_result"
    }
   ],
   "source": [
    "mapping[img_ids[0]] "
   ]
  },
  {
   "cell_type": "markdown",
   "metadata": {},
   "source": [
    "## Create list of all captions in mapping dictionary"
   ]
  },
  {
   "cell_type": "code",
   "execution_count": 26,
   "metadata": {},
   "outputs": [],
   "source": [
    "all_captions = []                                     # Create an empty list to store all captions\n",
    "\n",
    "for key in mapping:                                   # Iterate through each key in the mapping dictionary \n",
    "    for caption in mapping[key]:                      # Iterate through each caption associated with the current key\n",
    "        all_captions.append(caption)                  # Append the current caption to the list of all captions"
   ]
  },
  {
   "cell_type": "code",
   "execution_count": 27,
   "metadata": {},
   "outputs": [
    {
     "name": "stdout",
     "output_type": "stream",
     "text": [
      "40455\n"
     ]
    }
   ],
   "source": [
    "print(len(all_captions))                              # Print the total number of captions collected"
   ]
  },
  {
   "cell_type": "markdown",
   "metadata": {},
   "source": [
    "## Tokenize and Convert each caption to sequence "
   ]
  },
  {
   "cell_type": "code",
   "execution_count": 28,
   "metadata": {},
   "outputs": [],
   "source": [
    "tokenizer = Tokenizer()                               # Initialize a Tokenizer object and fit it on all captions\n",
    "tokenizer.fit_on_texts(all_captions)\n",
    "\n",
    "vocab_size = len(tokenizer.word_index) + 1           # Determine the vocabulary size by adding 1 to the number of unique words in the tokenizer's word index\n",
    "\n",
    "max_length = max(len(caption.split()) for caption in all_captions) # Determine the maximum length of captions by finding the length of the longest caption\n",
    "\n",
    "\n",
    "sequences = tokenizer.texts_to_sequences(all_captions)# Convert the captions to sequences of integers\n",
    "\n",
    "sequences = pad_sequences(sequences)                  # Pad the sequences to ensure uniform length"
   ]
  },
  {
   "cell_type": "code",
   "execution_count": 29,
   "metadata": {},
   "outputs": [
    {
     "name": "stdout",
     "output_type": "stream",
     "text": [
      "vocab size : 8276\n",
      "max length : 35\n",
      "[   0    0    0    0    0    0    0    0    0    0    0    0    0    0\n",
      "    0    0    2    1   43    4    1   88  172    7  115   51    1  388\n",
      "   12  384    4   28 5003  669    3]\n"
     ]
    }
   ],
   "source": [
    "print(\"vocab size : \" + str(vocab_size))              # Print the vocabulary size\n",
    "print(\"max length : \" + str(max_length))              # Print maximum caption length\n",
    "\n",
    "print(sequences[0])                                   # Print the sequence of integers representing the first caption in the sequences"
   ]
  },
  {
   "cell_type": "code",
   "execution_count": 30,
   "metadata": {},
   "outputs": [],
   "source": [
    "pickle.dump(tokenizer,open('tokenizer.pkl','wb'))     #save the tokenizer of captions"
   ]
  },
  {
   "cell_type": "code",
   "execution_count": 31,
   "metadata": {},
   "outputs": [],
   "source": [
    " file=open('tokenizer.pkl','rb')                      #load the tokenizer of captions from the saved file\n",
    "tokenizer=pickle.load(file)    "
   ]
  },
  {
   "cell_type": "code",
   "execution_count": 32,
   "metadata": {},
   "outputs": [],
   "source": [
    "pickle.dump(max_length,open('max_length.pkl','wb'))   #save the max length of captions"
   ]
  },
  {
   "cell_type": "code",
   "execution_count": 33,
   "metadata": {},
   "outputs": [],
   "source": [
    " file=open('max_length.pkl','rb')                     #load the max length of captions from the saved file\n",
    "max_length=pickle.load(file)   "
   ]
  },
  {
   "cell_type": "markdown",
   "metadata": {},
   "source": [
    "## Train and Test split"
   ]
  },
  {
   "cell_type": "code",
   "execution_count": 34,
   "metadata": {},
   "outputs": [],
   "source": [
    "images_ids=list(mapping.keys())\n",
    "\n",
    "images_ids_train=images_ids[:7000]\n",
    "images_ids_test=images_ids[7000:]\n",
    "\n",
    "train_captions=all_captions[:35000]\n",
    "test_captions=all_captions[35000:]"
   ]
  },
  {
   "cell_type": "markdown",
   "metadata": {},
   "source": [
    "## Create data generator"
   ]
  },
  {
   "cell_type": "code",
   "execution_count": 35,
   "metadata": {},
   "outputs": [],
   "source": [
    "features_train_lst=[]                                      # create train features list\n",
    "features_test_lst = []                                     # create test features list\n",
    "\n",
    "for key in images_ids_train:                               # get image ID\n",
    "    for i in range(5):                                     # multiply each feature by 5\n",
    "        features_train_lst.append(features[key])           # append features to train features list\n",
    "\n",
    "for key in images_ids_test:                                # get image ID\n",
    "    for i in range(5):                                     # multiply each feature by 5\n",
    "        features_test_lst.append(features[key])            # append features to test features list"
   ]
  },
  {
   "cell_type": "code",
   "execution_count": 36,
   "metadata": {},
   "outputs": [
    {
     "name": "stdout",
     "output_type": "stream",
     "text": [
      "35000\n"
     ]
    }
   ],
   "source": [
    "print(len(features_train_lst))                             # ptint number of features"
   ]
  },
  {
   "cell_type": "code",
   "execution_count": 37,
   "metadata": {},
   "outputs": [
    {
     "name": "stdout",
     "output_type": "stream",
     "text": [
      "5455\n"
     ]
    }
   ],
   "source": [
    "print(len(features_test_lst))                              # ptint number of features"
   ]
  },
  {
   "cell_type": "code",
   "execution_count": 38,
   "metadata": {},
   "outputs": [],
   "source": [
    "lengths_of_caps_train = []                                 # create a list of train captions length\n",
    "lengths_of_caps_test=[]                                    # create a list of test captions length\n",
    "\n",
    "for caption in train_captions:                             # get image captions\n",
    "    length_caption = len(caption.split()) - 1              # calculate each caption length\n",
    "    lengths_of_caps_train.append(length_caption)           # append each caption length\n",
    "\n",
    "for caption in test_captions:                              # get image captions\n",
    "    length_caption=len(caption.split()) - 1                # calculate each caption length\n",
    "    lengths_of_caps_test.append(length_caption)            # append each caption length"
   ]
  },
  {
   "cell_type": "code",
   "execution_count": 39,
   "metadata": {
    "scrolled": true
   },
   "outputs": [
    {
     "name": "stdout",
     "output_type": "stream",
     "text": [
      "[18, 8, 9, 10, 13, 10, 16, 19, 13, 9, 20, 13, 21, 14, 10, 13, 15, 18, 12, 12, 10, 9, 12, 12, 13, 8, 8, 13, 12, 12, 17, 11, 9, 16, 12, 9, 15, 7, 14, 15, 13, 20, 8, 20, 20, 8, 10, 9, 16, 8, 11, 8, 6, 13, 14, 17, 12, 14, 13, 12, 9, 13, 12, 15, 20, 13, 8, 12, 8, 12, 15, 14, 12, 15, 9, 14, 12, 11, 16, 14, 14, 19, 10, 18, 10, 6, 12, 14, 17, 11, 8, 10, 7, 8, 10, 9, 12, 12, 8, 6, 13, 12, 10, 8, 10, 11, 17, 8, 12, 6, 17, 9, 11, 12, 13, 13, 16, 9, 11, 7, 16, 16, 19, 13, 20, 13, 13, 11, 19, 10, 19, 16, 8, 15, 19, 10, 16, 15, 3, 13, 10, 12, 16, 7, 13, 10, 9, 11, 12, 17, 12, 8, 12, 10, 10, 11, 11, 11, 7, 10, 14, 9, 17, 10, 18, 14, 24, 8, 9, 17, 10, 14, 11, 20, 11, 13, 12, 12, 7, 12, 16, 18, 17, 12, 3, 8, 7, 9, 6, 13, 10, 7, 13, 9, 10, 12, 9, 12, 6, 8, 11, 13, 9, 11, 8, 8, 3, 7, 13, 10, 14, 11, 8, 19, 15, 11, 11, 13, 14, 9, 14, 10, 7, 11, 16, 12, 12, 14, 13, 13, 11, 13, 10, 11, 11, 9, 9, 9, 10, 8, 11, 10, 16, 6, 11, 12, 13, 9, 11, 7, 20, 11, 11, 14, 8, 11, 13, 12, 23, 14, 13, 10, 10, 9, 10, 11, 7, 12, 13, 14, 8, 11, 10, 6, 12, 12, 15, 13, 10, 10, 13, 10, 15, 10, 13, 19, 17, 11, 9, 8, 9, 11, 7, 13, 11, 13, 23, 12, 13, 17, 17, 20, 25, 15, 5, 15, 5, 9, 15, 7, 20, 10, 11, 3, 9, 3, 18, 13, 14, 6, 13, 12, 10, 13, 11, 15, 9, 10, 16, 11, 21, 14, 8, 7, 7, 15, 8, 10, 14, 13, 11, 8, 9, 11, 12, 17, 16, 15, 27, 21, 9, 12, 9, 9, 11, 11, 10, 7, 9, 8, 9, 8, 8, 10, 5, 12, 14, 14, 14, 11, 23, 13, 13, 15, 13, 10, 16, 10, 14, 12, 12, 6, 13, 8, 12, 7, 10, 14, 7, 9, 10, 15, 9, 12, 12, 19, 10, 16, 10, 23, 11, 9, 7, 11, 9, 7, 7, 7, 8, 14, 8, 11, 9, 14, 14, 15, 6, 15, 8, 5, 19, 12, 13, 13, 14, 12, 19, 13, 9, 11, 5, 7, 6, 9, 8, 7, 11, 19, 11, 9, 13, 12, 12, 11, 7, 9, 7, 19, 8, 8, 7, 11, 12, 6, 14, 5, 17, 7, 11, 10, 9, 12, 13, 7, 7, 11, 12, 14, 22, 8, 15, 19, 11, 11, 13, 7, 11, 11, 17, 10, 6, 8, 7, 18, 11, 14, 16, 12, 6, 11, 10, 11, 10, 9, 11, 14, 12, 10, 11, 8, 15, 19, 16, 8, 14, 11, 9, 8, 15, 8, 12, 11, 8, 18, 10, 7, 9, 6, 5, 17, 18, 7, 8, 10, 11, 10, 7, 10, 11, 13, 12, 14, 8, 14, 8, 13, 10, 13, 13, 15, 9, 8, 8, 8, 8, 8, 14, 10, 13, 7, 12, 9, 13, 9, 12, 11, 3, 3, 7, 14, 10, 7, 13, 8, 8, 8, 8, 10, 13, 9, 12, 9, 9, 10, 11, 19, 11, 11, 16, 13, 15, 17, 11, 17, 10, 11, 20, 13, 10, 6, 19, 10, 10, 13, 11, 6, 8, 17, 9, 11, 14, 15, 15, 4, 8, 14, 7, 7, 8, 7, 14, 11, 9, 11, 9, 8, 12, 4, 15, 8, 11, 10, 15, 10, 10, 13, 13, 16, 12, 11, 8, 9, 9, 9, 11, 14, 28, 23, 15, 12, 12, 9, 11, 6, 4, 10, 18, 8, 11, 15, 16, 21, 10, 11, 19, 7, 17, 12, 14, 15, 8, 16, 20, 18, 13, 12, 12, 14, 8, 14, 8, 17, 8, 9, 14, 8, 9, 10, 14, 12, 9, 18, 12, 14, 9, 13, 11, 13, 9, 21, 7, 6, 8, 8, 6, 19, 14, 12, 13, 14, 14, 10, 14, 12, 8, 12, 8, 17, 9, 8, 9, 12, 15, 9, 11, 11, 16, 10, 9, 17, 12, 8, 6, 13, 11, 18, 11, 9, 8, 13, 13, 10, 13, 13, 18, 15, 9, 13, 10, 10, 8, 16, 18, 14, 10, 10, 12, 17, 15, 12, 14, 9, 3, 13, 7, 23, 14, 11, 12, 13, 7, 11, 12, 14, 10, 6, 14, 16, 5, 10, 14, 16, 12, 14, 9, 14, 12, 9, 8, 10, 15, 12, 3, 11, 11, 10, 15, 12, 10, 14, 10, 13, 11, 10, 14, 4, 10, 8, 10, 10, 12, 10, 8, 11, 10, 10, 13, 14, 7, 12, 8, 15, 7, 10, 7, 10, 6, 11, 9, 7, 7, 11, 14, 3, 8, 15, 14, 10, 13, 10, 8, 16, 16, 17, 8, 10, 10, 14, 8, 11, 14, 13, 17, 14, 14, 13, 9, 12, 16, 11, 10, 12, 17, 11, 6, 8, 8, 12, 30, 24, 9, 10, 11, 15, 11, 7, 3, 12, 11, 10, 11, 26, 18, 8, 16, 13, 14, 16, 8, 5, 18, 18, 19, 12, 13, 10, 10, 3, 9, 9, 11, 13, 12, 10, 7, 10, 9, 9, 13, 14, 8, 8, 9, 13, 6, 13, 10, 8, 15, 8, 7, 11, 17, 12, 15, 10, 17, 8, 10, 10, 12, 16, 9, 7, 9, 12, 12, 9, 9, 14, 12, 17, 8, 19, 11, 8, 12, 13, 14, 20, 9, 6, 12, 9, 10, 6, 15, 14, 16, 7, 8, 8, 10, 11, 11, 16, 5, 9, 13, 8, 8, 13, 19, 10, 7, 14, 12, 15, 15, 16, 11, 13, 8, 12, 7, 13, 14, 14, 9, 13, 9, 8, 8, 19, 9, 8, 10, 11, 13, 4, 13, 8, 22, 10, 16, 11, 15, 17, 11, 14, 13, 12, 13, 9, 12, 10, 12, 8, 10, 8, 13, 7, 13, 10, 12, 16, 13, 10, 12, 12, 7, 10, 12, 7, 12, 11, 17, 11, 12, 14, 15, 14, 15, 13, 11, 10, 11, 10, 9, 11, 11, 8, 7, 5, 11, 17, 12, 11, 12, 11, 16, 11, 17, 8, 13, 11, 13, 17, 10, 11, 18, 17, 14, 11, 15, 12, 18, 10, 14, 15, 7, 10, 7, 9, 3, 16, 21, 6, 10, 3, 15, 16, 17, 10, 11, 7, 8, 18, 19, 14, 15, 13, 8, 18, 17, 14, 7, 6, 5, 11, 8, 7, 9, 8, 11, 12, 12, 12, 20, 13, 19, 18, 25, 17, 16, 6, 21, 15, 17, 16, 13, 12, 17, 8, 15, 13, 15, 15, 13, 5, 10, 13, 17, 9, 14, 12, 15, 15, 11, 13, 12, 13, 13, 8, 6, 14, 8, 11, 5, 8, 14, 10, 12, 14, 8, 11, 10, 11, 10, 9, 18, 5, 13, 13, 11, 10, 15, 11, 14, 9, 14, 14, 10, 7, 19, 17, 11, 11, 12, 11, 6, 8, 5, 10, 9, 20, 4, 4, 15, 12, 11, 8, 15, 22, 12, 11, 7, 9, 8, 17, 7, 11, 7, 13, 9, 9, 14, 13, 11, 13, 19, 12, 9, 15, 5, 9, 10, 13, 19, 11, 15, 9, 9, 11, 11, 6, 17, 11, 12, 14, 8, 11, 12, 9, 10, 10, 12, 3, 7, 7, 16, 11, 10, 18, 10, 11, 9, 3, 11, 19, 11, 15, 10, 13, 9, 10, 12, 11, 12, 14, 20, 16, 10, 13, 18, 11, 12, 12, 11, 9, 18, 21, 20, 16, 13, 11, 10, 10, 10, 19, 11, 15, 21, 11, 13, 10, 7, 14, 16, 7, 13, 10, 14, 18, 11, 8, 8, 8, 5, 11, 20, 12, 12, 15, 17, 11, 12, 12, 10, 13, 6, 14, 9, 4, 14, 16, 12, 9, 7, 9, 12, 8, 13, 12, 10, 34, 17, 16, 11, 7, 7, 12, 9, 12, 8, 19, 10, 16, 13, 17, 11, 12, 19, 21, 21, 14, 10, 8, 14, 9, 17, 11, 13, 13, 17, 9, 8, 15, 10, 10, 11, 11, 9, 12, 11, 9, 12, 14, 12, 12, 16, 11, 15, 14, 10, 15, 8, 4, 11, 8, 10, 7, 15, 8, 10, 12, 11, 12, 14, 11, 12, 7, 7, 12, 8, 24, 14, 8, 9, 10, 15, 11, 20, 16, 11, 11, 12, 10, 7, 7, 11, 10, 6, 17, 10, 9, 15, 9, 9, 7, 13, 16, 20, 24, 14, 15, 17, 15, 3, 9, 8, 10, 16, 14, 12, 8, 14, 13, 9, 12, 19, 15, 12, 11, 10, 7, 12, 12, 15, 12, 10, 9, 10, 10, 11, 11, 10, 15, 9, 9, 17, 17, 14, 15, 19, 10, 14, 3, 11, 10, 17, 16, 8, 13, 16, 13, 10, 10, 13, 20, 9, 11, 16, 14, 29, 11, 16, 8, 7, 13, 7, 14, 18, 18, 14, 19, 5, 6, 7, 12, 14, 12, 15, 7, 7, 8, 7, 10, 12, 22, 11, 10, 13, 10, 14, 7, 7, 19, 7, 9, 18, 11, 13, 14, 13, 8, 14, 18, 15, 19, 13, 10, 8, 10, 12, 11, 14, 12, 17, 15, 8, 12, 14, 10, 9, 11, 13, 9, 3, 9, 8, 9, 9, 9, 9, 15, 12, 7, 12, 5, 9, 10, 15, 16, 11, 18, 13, 17, 8, 10, 18, 9, 8, 7, 17, 12, 11, 10, 13, 14, 9, 7, 17, 13, 15, 12, 13, 8, 13, 9, 14, 12, 13, 12, 15, 13, 18, 15, 14, 7, 10, 7, 14, 16, 11, 12, 9, 12, 12, 7, 18, 11, 9, 8, 8, 12, 9, 13, 13, 13, 24, 15, 10, 10, 9, 11, 6, 6, 16, 10, 10, 11, 9, 13, 11, 12, 17, 18, 3, 7, 12, 15, 12, 16, 12, 10, 15, 12, 10, 14, 7, 8, 16, 14, 12, 12, 15, 11, 15, 15, 5, 10, 10, 16, 15, 8, 13, 13, 9, 18, 8, 10, 11, 4, 10, 10, 25, 16, 11, 4, 14, 10, 15, 12, 7, 10, 21, 6, 13, 15, 9, 9, 12, 6, 11, 11, 10, 8, 9, 9, 11, 15, 9, 6, 10, 16, 10, 13, 11, 12, 3, 7, 11, 8, 8, 8, 17, 14, 10, 16, 12, 11, 15, 15, 10, 12, 18, 14, 12, 11, 9, 9, 9, 9, 10, 11, 5, 12, 13, 14, 10, 13, 14, 14, 14, 9, 9, 14, 13, 13, 12, 11, 19, 13, 8, 13, 11, 10, 6, 7, 8, 8, 9, 11, 8, 10, 8, 18, 17, 12, 8, 6, 7, 4, 13, 13, 7, 13, 10, 8, 19, 16, 11, 10, 11, 16, 4, 13, 10, 8, 10, 12, 16, 10, 10, 14, 11, 16, 11, 15, 3, 12, 11, 11, 12, 14, 17, 14, 12, 8, 12, 11, 13, 12, 14, 9, 9, 10, 11, 12, 7, 6, 4, 5, 12, 7, 9, 11, 18, 11, 14, 6, 11, 13, 12, 12, 12, 14, 14, 15, 17, 16, 17, 8, 12, 10, 5, 15, 14, 8, 7, 14, 12, 9, 26, 10, 9, 15, 10, 10, 3, 16, 15, 10, 8, 15, 13, 20, 12, 16, 13, 12, 13, 3, 11, 22, 18, 7, 14, 7, 16, 13, 12, 18, 16, 12, 12, 22, 11, 13, 14, 10, 14, 12, 4, 11, 11, 19, 19, 10, 13, 21, 15, 14, 17, 8, 7, 13, 17, 11, 11, 16, 12, 11, 21, 18, 8, 10, 17, 12, 14, 20, 6, 19, 18, 11, 12, 10, 9, 12, 7, 6, 14, 7, 8, 14, 10, 8, 9, 9, 11, 9, 8, 15, 9, 14, 8, 14, 10, 10, 9, 9, 10, 6, 8, 14, 11, 21, 12, 14, 12, 16, 18, 6, 18, 15, 12, 3, 11, 13, 9, 14, 23, 13, 9, 19, 14, 7, 19, 8, 10, 10, 8, 10, 10, 7, 7, 9, 16, 12, 7, 15, 9, 12, 12, 17, 14, 10, 9, 12, 18, 6, 5, 5, 13, 12, 18, 10, 8, 11, 11, 10, 11, 12, 11, 7, 20, 13, 10, 9, 15, 21, 11, 19, 10, 16, 8, 10, 5, 11, 17, 21, 12, 13, 7, 15, 15, 17, 10, 10, 15, 12, 3, 18, 10, 9, 7, 9, 12, 27, 18, 9, 19, 17, 13, 8, 7, 6, 8, 16, 10, 7, 10, 10, 10, 9, 15, 18, 11, 12, 13, 11, 9, 5, 12, 10, 11, 12, 10, 17, 10, 14, 13, 7, 8, 14, 15, 17, 10, 12, 16, 12, 12, 8, 9, 12, 10, 10, 8, 6, 5, 12, 17, 11, 11, 7, 4, 6, 8, 15, 9, 12, 15, 11, 17, 8, 12, 14, 8, 12, 14, 9, 8, 7, 3, 14, 10, 7, 17, 12, 15, 8, 16, 13, 7, 8, 14, 14, 11, 11, 11, 18, 8, 8, 14, 16, 11, 13, 18, 8, 10, 16, 17, 13, 17, 7, 10, 7, 10, 13, 12, 13, 14, 4, 14, 8, 11, 8, 12, 19, 10, 9, 14, 9, 9, 17, 8, 14, 12, 9, 12, 8, 13, 15, 11, 10, 13, 16, 3, 8, 14, 10, 14, 12, 15, 18, 9, 13, 17, 14, 16, 12, 12, 13, 22, 16, 21, 10, 9, 9, 12, 10, 12, 16, 13, 12, 13, 19, 14, 18, 4, 9, 8, 7, 11, 11, 14, 16, 9, 8, 24, 23, 16, 3, 7, 12, 13, 15, 11, 14, 15, 15, 7, 14, 13, 15, 16, 11, 11, 9, 11, 18, 11, 11, 8, 6, 9, 10, 11, 10, 7, 16, 7, 11, 14, 11, 9, 16, 11, 8, 12, 6, 8, 12, 7, 16, 8, 12, 11, 14, 14, 6, 9, 15, 8, 9, 14, 9, 19, 16, 9, 16, 10, 13, 9, 19, 10, 11, 13, 10, 17, 18, 15, 11, 12, 14, 13, 9, 13, 13, 10, 9, 13, 10, 6, 7, 14, 13, 16, 10, 8, 10, 12, 12, 7, 10, 13, 13, 13, 8, 7, 14, 9, 6, 11, 13, 11, 8, 8, 7, 11, 15, 12, 10, 7, 8, 18, 18, 6, 5, 12, 7, 13, 13, 8, 11, 13, 14, 18, 8, 11, 12, 9, 14, 17, 13, 8, 12, 9, 13, 9, 9, 9, 20, 15, 17, 19, 11, 12, 11, 6, 8, 3, 9, 6, 13, 15, 9, 8, 6, 13, 7, 15, 7, 11, 14, 11, 13, 12, 14, 7, 9, 9, 12, 11, 24, 24, 13, 9, 10, 13, 9, 10, 8, 15, 9, 12, 9, 10, 10, 14, 12, 9, 13, 11, 11, 10, 15, 11, 13, 11, 7, 11, 9, 11, 10, 13, 14, 17, 8, 13, 15, 10, 12, 13, 17, 4, 8, 11, 8, 12, 19, 10, 9, 10, 12, 10, 9, 13, 11, 16, 11, 11, 11, 9, 10, 13, 14, 10, 10, 10, 16, 11, 7, 5, 11, 8, 9, 16, 15, 13, 7, 12, 12, 6, 7, 11, 12, 14, 11, 11, 8, 9, 14, 17, 11, 14, 11, 16, 5, 9, 13, 12, 18, 9, 14, 8, 15, 14, 15, 10, 10, 8, 9, 6, 14, 8, 7, 9, 6, 12, 12, 23, 10, 10, 14, 12, 14, 21, 19, 13, 11, 8, 12, 10, 13, 7, 4, 10, 10, 7, 13, 15, 9, 6, 11, 7, 14, 7, 12, 7, 7, 12, 18, 14, 12, 11, 10, 14, 13, 13, 8, 12, 12, 14, 9, 12, 15, 14, 6, 6, 8, 7, 13, 9, 9, 8, 7, 8, 7, 21, 22, 14, 8, 19, 7, 12, 15, 8, 11, 8, 15, 5, 13, 13, 12, 34, 19, 13, 14, 11, 17, 15, 18, 11, 9, 7, 9, 9, 7, 18, 6, 15, 7, 9, 10, 14, 19, 16, 12, 8, 9, 11, 7, 10, 7, 13, 17, 12, 8, 14, 19, 14, 8, 10, 14, 10, 7, 15, 12, 12, 13, 12, 8, 8, 16, 13, 10, 10, 8, 9, 9, 10, 15, 10, 10, 4, 11, 12, 11, 11, 12, 15, 14, 6, 14, 7, 11, 10, 11, 13, 17, 15, 16, 19, 7, 9, 14, 9, 16, 10, 6, 18, 6, 6, 12, 10, 9, 12, 10, 13, 11, 10, 8, 11, 4, 7, 6, 17, 8, 10, 12, 11, 12, 11, 14, 17, 14, 7, 10, 15, 12, 13, 9, 15, 9, 10, 13, 9, 12, 7, 11, 11, 9, 13, 13, 13, 9, 9, 10, 27, 9, 19, 16, 8, 16, 11, 12, 8, 15, 10, 12, 14, 9, 7, 10, 19, 13, 7, 12, 11, 10, 16, 10, 10, 15, 13, 12, 9, 10, 7, 13, 14, 18, 13, 9, 14, 11, 11, 13, 16, 12, 12, 11, 6, 11, 8, 9, 11, 9, 13, 16, 8, 13, 8, 14, 19, 6, 8, 11, 4, 10, 14, 19, 19, 8, 17, 14, 11, 12, 11, 10, 9, 8, 10, 8, 7, 7, 8, 7, 12, 7, 9, 8, 9, 13, 11, 11, 5, 2, 17, 10, 13, 19, 16, 8, 8, 12, 11, 10, 7, 7, 25, 10, 12, 3, 7, 6, 6, 13, 13, 7, 19, 7, 18, 10, 11, 12, 11, 20, 11, 12, 11, 10, 16, 13, 17, 8, 8, 12, 8, 7, 7, 14, 9, 15, 18, 19, 9, 18, 16, 9, 10, 10, 7, 8, 7, 13, 8, 6, 12, 11, 10, 10, 11, 12, 15, 16, 13, 15, 18, 15, 14, 13, 10, 12, 18, 10, 11, 13, 13, 12, 11, 6, 18, 6, 7, 15, 17, 9, 9, 6, 12, 8, 12, 4, 14, 9, 13, 7, 24, 17, 12, 12, 19, 16, 13, 9, 12, 13, 14, 7, 9, 21, 5, 11, 17, 14, 12, 11, 10, 14, 10, 12, 11, 11, 13, 16, 10, 8, 10, 10, 11, 11, 11, 8, 9, 10, 6, 16, 11, 12, 12, 10, 7, 12, 12, 14, 13, 11, 13, 14, 15, 16, 9, 16, 11, 9, 11, 10, 8, 12, 10, 7, 9, 13, 9, 15, 21, 13, 9, 15, 16, 7, 14, 8, 13, 25, 15, 12, 12, 9, 12, 8, 15, 14, 9, 13, 12, 9, 6, 13, 10, 3, 6, 15, 13, 7, 14, 16, 15, 10, 10, 14, 15, 11, 12, 12, 13, 19, 17, 12, 6, 6, 18, 12, 14, 7, 8, 23, 8, 8, 8, 9, 9, 6, 7, 11, 8, 16, 14, 10, 12, 15, 12, 12, 14, 13, 12, 11, 7, 11, 28, 12, 9, 9, 8, 12, 13, 12, 13, 10, 7, 10, 9, 15, 22, 12, 10, 11, 24, 10, 11, 5, 11, 8, 8, 11, 7, 9, 11, 11, 12, 14, 19, 10, 12, 11, 11, 7, 11, 13, 16, 8, 10, 19, 15, 11, 11, 16, 9, 14, 12, 10, 11, 11, 23, 25, 7, 8, 16, 17, 20, 9, 13, 6, 9, 7, 10, 9, 7, 14, 7, 7, 11, 10, 13, 9, 7, 14, 16, 7, 18, 13, 10, 9, 9, 11, 7, 11, 6, 7, 7, 8, 7, 14, 8, 11, 17, 10, 11, 14, 13, 13, 16, 9, 10, 11, 2, 7, 15, 11, 8, 18, 7, 13, 15, 14, 8, 6, 15, 11, 7, 9, 11, 9, 10, 11, 13, 7, 12, 8, 9, 10, 15, 18, 7, 10, 8, 7, 12, 12, 11, 10, 5, 9, 13, 12, 17, 12, 14, 13, 9, 7, 6, 13, 14, 8, 7, 14, 6, 15, 13, 14, 7, 8, 9, 7, 7, 10, 13, 13, 8, 9, 10, 16, 3, 7, 11, 5, 14, 13, 13, 10, 7, 9, 12, 13, 9, 8, 11, 17, 17, 11, 18, 13, 13, 9, 8, 14, 7, 11, 15, 6, 14, 9, 13, 4, 7, 12, 10, 7, 19, 10, 10, 7, 8, 7, 11, 14, 16, 11, 9, 7, 8, 14, 11, 8, 9, 10, 14, 10, 12, 17, 10, 18, 17, 10, 14, 9, 17, 13, 20, 11, 11, 16, 16, 18, 8, 8, 16, 13, 3, 5, 13, 10, 11, 15, 13, 8, 8, 13, 9, 11, 11, 24, 14, 16, 11, 15, 12, 14, 24, 7, 9, 11, 8, 9, 7, 6, 16, 24, 18, 10, 7, 11, 8, 7, 10, 9, 13, 12, 12, 10, 15, 6, 6, 10, 10, 14, 7, 12, 13, 12, 12, 4, 18, 8, 9, 6, 4, 6, 3, 9, 9, 15, 9, 11, 13, 14, 10, 10, 7, 8, 7, 8, 13, 13, 14, 8, 21, 6, 10, 7, 14, 13, 12, 7, 7, 6, 7, 7, 11, 4, 8, 13, 7, 15, 13, 8, 11, 14, 9, 19, 12, 6, 18, 15, 7, 9, 11, 11, 8, 8, 9, 13, 11, 11, 11, 17, 8, 9, 8, 8, 10, 7, 7, 4, 5, 10, 18, 17, 16, 13, 15, 19, 12, 13, 10, 16, 13, 12, 9, 26, 9, 16, 11, 11, 13, 10, 6, 13, 15, 8, 11, 12, 11, 16, 12, 13, 7, 10, 20, 15, 13, 8, 11, 10, 11, 6, 8, 5, 18, 12, 5, 10, 10, 7, 4, 11, 16, 12, 8, 8, 14, 11, 16, 17, 9, 12, 9, 8, 12, 15, 7, 11, 10, 7, 7, 7, 9, 9, 14, 11, 16, 14, 12, 8, 6, 5, 11, 11, 19, 20, 11, 11, 16, 21, 18, 13, 15, 10, 14, 17, 13, 19, 14, 11, 11, 15, 7, 15, 7, 11, 14, 22, 7, 12, 14, 17, 8, 15, 10, 11, 17, 5, 14, 11, 12, 12, 9, 8, 7, 8, 8, 9, 19, 17, 19, 5, 11, 13, 9, 12, 13, 11, 15, 10, 17, 9, 11, 11, 4, 8, 20, 13, 11, 11, 10, 15, 11, 10, 10, 8, 6, 10, 17, 22, 15, 10, 9, 10, 12, 13, 7, 18, 17, 18, 13, 15, 10, 9, 10, 7, 11, 13, 16, 28, 17, 13, 14, 11, 11, 10, 14, 25, 11, 10, 19, 15, 13, 10, 11, 10, 12, 9, 11, 4, 7, 12, 14, 12, 17, 17, 14, 7, 10, 12, 6, 13, 12, 12, 9, 8, 10, 22, 17, 16, 11, 21, 7, 10, 8, 10, 7, 5, 9, 12, 7, 10, 10, 7, 12, 12, 13, 18, 11, 4, 12, 10, 10, 16, 15, 9, 8, 13, 5, 15, 7, 12, 11, 8, 11, 17, 20, 14, 18, 13, 14, 15, 13, 7, 7, 9, 10, 10, 3, 9, 9, 12, 9, 10, 8, 10, 7, 6, 10, 12, 8, 12, 12, 11, 8, 9, 13, 10, 9, 12, 3, 15, 6, 12, 18, 7, 7, 9, 14, 8, 10, 21, 16, 9, 13, 14, 6, 18, 11, 13, 13, 14, 10, 12, 15, 13, 7, 17, 11, 11, 12, 15, 8, 16, 10, 14, 20, 10, 13, 14, 7, 11, 12, 13, 14, 19, 17, 8, 18, 3, 13, 16, 12, 17, 13, 13, 15, 12, 9, 12, 12, 9, 14, 18, 18, 17, 14, 12, 9, 14, 8, 11, 12, 10, 20, 12, 13, 19, 14, 14, 13, 16, 14, 9, 11, 6, 8, 17, 17, 10, 16, 14, 15, 13, 11, 10, 14, 14, 12, 12, 10, 13, 9, 14, 11, 16, 11, 16, 10, 14, 11, 16, 7, 16, 14, 18, 13, 7, 14, 15, 3, 19, 13, 13, 9, 12, 18, 10, 9, 13, 13, 11, 9, 13, 13, 4, 3, 10, 13, 7, 4, 13, 10, 7, 8, 12, 9, 6, 10, 13, 11, 9, 16, 13, 8, 14, 12, 15, 7, 17, 11, 12, 15, 28, 14, 17, 13, 10, 17, 11, 12, 14, 12, 17, 13, 19, 18, 9, 17, 15, 3, 27, 8, 7, 13, 10, 12, 6, 8, 14, 11, 5, 10, 6, 10, 10, 8, 11, 13, 9, 12, 8, 7, 7, 14, 12, 10, 12, 9, 7, 11, 12, 14, 13, 12, 8, 8, 19, 9, 13, 13, 13, 8, 11, 7, 15, 16, 4, 8, 8, 13, 11, 8, 12, 10, 10, 12, 12, 11, 8, 8, 7, 8, 9, 15, 9, 9, 13, 13, 21, 12, 8, 10, 19, 12, 11, 13, 10, 18, 11, 9, 6, 10, 15, 10, 10, 13, 10, 10, 15, 8, 13, 14, 9, 13, 10, 10, 19, 10, 15, 23, 25, 9, 10, 12, 11, 6, 12, 10, 8, 8, 13, 13, 10, 6, 9, 12, 7, 10, 10, 9, 10, 15, 15, 16, 10, 8, 17, 12, 13, 7, 10, 14, 12, 12, 8, 16, 9, 10, 10, 11, 14, 9, 11, 11, 14, 16, 10, 7, 19, 15, 12, 10, 11, 10, 8, 15, 6, 14, 9, 14, 8, 14, 15, 10, 9, 6, 12, 6, 9, 12, 6, 10, 7, 13, 7, 11, 6, 16, 11, 10, 7, 13, 9, 11, 13, 9, 10, 15, 13, 7, 10, 13, 14, 15, 15, 7, 11, 5, 10, 12, 9, 9, 15, 7, 7, 7, 18, 11, 14, 10, 18, 11, 7, 7, 9, 10, 11, 7, 11, 6, 13, 11, 9, 10, 14, 9, 22, 14, 11, 8, 11, 9, 6, 9, 10, 8, 12, 20, 12, 10, 16, 8, 13, 12, 7, 13, 19, 8, 11, 19, 3, 11, 11, 17, 8, 15, 11, 12, 22, 13, 13, 11, 8, 9, 10, 12, 8, 11, 2, 16, 9, 7, 10, 9, 12, 15, 9, 9, 15, 16, 7, 11, 15, 12, 8, 10, 15, 12, 15, 9, 19, 11, 6, 7, 11, 7, 11, 10, 16, 11, 7, 14, 12, 13, 11, 13, 10, 9, 9, 13, 6, 12, 10, 15, 10, 10, 8, 8, 19, 8, 22, 10, 9, 5, 10, 10, 15, 16, 9, 10, 12, 12, 5, 11, 13, 6, 14, 14, 14, 12, 18, 19, 14, 10, 14, 16, 3, 11, 10, 8, 12, 9, 9, 12, 14, 10, 12, 10, 10, 8, 17, 5, 10, 13, 19, 13, 20, 7, 9, 15, 13, 14, 12, 17, 12, 8, 14, 21, 16, 6, 15, 15, 8, 13, 16, 12, 5, 10, 15, 15, 8, 10, 14, 10, 13, 14, 16, 14, 16, 15, 16, 12, 11, 12, 14, 14, 18, 11, 10, 9, 12, 14, 9, 11, 6, 11, 18, 15, 11, 22, 10, 9, 12, 11, 7, 8, 7, 3, 10, 9, 10, 17, 13, 15, 11, 8, 9, 11, 9, 12, 11, 10, 11, 15, 15, 10, 15, 17, 25, 12, 14, 14, 7, 8, 6, 8, 15, 7, 7, 9, 12, 11, 7, 14, 17, 19, 11, 16, 16, 13, 9, 14, 12, 14, 13, 11, 6, 9, 9, 5, 16, 13, 7, 11, 11, 13, 17, 10, 13, 13, 18, 7, 6, 4, 10, 10, 14, 8, 5, 14, 13, 11, 7, 13, 6, 9, 4, 13, 12, 13, 6, 12, 10, 9, 12, 8, 12, 14, 14, 12, 13, 11, 20, 6, 12, 18, 15, 8, 10, 11, 15, 15, 12, 10, 10, 11, 15, 16, 12, 16, 11, 16, 12, 10, 8, 13, 15, 13, 10, 12, 11, 11, 13, 14, 10, 10, 17, 10, 7, 8, 15, 10, 8, 7, 9, 7, 12, 7, 9, 14, 10, 17, 16, 11, 14, 9, 18, 18, 11, 8, 14, 10, 10, 11, 7, 10, 19, 13, 7, 11, 9, 13, 15, 18, 10, 10, 14, 11, 9, 10, 9, 9, 10, 12, 14, 14, 17, 15, 13, 7, 6, 12, 11, 16, 7, 17, 11, 12, 11, 9, 17, 26, 25, 15, 10, 10, 14, 8, 13, 14, 9, 5, 14, 14, 9, 9, 11, 16, 8, 10, 14, 12, 14, 13, 14, 14, 10, 13, 12, 15, 9, 21, 13, 17, 14, 3, 12, 18, 15, 17, 18, 5, 15, 10, 7, 14, 8, 10, 8, 11, 10, 13, 12, 12, 13, 9, 9, 13, 13, 8, 8, 13, 14, 12, 11, 17, 15, 10, 6, 12, 16, 20, 12, 6, 11, 18, 16, 19, 11, 9, 9, 14, 11, 10, 20, 15, 8, 12, 19, 12, 8, 12, 13, 4, 12, 8, 15, 10, 8, 10, 12, 7, 11, 4, 5, 21, 8, 19, 12, 10, 21, 7, 11, 4, 12, 11, 17, 19, 13, 15, 22, 7, 9, 12, 16, 12, 9, 14, 12, 15, 11, 32, 14, 13, 18, 12, 11, 9, 10, 7, 9, 7, 14, 14, 7, 11, 13, 10, 5, 10, 10, 8, 14, 5, 7, 13, 12, 7, 7, 9, 8, 10, 15, 15, 12, 7, 15, 12, 7, 14, 12, 9, 10, 11, 12, 12, 22, 12, 6, 8, 13, 11, 11, 15, 8, 10, 17, 13, 9, 14, 13, 20, 11, 13, 13, 15, 18, 9, 13, 8, 7, 11, 11, 14, 17, 12, 15, 14, 7, 8, 8, 7, 7, 9, 15, 9, 21, 16, 12, 14, 6, 17, 14, 15, 5, 13, 6, 7, 7, 8, 8, 14, 15, 9, 11, 7, 11, 15, 22, 12, 9, 12, 12, 15, 18, 10, 9, 11, 9, 8, 14, 7, 8, 11, 16, 9, 11, 12, 12, 6, 11, 15, 7, 13, 8, 8, 9, 12, 16, 10, 15, 20, 11, 14, 17, 12, 15, 7, 9, 12, 7, 11, 15, 16, 3, 13, 22, 9, 10, 11, 10, 13, 14, 20, 18, 10, 10, 7, 14, 3, 11, 11, 8, 12, 10, 7, 12, 14, 11, 8, 14, 9, 15, 8, 12, 3, 19, 19, 11, 12, 18, 12, 20, 11, 13, 17, 16, 10, 20, 11, 9, 3, 15, 21, 12, 14, 11, 12, 10, 15, 12, 9, 7, 7, 6, 9, 14, 12, 15, 13, 12, 18, 10, 8, 11, 11, 7, 14, 19, 11, 7, 8, 7, 11, 9, 9, 15, 12, 15, 12, 11, 11, 14, 14, 11, 8, 15, 11, 13, 14, 12, 20, 11, 7, 8, 9, 11, 9, 17, 18, 11, 9, 12, 11, 9, 14, 11, 13, 7, 14, 13, 7, 3, 7, 8, 8, 11, 6, 7, 10, 10, 10, 13, 12, 11, 16, 7, 6, 6, 9, 10, 12, 18, 9, 19, 7, 19, 9, 14, 7, 8, 13, 17, 11, 10, 13, 15, 10, 7, 13, 6, 15, 14, 10, 15, 10, 22, 19, 9, 16, 10, 15, 12, 9, 15, 9, 13, 7, 15, 10, 13, 10, 13, 10, 11, 16, 23, 9, 12, 18, 17, 17, 14, 14, 25, 11, 7, 11, 3, 4, 15, 8, 11, 8, 9, 9, 10, 13, 12, 12, 10, 9, 10, 7, 8, 10, 8, 14, 10, 13, 7, 16, 11, 8, 16, 18, 16, 15, 10, 12, 8, 9, 12, 13, 9, 9, 7, 7, 6, 7, 7, 4, 7, 13, 11, 17, 14, 14, 15, 7, 12, 13, 11, 12, 10, 9, 13, 9, 7, 9, 12, 17, 7, 7, 12, 11, 14, 11, 8, 7, 9, 13, 9, 12, 14, 12, 10, 9, 15, 11, 12, 7, 9, 19, 9, 8, 7, 11, 8, 14, 12, 15, 11, 11, 11, 5, 10, 6, 16, 14, 5, 12, 17, 13, 7, 13, 26, 12, 10, 16, 10, 10, 9, 5, 12, 8, 9, 11, 9, 7, 17, 13, 12, 19, 9, 15, 8, 10, 11, 12, 10, 8, 18, 11, 11, 8, 9, 8, 13, 12, 8, 13, 13, 7, 12, 14, 8, 10, 12, 8, 8, 16, 15, 9, 9, 14, 9, 15, 8, 7, 11, 7, 10, 11, 9, 10, 14, 8, 11, 5, 15, 12, 10, 15, 13, 15, 14, 14, 9, 9, 13, 12, 10, 14, 14, 19, 12, 7, 7, 8, 5, 9, 10, 11, 10, 16, 9, 10, 8, 8, 8, 13, 8, 14, 21, 12, 11, 8, 8, 12, 10, 11, 10, 10, 19, 9, 9, 5, 8, 6, 10, 13, 19, 17, 11, 12, 12, 12, 8, 7, 9, 8, 10, 13, 6, 16, 11, 11, 13, 21, 8, 17, 8, 7, 11, 11, 9, 14, 14, 16, 8, 12, 15, 12, 5, 11, 13, 13, 11, 18, 8, 12, 8, 13, 10, 7, 15, 11, 11, 15, 14, 10, 10, 10, 16, 10, 16, 16, 14, 17, 10, 6, 17, 10, 11, 10, 9, 11, 13, 14, 11, 15, 15, 11, 16, 13, 9, 9, 7, 19, 18, 10, 6, 7, 15, 10, 10, 9, 14, 10, 15, 13, 12, 16, 13, 11, 11, 11, 8, 11, 7, 7, 6, 11, 12, 10, 13, 7, 4, 19, 15, 9, 11, 16, 12, 11, 11, 17, 8, 17, 12, 11, 10, 8, 12, 9, 17, 17, 7, 9, 8, 12, 8, 12, 9, 12, 8, 9, 13, 18, 14, 18, 21, 12, 10, 18, 15, 11, 13, 3, 3, 13, 10, 9, 6, 19, 10, 12, 12, 17, 12, 8, 9, 12, 8, 13, 8, 15, 7, 12, 16, 17, 10, 10, 17, 3, 17, 12, 13, 15, 9, 12, 9, 11, 15, 7, 17, 7, 13, 12, 20, 14, 7, 16, 16, 11, 8, 16, 14, 11, 12, 6, 14, 18, 6, 13, 15, 12, 16, 14, 11, 9, 10, 9, 12, 13, 8, 14, 13, 4, 10, 14, 16, 13, 15, 11, 11, 14, 8, 12, 14, 8, 12, 14, 14, 4, 9, 10, 9, 8, 12, 11, 17, 12, 7, 8, 12, 8, 11, 11, 12, 10, 16, 9, 8, 12, 14, 17, 11, 16, 9, 13, 10, 15, 11, 16, 12, 8, 11, 9, 9, 11, 9, 23, 15, 10, 11, 13, 14, 13, 17, 15, 16, 10, 8, 12, 13, 15, 14, 10, 17, 15, 18, 7, 5, 10, 12, 12, 12, 15, 10, 10, 13, 16, 7, 9, 16, 19, 17, 13, 11, 17, 22, 13, 7, 10, 12, 27, 15, 13, 15, 10, 9, 16, 8, 7, 12, 13, 9, 7, 7, 7, 15, 15, 8, 9, 21, 14, 17, 9, 10, 13, 14, 13, 16, 16, 10, 10, 18, 15, 14, 9, 9, 8, 8, 11, 3, 10, 11, 13, 11, 17, 19, 8, 12, 10, 17, 14, 12, 6, 16, 17, 10, 7, 19, 15, 10, 5, 8, 7, 9, 13, 13, 11, 21, 13, 9, 10, 9, 10, 16, 13, 9, 12, 17, 12, 8, 13, 17, 10, 11, 9, 14, 12, 13, 6, 9, 9, 8, 10, 15, 19, 13, 19, 14, 10, 11, 8, 10, 7, 12, 13, 20, 13, 16, 13, 9, 15, 11, 11, 10, 11, 9, 9, 20, 14, 11, 9, 11, 11, 10, 13, 18, 10, 10, 14, 11, 15, 12, 6, 3, 14, 11, 13, 8, 8, 12, 14, 13, 8, 7, 6, 11, 9, 10, 12, 6, 6, 7, 8, 13, 11, 10, 13, 9, 13, 10, 10, 12, 9, 14, 14, 15, 11, 10, 17, 8, 7, 11, 12, 3, 11, 7, 8, 8, 7, 2, 13, 6, 5, 13, 9, 12, 18, 17, 10, 10, 12, 11, 19, 17, 13, 14, 14, 15, 7, 19, 21, 10, 12, 12, 11, 17, 11, 14, 12, 12, 15, 10, 20, 13, 19, 18, 9, 14, 7, 9, 17, 16, 9, 16, 19, 14, 17, 10, 18, 7, 9, 20, 14, 7, 9, 10, 9, 9, 16, 7, 13, 16, 9, 13, 10, 15, 16, 13, 10, 11, 8, 12, 13, 10, 10, 6, 6, 9, 7, 10, 14, 10, 15, 8, 11, 4, 6, 19, 15, 19, 8, 6, 15, 10, 14, 18, 12, 7, 11, 13, 8, 13, 12, 10, 9, 13, 10, 12, 8, 14, 19, 12, 19, 16, 6, 6, 5, 5, 20, 11, 10, 14, 8, 13, 8, 8, 9, 10, 9, 7, 7, 6, 4, 11, 13, 10, 6, 15, 10, 15, 11, 16, 13, 15, 10, 11, 12, 9, 8, 14, 6, 11, 11, 10, 9, 14, 6, 12, 13, 12, 19, 12, 8, 10, 9, 20, 9, 8, 8, 15, 9, 22, 8, 6, 13, 11, 8, 10, 7, 11, 7, 6, 18, 11, 8, 10, 10, 9, 12, 15, 7, 7, 10, 13, 11, 7, 15, 15, 12, 16, 8, 12, 11, 13, 12, 10, 9, 10, 10, 15, 5, 11, 8, 9, 12, 15, 18, 11, 14, 15, 17, 9, 9, 9, 14, 11, 7, 14, 8, 15, 18, 12, 10, 3, 16, 7, 8, 12, 10, 7, 8, 10, 8, 9, 15, 13, 12, 4, 17, 7, 8, 11, 11, 10, 13, 18, 12, 5, 13, 10, 8, 8, 7, 14, 12, 7, 9, 9, 13, 10, 7, 10, 7, 12, 9, 4, 13, 14, 14, 20, 18, 10, 11, 14, 15, 7, 8, 3, 13, 21, 10, 15, 8, 14, 14, 11, 10, 12, 12, 10, 11, 16, 13, 7, 7, 14, 14, 14, 13, 19, 14, 23, 9, 22, 4, 13, 11, 11, 14, 9, 16, 10, 7, 8, 10, 14, 10, 14, 7, 8, 11, 10, 11, 13, 18, 15, 17, 19, 11, 13, 15, 10, 14, 12, 13, 13, 11, 10, 9, 8, 10, 13, 14, 7, 10, 5, 13, 10, 10, 12, 12, 7, 10, 8, 13, 9, 12, 10, 10, 12, 12, 12, 12, 21, 16, 15, 13, 12, 14, 12, 12, 12, 14, 15, 12, 14, 13, 5, 15, 8, 8, 10, 6, 9, 13, 15, 11, 10, 13, 9, 9, 8, 24, 7, 12, 19, 16, 7, 18, 23, 11, 6, 10, 5, 9, 20, 10, 10, 8, 15, 13, 16, 12, 14, 10, 8, 14, 16, 9, 19, 13, 16, 13, 7, 9, 13, 12, 9, 7, 11, 10, 9, 7, 9, 16, 13, 13, 22, 12, 7, 12, 12, 7, 20, 18, 12, 11, 6, 14, 12, 8, 13, 11, 12, 10, 8, 8, 4, 7, 19, 18, 6, 14, 13, 13, 5, 8, 10, 9, 12, 8, 5, 5, 14, 14, 16, 6, 16, 8, 11, 12, 6, 8, 11, 10, 11, 17, 17, 10, 17, 11, 17, 5, 16, 10, 14, 13, 12, 8, 17, 9, 15, 13, 15, 11, 9, 7, 8, 11, 11, 10, 15, 17, 18, 14, 14, 12, 13, 15, 15, 9, 10, 18, 9, 13, 21, 18, 8, 14, 8, 8, 7, 7, 9, 9, 13, 15, 13, 14, 15, 12, 10, 8, 8, 6, 12, 11, 11, 10, 11, 14, 9, 13, 12, 10, 11, 7, 11, 11, 11, 11, 13, 20, 20, 10, 11, 10, 8, 11, 16, 16, 12, 19, 12, 13, 16, 10, 9, 5, 13, 11, 10, 11, 8, 15, 10, 12, 13, 10, 11, 9, 14, 18, 10, 14, 11, 8, 9, 7, 10, 12, 10, 11, 9, 16, 15, 7, 22, 14, 12, 17, 12, 13, 4, 15, 11, 21, 9, 11, 8, 13, 10, 10, 13, 14, 7, 8, 6, 6, 13, 10, 11, 22, 10, 14, 12, 15, 16, 10, 8, 10, 8, 15, 14, 14, 9, 14, 14, 17, 4, 14, 7, 11, 10, 17, 15, 9, 9, 19, 12, 6, 7, 13, 10, 13, 13, 16, 20, 12, 8, 6, 15, 10, 10, 10, 10, 14, 9, 12, 16, 12, 13, 16, 9, 8, 8, 3, 14, 9, 13, 10, 6, 10, 11, 13, 10, 9, 6, 12, 12, 9, 16, 14, 10, 18, 14, 10, 9, 12, 16, 4, 3, 5, 8, 17, 15, 18, 16, 10, 10, 9, 7, 7, 9, 13, 12, 14, 21, 19, 7, 23, 11, 12, 6, 11, 4, 7, 15, 10, 10, 7, 10, 10, 10, 13, 14, 10, 15, 17, 10, 10, 19, 10, 7, 26, 15, 8, 11, 11, 12, 8, 8, 7, 9, 12, 10, 10, 18, 14, 12, 13, 9, 8, 6, 12, 9, 14, 13, 12, 13, 8, 11, 9, 22, 14, 11, 16, 14, 15, 18, 11, 11, 12, 10, 9, 12, 8, 14, 5, 13, 18, 12, 8, 8, 9, 15, 14, 16, 11, 20, 10, 11, 17, 10, 7, 6, 12, 7, 6, 12, 19, 11, 12, 11, 13, 14, 14, 23, 17, 11, 13, 9, 19, 15, 23, 10, 6, 5, 18, 12, 9, 13, 12, 16, 9, 19, 16, 8, 20, 13, 10, 14, 7, 8, 7, 3, 14, 13, 12, 16, 14, 16, 6, 10, 11, 23, 11, 18, 16, 8, 7, 8, 11, 11, 11, 8, 14, 13, 15, 8, 10, 4, 13, 14, 13, 17, 9, 9, 13, 10, 11, 10, 8, 9, 11, 12, 11, 9, 10, 4, 11, 11, 14, 11, 18, 10, 10, 11, 12, 11, 12, 14, 13, 11, 8, 12, 11, 14, 12, 8, 7, 9, 9, 8, 12, 15, 12, 8, 7, 11, 12, 14, 11, 11, 11, 11, 17, 5, 10, 12, 13, 12, 12, 4, 12, 13, 10, 10, 13, 7, 15, 10, 15, 10, 14, 10, 13, 7, 6, 11, 19, 16, 16, 17, 7, 7, 7, 7, 10, 11, 11, 7, 14, 9, 19, 10, 10, 14, 9, 10, 10, 17, 15, 13, 14, 9, 4, 9, 9, 9, 2, 9, 8, 5, 14, 10, 8, 12, 7, 10, 3, 8, 10, 10, 12, 11, 18, 7, 11, 8, 12, 7, 11, 12, 14, 9, 14, 8, 11, 15, 11, 11, 14, 15, 8, 9, 10, 10, 11, 11, 15, 13, 3, 8, 16, 16, 11, 15, 13, 14, 19, 8, 8, 10, 15, 12, 11, 8, 15, 17, 12, 13, 14, 6, 15, 13, 15, 12, 17, 10, 12, 19, 7, 11, 15, 11, 9, 9, 11, 14, 11, 15, 14, 11, 11, 11, 10, 12, 11, 8, 7, 8, 8, 12, 9, 6, 10, 8, 10, 9, 14, 9, 17, 11, 9, 9, 11, 10, 11, 15, 12, 17, 13, 14, 17, 12, 11, 9, 7, 10, 5, 12, 16, 11, 3, 11, 8, 10, 14, 15, 7, 16, 13, 10, 16, 7, 3, 10, 6, 15, 16, 10, 13, 14, 11, 10, 16, 16, 12, 9, 9, 12, 12, 12, 5, 11, 17, 16, 9, 9, 13, 10, 18, 5, 14, 14, 12, 9, 13, 10, 8, 16, 13, 10, 9, 13, 6, 6, 12, 9, 10, 9, 15, 9, 14, 11, 13, 11, 14, 16, 8, 15, 9, 8, 12, 13, 12, 8, 6, 8, 15, 13, 14, 15, 14, 11, 6, 10, 7, 10, 11, 13, 8, 10, 15, 7, 9, 14, 11, 7, 10, 9, 9, 3, 11, 9, 13, 8, 10, 5, 11, 11, 8, 5, 9, 10, 11, 9, 14, 9, 13, 10, 6, 9, 16, 8, 14, 10, 10, 14, 11, 14, 13, 10, 8, 8, 11, 10, 15, 13, 5, 8, 6, 8, 23, 11, 15, 13, 11, 23, 12, 19, 13, 10, 8, 12, 14, 11, 12, 9, 14, 17, 11, 18, 20, 9, 9, 19, 12, 15, 17, 11, 13, 10, 21, 6, 6, 7, 8, 20, 15, 16, 9, 8, 19, 3, 16, 7, 12, 14, 8, 17, 13, 9, 8, 8, 12, 11, 11, 12, 13, 15, 14, 11, 11, 11, 15, 7, 14, 7, 6, 7, 8, 13, 10, 14, 6, 13, 7, 21, 7, 8, 13, 10, 6, 18, 10, 8, 18, 18, 14, 15, 19, 12, 8, 14, 8, 17, 9, 9, 11, 9, 9, 8, 12, 10, 15, 13, 7, 15, 8, 11, 11, 6, 14, 21, 11, 7, 9, 14, 14, 12, 8, 14, 16, 10, 9, 5, 7, 17, 10, 21, 8, 13, 8, 8, 11, 8, 13, 13, 16, 11, 13, 9, 18, 11, 7, 8, 7, 6, 7, 15, 10, 8, 13, 19, 5, 10, 3, 11, 11, 13, 11, 14, 9, 13, 10, 15, 8, 5, 15, 6, 13, 10, 10, 6, 9, 9, 7, 19, 14, 10, 15, 11, 8, 9, 14, 18, 15, 5, 8, 16, 12, 8, 18, 7, 12, 8, 6, 11, 9, 18, 12, 17, 9, 11, 10, 13, 16, 15, 9, 10, 14, 10, 10, 11, 11, 13, 9, 18, 13, 14, 9, 9, 7, 12, 11, 14, 11, 9, 8, 12, 10, 8, 7, 11, 11, 9, 10, 18, 8, 5, 11, 13, 11, 6, 14, 10, 12, 11, 13, 11, 11, 3, 15, 11, 10, 10, 10, 10, 12, 13, 15, 9, 8, 10, 5, 11, 7, 21, 7, 9, 17, 6, 10, 10, 14, 15, 11, 14, 9, 6, 9, 8, 11, 11, 7, 5, 10, 12, 13, 12, 11, 15, 11, 9, 15, 10, 10, 7, 14, 15, 11, 9, 8, 6, 10, 9, 16, 16, 15, 6, 17, 11, 9, 14, 11, 8, 8, 7, 9, 13, 7, 12, 14, 10, 8, 10, 6, 8, 9, 8, 15, 10, 10, 15, 13, 11, 11, 5, 10, 14, 13, 14, 13, 15, 7, 6, 12, 13, 9, 13, 18, 8, 13, 8, 6, 10, 10, 7, 14, 18, 12, 11, 12, 10, 7, 7, 12, 14, 12, 9, 12, 10, 7, 14, 11, 13, 10, 14, 10, 12, 9, 10, 9, 7, 9, 9, 11, 11, 9, 8, 10, 11, 8, 6, 9, 13, 3, 12, 15, 11, 12, 17, 14, 11, 19, 10, 9, 13, 13, 7, 6, 9, 9, 11, 9, 10, 12, 10, 10, 13, 9, 11, 15, 16, 10, 10, 10, 14, 11, 14, 11, 9, 10, 7, 10, 3, 12, 14, 17, 11, 15, 7, 26, 11, 5, 8, 6, 16, 17, 10, 14, 11, 12, 13, 12, 21, 16, 8, 16, 7, 7, 12, 14, 15, 4, 9, 7, 13, 8, 12, 12, 12, 7, 9, 10, 12, 17, 12, 14, 10, 10, 9, 18, 10, 14, 4, 9, 13, 14, 11, 7, 7, 19, 16, 11, 12, 14, 9, 9, 12, 11, 13, 14, 7, 14, 14, 8, 10, 7, 8, 8, 10, 11, 17, 9, 17, 15, 11, 14, 10, 7, 7, 8, 13, 15, 6, 14, 6, 10, 12, 14, 12, 17, 21, 12, 22, 11, 10, 13, 10, 16, 9, 8, 13, 12, 11, 6, 15, 11, 14, 10, 10, 15, 7, 9, 13, 8, 16, 16, 15, 14, 18, 13, 10, 15, 11, 16, 10, 9, 9, 17, 12, 10, 19, 8, 10, 14, 16, 14, 14, 3, 9, 13, 12, 9, 9, 10, 11, 17, 11, 8, 12, 12, 12, 16, 12, 13, 16, 8, 17, 10, 17, 9, 11, 10, 9, 10, 12, 10, 10, 12, 10, 7, 15, 16, 15, 12, 14, 7, 6, 16, 13, 11, 7, 9, 12, 7, 9, 16, 7, 7, 8, 10, 25, 7, 15, 8, 5, 17, 10, 13, 11, 10, 7, 9, 12, 9, 3, 8, 8, 14, 11, 14, 13, 12, 10, 10, 19, 11, 16, 18, 15, 7, 7, 13, 7, 13, 11, 12, 20, 7, 10, 6, 11, 13, 5, 16, 8, 7, 9, 8, 6, 9, 10, 13, 11, 21, 11, 17, 8, 11, 14, 15, 15, 15, 6, 10, 6, 12, 8, 9, 16, 10, 14, 10, 14, 10, 11, 9, 8, 4, 6, 13, 12, 14, 19, 11, 12, 12, 15, 12, 13, 8, 8, 13, 13, 9, 10, 14, 10, 6, 7, 13, 15, 15, 7, 8, 13, 13, 7, 11, 16, 13, 15, 16, 15, 21, 13, 14, 14, 7, 9, 6, 10, 8, 10, 11, 11, 18, 12, 4, 10, 12, 11, 8, 12, 10, 9, 6, 10, 9, 8, 14, 6, 7, 6, 12, 9, 12, 15, 8, 6, 11, 8, 7, 11, 11, 3, 8, 15, 8, 10, 12, 9, 13, 10, 8, 12, 13, 13, 12, 14, 12, 10, 9, 9, 10, 17, 10, 9, 15, 6, 10, 17, 11, 13, 17, 14, 7, 10, 8, 9, 13, 3, 8, 9, 11, 7, 7, 10, 8, 11, 10, 6, 13, 6, 11, 13, 9, 9, 17, 6, 6, 12, 20, 10, 10, 9, 12, 11, 8, 14, 9, 7, 16, 16, 9, 15, 11, 11, 4, 13, 11, 15, 11, 19, 14, 20, 8, 18, 8, 18, 24, 15, 7, 9, 16, 11, 13, 12, 10, 11, 9, 11, 15, 11, 14, 14, 19, 11, 11, 6, 9, 11, 7, 7, 10, 14, 14, 6, 7, 7, 11, 13, 15, 9, 14, 22, 18, 11, 14, 12, 6, 10, 12, 10, 9, 8, 19, 14, 11, 11, 16, 9, 8, 9, 9, 20, 12, 12, 9, 12, 10, 11, 7, 18, 9, 11, 8, 9, 8, 7, 16, 16, 9, 9, 9, 13, 12, 8, 10, 20, 13, 18, 13, 9, 21, 7, 12, 7, 11, 10, 4, 7, 16, 13, 7, 11, 19, 14, 6, 15, 8, 8, 21, 9, 7, 11, 16, 10, 11, 8, 14, 8, 7, 5, 6, 16, 14, 14, 8, 12, 18, 17, 13, 8, 8, 16, 6, 11, 10, 9, 6, 11, 13, 11, 12, 14, 15, 12, 14, 16, 8, 10, 9, 22, 11, 12, 8, 4, 11, 9, 17, 8, 13, 9, 14, 8, 7, 9, 10, 9, 11, 7, 8, 11, 12, 17, 13, 20, 11, 19, 14, 15, 10, 7, 5, 12, 10, 12, 7, 14, 18, 14, 12, 11, 7, 5, 20, 8, 20, 22, 10, 8, 10, 11, 16, 16, 4, 18, 14, 9, 8, 25, 18, 9, 17, 10, 12, 7, 9, 13, 14, 11, 10, 10, 14, 10, 10, 19, 11, 9, 10, 16, 10, 11, 12, 7, 11, 16, 9, 13, 12, 10, 6, 11, 15, 11, 3, 7, 9, 14, 14, 17, 11, 10, 12, 9, 13, 13, 13, 9, 13, 11, 11, 12, 12, 12, 11, 8, 12, 9, 15, 18, 12, 8, 9, 12, 15, 18, 20, 18, 5, 9, 6, 12, 14, 7, 9, 9, 7, 13, 7, 9, 6, 6, 10, 8, 8, 12, 15, 12, 10, 14, 12, 11, 8, 6, 6, 8, 11, 7, 7, 11, 15, 9, 11, 15, 15, 14, 17, 10, 8, 8, 12, 9, 6, 13, 17, 13, 16, 17, 12, 16, 18, 18, 19, 12, 14, 13, 10, 11, 7, 14, 14, 10, 8, 9, 10, 16, 13, 8, 12, 11, 13, 12, 8, 8, 7, 7, 18, 10, 7, 13, 13, 6, 8, 8, 13, 8, 7, 16, 10, 9, 10, 18, 8, 11, 13, 8, 16, 10, 15, 9, 5, 12, 11, 9, 10, 6, 10, 11, 8, 13, 11, 6, 7, 10, 8, 11, 12, 11, 10, 17, 12, 13, 6, 9, 13, 12, 16, 11, 16, 15, 14, 12, 11, 8, 19, 17, 8, 11, 11, 10, 12, 8, 4, 9, 7, 18, 13, 9, 8, 8, 15, 14, 14, 13, 8, 12, 18, 8, 14, 12, 12, 13, 8, 10, 10, 10, 12, 7, 13, 10, 16, 10, 11, 7, 10, 11, 11, 9, 14, 11, 7, 10, 7, 14, 14, 11, 18, 12, 15, 15, 12, 16, 10, 12, 21, 15, 13, 10, 7, 14, 19, 13, 14, 12, 10, 14, 13, 8, 8, 11, 9, 9, 12, 11, 7, 13, 7, 9, 14, 15, 10, 14, 11, 16, 6, 20, 14, 13, 10, 10, 8, 10, 7, 13, 14, 9, 13, 10, 9, 10, 5, 9, 14, 10, 18, 13, 10, 10, 17, 15, 17, 12, 12, 7, 8, 12, 10, 10, 13, 11, 15, 16, 14, 13, 8, 11, 10, 8, 9, 19, 15, 13, 13, 20, 17, 14, 7, 9, 11, 10, 13, 12, 8, 9, 14, 9, 12, 7, 10, 10, 10, 13, 12, 30, 6, 9, 11, 6, 17, 18, 20, 8, 14, 7, 9, 14, 23, 13, 14, 11, 17, 10, 11, 11, 18, 12, 6, 11, 12, 5, 15, 11, 8, 11, 14, 14, 14, 24, 11, 15, 14, 16, 16, 8, 8, 6, 12, 8, 13, 10, 11, 12, 10, 9, 15, 7, 17, 10, 9, 8, 17, 14, 19, 23, 16, 9, 14, 9, 16, 12, 15, 12, 14, 11, 10, 7, 10, 10, 22, 19, 8, 12, 9, 12, 15, 22, 23, 14, 11, 5, 14, 15, 23, 13, 14, 11, 13, 14, 11, 7, 14, 16, 12, 15, 17, 13, 5, 8, 10, 5, 9, 7, 13, 13, 13, 12, 8, 13, 13, 11, 14, 11, 13, 17, 14, 9, 15, 8, 14, 17, 13, 15, 19, 5, 11, 9, 7, 6, 17, 10, 11, 13, 12, 14, 12, 15, 8, 16, 12, 7, 8, 12, 6, 8, 8, 8, 12, 9, 7, 10, 7, 10, 9, 11, 10, 11, 9, 12, 7, 20, 12, 23, 17, 16, 15, 9, 17, 11, 9, 12, 10, 14, 12, 7, 9, 7, 8, 13, 10, 8, 12, 8, 9, 10, 12, 7, 19, 12, 5, 15, 13, 8, 10, 8, 7, 10, 9, 7, 9, 11, 11, 11, 13, 12, 13, 9, 13, 17, 5, 7, 11, 14, 19, 9, 7, 11, 11, 9, 9, 10, 7, 13, 10, 9, 13, 16, 10, 15, 7, 13, 4, 11, 13, 7, 8, 15, 11, 11, 13, 11, 9, 7, 8, 7, 11, 7, 11, 7, 13, 15, 10, 10, 15, 10, 9, 5, 9, 10, 10, 12, 15, 7, 8, 18, 11, 12, 9, 4, 10, 11, 5, 7, 16, 7, 7, 13, 8, 5, 11, 15, 13, 17, 9, 11, 10, 10, 7, 10, 10, 11, 12, 9, 12, 11, 10, 7, 7, 13, 17, 12, 11, 12, 9, 17, 15, 13, 13, 3, 14, 10, 11, 9, 8, 14, 9, 10, 15, 18, 7, 16, 7, 5, 13, 10, 16, 10, 3, 8, 6, 12, 7, 12, 11, 19, 12, 17, 14, 13, 14, 13, 13, 7, 13, 7, 14, 9, 6, 13, 11, 11, 13, 14, 12, 4, 6, 9, 7, 9, 10, 12, 16, 12, 10, 6, 7, 21, 20, 14, 16, 13, 17, 9, 11, 6, 14, 15, 9, 16, 5, 14, 12, 8, 10, 11, 18, 15, 16, 13, 9, 12, 20, 20, 17, 9, 4, 16, 15, 12, 9, 9, 14, 13, 15, 11, 8, 13, 6, 17, 11, 13, 9, 17, 12, 11, 12, 5, 20, 9, 16, 13, 17, 8, 10, 10, 12, 13, 17, 19, 11, 10, 13, 24, 14, 8, 15, 19, 12, 10, 20, 12, 12, 19, 14, 11, 10, 11, 9, 10, 14, 11, 12, 15, 11, 11, 19, 16, 9, 15, 13, 17, 14, 16, 7, 15, 15, 19, 11, 13, 10, 5, 6, 5, 7, 20, 8, 12, 11, 7, 10, 8, 14, 8, 9, 10, 11, 6, 16, 9, 12, 8, 11, 12, 15, 6, 4, 17, 9, 9, 15, 11, 7, 11, 7, 8, 13, 14, 21, 11, 14, 14, 11, 4, 5, 6, 6, 16, 13, 12, 10, 8, 16, 11, 12, 20, 14, 20, 10, 9, 13, 7, 10, 18, 12, 19, 11, 16, 10, 11, 15, 10, 9, 8, 12, 6, 7, 8, 7, 5, 20, 8, 12, 16, 12, 9, 16, 19, 10, 19, 8, 9, 19, 19, 7, 16, 8, 11, 11, 10, 7, 10, 15, 4, 10, 7, 12, 14, 15, 10, 10, 17, 12, 11, 7, 12, 12, 6, 3, 13, 12, 10, 18, 18, 12, 5, 8, 15, 10, 17, 6, 11, 6, 10, 12, 5, 11, 16, 8, 10, 11, 13, 12, 15, 12, 12, 10, 11, 8, 11, 12, 9, 14, 11, 10, 21, 10, 15, 11, 9, 10, 11, 9, 8, 11, 14, 12, 20, 12, 16, 16, 11, 6, 7, 7, 24, 10, 11, 16, 17, 22, 14, 17, 11, 12, 16, 17, 15, 14, 14, 9, 8, 19, 18, 10, 8, 9, 10, 14, 11, 13, 7, 16, 14, 18, 16, 16, 12, 7, 7, 13, 11, 14, 10, 10, 10, 7, 7, 8, 11, 12, 11, 8, 9, 13, 12, 9, 11, 6, 7, 13, 17, 12, 16, 13, 15, 8, 12, 8, 9, 15, 12, 9, 11, 7, 12, 6, 13, 14, 13, 6, 12, 13, 11, 8, 17, 14, 14, 14, 17, 15, 16, 13, 17, 9, 13, 19, 9, 26, 8, 8, 12, 7, 11, 9, 11, 18, 22, 18, 11, 11, 12, 10, 9, 16, 9, 8, 7, 12, 13, 14, 16, 9, 10, 10, 13, 16, 13, 4, 13, 7, 7, 4, 9, 3, 7, 14, 15, 17, 8, 10, 11, 11, 11, 16, 18, 16, 15, 15, 10, 12, 16, 14, 13, 7, 12, 11, 10, 15, 11, 6, 12, 19, 8, 8, 13, 13, 10, 13, 9, 7, 4, 11, 8, 10, 10, 15, 8, 6, 10, 14, 11, 12, 8, 14, 13, 12, 8, 10, 18, 8, 12, 6, 14, 13, 9, 13, 10, 14, 10, 10, 13, 3, 14, 11, 8, 14, 10, 9, 12, 6, 8, 8, 7, 10, 14, 13, 13, 15, 9, 15, 20, 12, 12, 9, 17, 14, 15, 17, 10, 11, 14, 17, 13, 11, 2, 11, 12, 15, 9, 11, 11, 7, 7, 8, 12, 9, 11, 3, 6, 13, 8, 11, 14, 5, 19, 10, 7, 13, 11, 11, 12, 7, 5, 12, 19, 22, 18, 14, 5, 17, 7, 9, 12, 15, 7, 8, 9, 12, 9, 6, 7, 15, 5, 8, 8, 14, 9, 7, 9, 7, 13, 8, 9, 11, 8, 7, 7, 10, 11, 6, 6, 9, 3, 8, 11, 14, 7, 8, 11, 15, 13, 15, 6, 12, 16, 13, 8, 10, 18, 12, 10, 13, 10, 6, 21, 17, 10, 10, 16, 12, 16, 13, 16, 21, 7, 24, 15, 17, 8, 19, 13, 12, 9, 17, 11, 11, 10, 12, 25, 13, 12, 7, 9, 13, 10, 18, 15, 16, 13, 7, 12, 12, 14, 15, 6, 10, 9, 14, 9, 11, 17, 4, 9, 16, 12, 11, 19, 9, 5, 8, 11, 16, 17, 10, 15, 12, 20, 13, 16, 11, 11, 12, 11, 12, 8, 7, 7, 12, 19, 20, 9, 10, 11, 22, 8, 9, 6, 10, 14, 16, 16, 14, 8, 9, 17, 7, 11, 14, 14, 10, 9, 10, 7, 8, 7, 11, 6, 9, 8, 8, 13, 13, 9, 13, 11, 7, 7, 5, 10, 13, 10, 11, 12, 13, 11, 13, 11, 6, 15, 13, 14, 11, 11, 8, 15, 13, 14, 15, 10, 12, 11, 12, 5, 8, 9, 9, 10, 14, 12, 21, 11, 13, 16, 19, 10, 13, 15, 15, 11, 12, 8, 10, 14, 14, 3, 12, 11, 15, 13, 11, 8, 12, 9, 6, 10, 12, 11, 9, 21, 11, 8, 9, 12, 11, 18, 14, 20, 15, 16, 15, 12, 16, 19, 13, 10, 7, 8, 9, 6, 12, 17, 10, 3, 8, 8, 11, 7, 10, 8, 15, 10, 9, 11, 21, 13, 8, 19, 11, 16, 13, 12, 14, 10, 12, 5, 7, 8, 15, 20, 8, 9, 11, 13, 16, 11, 9, 7, 9, 18, 13, 14, 12, 14, 12, 17, 9, 17, 12, 11, 14, 3, 10, 7, 6, 17, 4, 7, 11, 7, 13, 9, 9, 24, 11, 8, 12, 11, 11, 9, 10, 10, 18, 23, 9, 11, 7, 19, 10, 8, 13, 16, 13, 19, 20, 10, 29, 16, 30, 13, 7, 10, 5, 7, 10, 13, 17, 13, 12, 20, 10, 11, 13, 19, 6, 8, 9, 10, 9, 8, 11, 17, 23, 11, 8, 13, 12, 13, 3, 9, 13, 13, 8, 15, 15, 13, 12, 9, 11, 14, 11, 13, 5, 7, 13, 11, 10, 12, 12, 12, 9, 11, 9, 6, 13, 10, 14, 12, 10, 22, 14, 10, 17, 10, 14, 13, 19, 12, 7, 11, 15, 14, 10, 7, 10, 16, 15, 3, 14, 15, 7, 13, 16, 14, 17, 20, 9, 17, 14, 14, 16, 12, 14, 13, 13, 13, 9, 14, 12, 18, 16, 12, 10, 8, 7, 8, 12, 8, 9, 15, 10, 8, 13, 5, 12, 12, 10, 18, 9, 16, 14, 8, 14, 10, 8, 8, 9, 7, 8, 7, 10, 14, 16, 16, 13, 11, 10, 11, 11, 9, 13, 7, 13, 16, 9, 17, 8, 8, 14, 14, 10, 14, 10, 14, 12, 15, 6, 13, 13, 19, 11, 9, 10, 7, 14, 12, 12, 12, 13, 14, 12, 12, 9, 8, 12, 12, 11, 12, 13, 11, 3, 10, 13, 10, 15, 10, 18, 8, 10, 14, 20, 15, 12, 8, 7, 11, 10, 7, 10, 12, 4, 10, 14, 18, 14, 19, 9, 8, 8, 12, 19, 9, 12, 20, 16, 14, 11, 12, 19, 16, 11, 19, 14, 5, 8, 9, 12, 15, 9, 12, 10, 11, 9, 13, 10, 12, 14, 14, 17, 7, 7, 14, 9, 8, 7, 9, 11, 8, 10, 12, 15, 14, 12, 8, 9, 11, 9, 9, 10, 5, 12, 19, 16, 10, 5, 10, 12, 11, 8, 15, 10, 8, 17, 14, 9, 5, 9, 8, 6, 10, 10, 9, 9, 11, 17, 14, 13, 7, 14, 11, 15, 9, 11, 11, 14, 7, 20, 9, 17, 9, 11, 16, 9, 11, 8, 22, 10, 9, 20, 10, 15, 16, 10, 12, 15, 11, 12, 8, 14, 6, 8, 10, 8, 10, 9, 18, 19, 7, 12, 16, 10, 10, 10, 5, 12, 8, 10, 8, 9, 11, 10, 11, 12, 8, 10, 7, 8, 7, 7, 13, 13, 13, 14, 14, 10, 13, 15, 14, 9, 9, 10, 15, 11, 10, 15, 17, 14, 10, 14, 12, 10, 16, 10, 10, 8, 9, 9, 12, 6, 5, 8, 14, 13, 11, 13, 12, 19, 15, 7, 11, 5, 8, 14, 8, 8, 10, 9, 9, 11, 5, 10, 10, 7, 9, 18, 12, 10, 9, 9, 13, 16, 14, 10, 22, 7, 19, 16, 21, 12, 12, 14, 18, 14, 14, 15, 13, 14, 12, 11, 14, 11, 12, 10, 8, 16, 11, 11, 12, 13, 15, 13, 8, 17, 12, 7, 17, 13, 16, 17, 16, 12, 14, 16, 14, 11, 14, 16, 11, 12, 11, 9, 14, 12, 8, 13, 16, 13, 8, 11, 10, 6, 6, 5, 18, 13, 18, 14, 11, 13, 11, 14, 13, 8, 11, 11, 8, 10, 8, 7, 13, 18, 5, 8, 6, 19, 3, 8, 6, 8, 5, 8, 14, 9, 6, 13, 12, 13, 15, 10, 10, 7, 11, 8, 14, 11, 13, 10, 10, 14, 11, 21, 8, 13, 3, 15, 6, 8, 10, 7, 6, 9, 10, 11, 7, 11, 18, 11, 10, 12, 6, 8, 12, 8, 13, 10, 11, 11, 12, 10, 9, 13, 9, 10, 10, 11, 16, 8, 8, 12, 14, 9, 8, 9, 9, 7, 7, 15, 8, 8, 10, 14, 12, 10, 10, 10, 4, 7, 12, 8, 10, 15, 16, 15, 14, 16, 9, 11, 12, 13, 13, 16, 10, 9, 10, 12, 12, 6, 9, 8, 12, 10, 3, 6, 11, 2, 17, 14, 18, 18, 17, 10, 3, 9, 13, 13, 23, 17, 17, 7, 7, 11, 18, 16, 11, 7, 7, 9, 14, 15, 16, 7, 8, 10, 9, 11, 10, 10, 15, 13, 15, 8, 11, 17, 14, 10, 12, 18, 6, 12, 4, 14, 15, 5, 10, 12, 10, 11, 8, 11, 12, 19, 11, 7, 8, 20, 13, 14, 11, 12, 7, 7, 6, 7, 14, 9, 15, 13, 11, 14, 11, 11, 7, 10, 8, 7, 10, 8, 5, 9, 8, 11, 5, 8, 10, 11, 9, 9, 7, 7, 9, 15, 12, 8, 9, 14, 12, 8, 7, 25, 10, 12, 13, 7, 12, 11, 13, 14, 11, 10, 9, 15, 15, 13, 6, 12, 13, 12, 18, 14, 13, 15, 19, 12, 7, 16, 10, 14, 16, 13, 7, 16, 9, 11, 12, 12, 13, 13, 12, 14, 8, 4, 8, 8, 20, 7, 12, 12, 11, 13, 14, 10, 9, 9, 9, 6, 12, 9, 7, 14, 12, 17, 13, 15, 14, 9, 10, 5, 19, 13, 12, 7, 16, 3, 10, 12, 13, 13, 5, 10, 26, 15, 17, 12, 10, 17, 12, 9, 9, 9, 14, 6, 4, 9, 13, 6, 14, 14, 10, 16, 11, 10, 8, 10, 7, 10, 9, 7, 14, 8, 8, 14, 13, 12, 8, 9, 19, 11, 21, 10, 8, 11, 7, 15, 10, 13, 10, 19, 14, 29, 11, 17, 18, 15, 9, 9, 9, 12, 6, 13, 6, 18, 14, 12, 10, 13, 15, 8, 8, 12, 10, 8, 12, 8, 10, 14, 9, 3, 7, 6, 11, 15, 8, 11, 13, 12, 12, 17, 11, 12, 11, 21, 12, 13, 8, 8, 7, 13, 10, 7, 10, 8, 13, 8, 7, 19, 27, 13, 12, 8, 15, 9, 12, 8, 8, 8, 8, 6, 13, 10, 7, 11, 10, 18, 13, 9, 6, 19, 11, 17, 13, 9, 8, 12, 15, 11, 12, 15, 12, 8, 8, 12, 17, 13, 9, 10, 10, 3, 8, 13, 7, 9, 29, 8, 20, 11, 8, 6, 8, 8, 9, 13, 12, 12, 14, 17, 13, 8, 10, 8, 11, 3, 10, 10, 14, 13, 16, 11, 15, 14, 15, 12, 19, 14, 15, 9, 9, 9, 9, 13, 8, 12, 13, 12, 11, 12, 9, 7, 7, 16, 15, 5, 15, 15, 7, 14, 14, 9, 10, 16, 13, 16, 14, 8, 14, 7, 14, 25, 9, 16, 13, 11, 11, 20, 6, 8, 8, 6, 8, 6, 11, 6, 11, 12, 13, 14, 13, 17, 13, 11, 5, 10, 12, 15, 11, 8, 10, 10, 10, 6, 7, 8, 12, 15, 13, 13, 16, 10, 14, 18, 9, 21, 13, 16, 16, 15, 10, 10, 21, 8, 9, 10, 19, 13, 25, 15, 9, 15, 12, 12, 12, 5, 9, 10, 9, 4, 14, 8, 9, 8, 9, 5, 5, 13, 8, 11, 10, 11, 9, 14, 10, 18, 6, 8, 11, 14, 14, 11, 22, 14, 11, 14, 11, 10, 18, 13, 15, 4, 17, 15, 15, 9, 5, 7, 5, 6, 6, 13, 7, 6, 7, 13, 9, 14, 6, 13, 9, 12, 12, 12, 12, 6, 11, 10, 5, 10, 12, 21, 12, 4, 13, 18, 14, 10, 14, 8, 11, 11, 24, 11, 7, 12, 8, 15, 14, 12, 11, 10, 18, 12, 14, 18, 13, 11, 8, 14, 12, 12, 12, 14, 7, 16, 11, 16, 12, 14, 10, 19, 8, 16, 20, 10, 6, 17, 11, 9, 10, 8, 4, 11, 9, 9, 4, 8, 11, 6, 7, 15, 16, 13, 8, 10, 9, 12, 13, 19, 10, 11, 10, 16, 12, 10, 17, 13, 12, 8, 16, 5, 13, 8, 12, 18, 12, 4, 11, 7, 10, 13, 11, 14, 14, 10, 14, 13, 10, 23, 14, 7, 13, 13, 8, 23, 14, 14, 8, 5, 11, 8, 11, 9, 13, 13, 17, 11, 10, 15, 17, 7, 15, 12, 7, 14, 9, 10, 10, 10, 9, 15, 11, 17, 15, 10, 12, 11, 7, 7, 9, 5, 5, 8, 10, 15, 11, 13, 10, 12, 14, 12, 11, 9, 12, 9, 17, 13, 8, 9, 11, 16, 16, 12, 13, 14, 15, 13, 23, 16, 14, 14, 18, 8, 11, 4, 12, 8, 8, 3, 14, 14, 11, 11, 8, 13, 9, 11, 9, 8, 13, 12, 15, 14, 13, 16, 13, 13, 10, 13, 13, 9, 14, 13, 14, 10, 14, 6, 16, 11, 17, 16, 6, 8, 13, 10, 10, 6, 8, 11, 19, 10, 8, 10, 10, 10, 11, 9, 12, 5, 10, 13, 21, 23, 16, 7, 8, 7, 10, 10, 13, 11, 15, 14, 8, 13, 25, 12, 16, 13, 12, 15, 7, 11, 11, 7, 8, 16, 9, 12, 13, 19, 13, 12, 11, 10, 11, 13, 10, 11, 17, 6, 12, 9, 14, 11, 13, 17, 16, 15, 16, 13, 12, 14, 7, 15, 10, 7, 7, 15, 18, 8, 9, 14, 13, 15, 9, 12, 13, 17, 7, 6, 9, 14, 9, 23, 12, 11, 10, 10, 21, 15, 11, 13, 9, 9, 8, 8, 8, 3, 15, 12, 9, 15, 8, 13, 8, 6, 5, 14, 10, 7, 8, 14, 7, 13, 15, 8, 16, 9, 11, 6, 11, 8, 16, 11, 10, 6, 11, 14, 12, 11, 14, 12, 10, 6, 9, 16, 15, 8, 4, 8, 9, 6, 6, 17, 13, 12, 9, 11, 6, 8, 7, 12, 12, 9, 6, 8, 9, 10, 14, 18, 22, 11, 13, 6, 11, 11, 10, 7, 11, 14, 9, 4, 11, 15, 15, 10, 10, 7, 8, 12, 12, 8, 14, 18, 11, 15, 3, 4, 8, 10, 7, 10, 6, 19, 12, 16, 13, 14, 23, 19, 25, 10, 7, 11, 14, 18, 3, 26, 7, 8, 7, 11, 7, 5, 6, 10, 9, 11, 9, 8, 18, 8, 15, 4, 16, 7, 9, 9, 15, 16, 12, 8, 9, 10, 12, 13, 16, 10, 3, 8, 11, 7, 12, 11, 11, 7, 9, 12, 9, 9, 19, 8, 13, 10, 13, 13, 14, 10, 7, 15, 13, 11, 10, 17, 14, 10, 8, 11, 10, 11, 9, 11, 8, 8, 15, 9, 11, 12, 7, 7, 12, 6, 11, 9, 8, 10, 11, 12, 16, 8, 11, 6, 6, 8, 9, 8, 9, 7, 9, 17, 11, 13, 5, 9, 10, 10, 13, 14, 15, 15, 10, 17, 15, 8, 8, 13, 8, 7, 16, 10, 9, 6, 13, 7, 6, 10, 3, 11, 8, 17, 15, 14, 6, 8, 5, 11, 12, 4, 15, 6, 14, 10, 12, 18, 15, 12, 7, 16, 9, 15, 11, 15, 7, 11, 11, 13, 6, 13, 13, 10, 17, 10, 8, 11, 8, 6, 20, 8, 13, 20, 14, 13, 16, 8, 13, 5, 7, 7, 13, 11, 11, 15, 11, 9, 17, 10, 15, 8, 11, 12, 12, 9, 7, 16, 11, 25, 10, 23, 11, 14, 19, 15, 7, 13, 11, 11, 8, 16, 12, 24, 13, 15, 10, 7, 10, 11, 13, 8, 9, 14, 8, 13, 7, 15, 12, 7, 7, 9, 14, 7, 10, 10, 8, 12, 10, 10, 11, 17, 13, 10, 10, 18, 14, 6, 9, 8, 10, 11, 10, 8, 12, 12, 12, 12, 15, 10, 9, 18, 16, 14, 8, 10, 9, 11, 12, 12, 10, 11, 9, 14, 5, 8, 15, 10, 11, 7, 9, 10, 7, 10, 8, 8, 12, 12, 9, 11, 9, 12, 7, 13, 12, 17, 12, 7, 11, 11, 10, 7, 13, 13, 9, 8, 10, 8, 10, 9, 17, 10, 6, 12, 16, 7, 11, 8, 14, 8, 17, 16, 11, 17, 13, 9, 10, 13, 15, 9, 12, 11, 10, 8, 11, 14, 8, 8, 12, 9, 12, 8, 8, 11, 7, 11, 9, 17, 22, 8, 10, 15, 14, 14, 10, 10, 10, 12, 20, 9, 13, 17, 13, 11, 10, 19, 21, 12, 10, 15, 6, 10, 11, 8, 10, 9, 7, 15, 10, 8, 9, 12, 8, 7, 6, 8, 9, 8, 9, 14, 15, 9, 8, 9, 15, 9, 5, 11, 10, 16, 9, 14, 8, 7, 4, 8, 6, 12, 16, 8, 14, 9, 11, 11, 11, 22, 9, 15, 11, 14, 13, 7, 14, 7, 5, 12, 18, 7, 11, 11, 13, 9, 7, 12, 10, 13, 11, 10, 12, 11, 13, 13, 12, 11, 11, 6, 10, 9, 11, 8, 13, 12, 9, 13, 13, 16, 7, 12, 13, 23, 19, 10, 6, 18, 13, 14, 12, 14, 13, 15, 14, 11, 8, 14, 11, 12, 7, 11, 12, 11, 7, 13, 9, 9, 8, 9, 10, 3, 8, 19, 11, 13, 12, 8, 18, 14, 23, 12, 18, 12, 7, 16, 16, 12, 13, 11, 14, 15, 10, 12, 18, 14, 9, 11, 15, 6, 8, 10, 11, 18, 6, 11, 10, 15, 14, 17, 8, 17, 11, 11, 7, 11, 8, 7, 20, 8, 7, 11, 13, 10, 12, 5, 12, 22, 17, 11, 10, 14, 20, 9, 5, 9, 14, 10, 18, 17, 15, 10, 9, 8, 9, 13, 11, 8, 13, 10, 9, 17, 14, 16, 18, 21, 12, 15, 13, 7, 8, 16, 11, 11, 9, 12, 11, 19, 11, 15, 9, 8, 15, 16, 11, 3, 13, 13, 12, 12, 18, 8, 18, 16, 11, 9, 14, 13, 10, 7, 11, 8, 3, 4, 15, 8, 10, 8, 9, 11, 13, 13, 16, 15, 15, 12, 10, 7, 7, 12, 8, 11, 18, 11, 15, 8, 15, 9, 10, 9, 12, 12, 12, 9, 7, 15, 9, 7, 8, 8, 11, 21, 15, 7, 7, 8, 9, 8, 20, 6, 13, 7, 11, 9, 9, 10, 10, 18, 8, 11, 15, 11, 13, 12, 7, 7, 13, 11, 9, 16, 6, 17, 17, 7, 8, 11, 7, 11, 10, 8, 9, 14, 12, 12, 9, 7, 14, 11, 7, 10, 9, 22, 12, 15, 12, 13, 19, 13, 9, 9, 17, 7, 9, 6, 8, 13, 14, 9, 3, 7, 4, 7, 8, 8, 7, 6, 13, 15, 12, 9, 8, 13, 14, 11, 9, 11, 10, 7, 18, 3, 10, 17, 14, 12, 11, 7, 12, 7, 8, 8, 7, 9, 8, 10, 19, 13, 12, 14, 11, 8, 15, 12, 11, 6, 13, 9, 13, 12, 11, 20, 8, 10, 15, 16, 14, 6, 10, 10, 9, 15, 15, 11, 12, 15, 15, 12, 13, 11, 6, 16, 9, 10, 16, 7, 13, 14, 10, 10, 16, 3, 12, 15, 13, 9, 13, 11, 10, 15, 14, 9, 9, 8, 13, 14, 12, 18, 9, 11, 14, 7, 11, 20, 13, 6, 11, 9, 11, 13, 9, 7, 17, 6, 6, 7, 12, 11, 13, 9, 10, 14, 6, 9, 7, 5, 10, 10, 11, 3, 9, 10, 14, 12, 10, 11, 12, 8, 12, 13, 13, 19, 7, 11, 4, 4, 9, 13, 12, 12, 8, 8, 13, 15, 12, 10, 11, 12, 15, 15, 8, 10, 9, 10, 8, 16, 13, 9, 7, 8, 13, 8, 11, 8, 13, 14, 12, 4, 13, 13, 7, 12, 8, 12, 9, 13, 14, 16, 10, 5, 16, 7, 6, 9, 7, 6, 13, 11, 8, 14, 8, 10, 4, 13, 8, 10, 11, 9, 14, 19, 5, 11, 13, 14, 12, 19, 11, 9, 14, 13, 12, 14, 16, 9, 12, 12, 12, 9, 11, 11, 9, 10, 12, 10, 17, 9, 8, 13, 12, 10, 10, 7, 7, 12, 9, 9, 9, 15, 9, 15, 6, 12, 9, 6, 11, 10, 10, 10, 6, 10, 9, 14, 10, 26, 12, 9, 7, 14, 15, 10, 12, 8, 9, 7, 7, 12, 11, 7, 20, 15, 13, 10, 13, 15, 16, 16, 20, 11, 7, 6, 13, 6, 8, 11, 12, 8, 13, 5, 9, 10, 21, 17, 13, 9, 10, 10, 9, 9, 11, 14, 15, 18, 12, 15, 14, 10, 11, 8, 16, 10, 14, 16, 11, 11, 12, 13, 15, 9, 24, 10, 10, 10, 12, 14, 17, 12, 12, 8, 15, 16, 11, 13, 14, 9, 7, 15, 11, 9, 13, 9, 15, 11, 12, 17, 12, 16, 8, 13, 10, 12, 13, 9, 11, 9, 6, 8, 7, 13, 14, 16, 11, 10, 13, 14, 14, 14, 9, 9, 14, 11, 18, 11, 11, 6, 11, 15, 14, 11, 13, 12, 15, 14, 10, 10, 13, 15, 8, 7, 9, 6, 7, 10, 7, 11, 9, 15, 12, 14, 11, 11, 21, 9, 4, 13, 11, 19, 16, 24, 8, 14, 8, 9, 12, 8, 8, 8, 8, 8, 11, 15, 8, 17, 9, 15, 9, 15, 7, 18, 8, 12, 17, 12, 10, 10, 7, 3, 12, 9, 12, 8, 15, 7, 12, 8, 13, 6, 11, 9, 12, 9, 14, 6, 10, 19, 11, 10, 13, 11, 8, 11, 11, 9, 14, 7, 14, 17, 12, 11, 12, 13, 26, 11, 10, 7, 9, 15, 13, 8, 9, 13, 9, 7, 16, 9, 8, 13, 13, 18, 11, 10, 14, 10, 11, 6, 6, 9, 7, 14, 10, 14, 11, 14, 8, 7, 9, 12, 11, 15, 15, 13, 6, 13, 15, 10, 9, 14, 7, 15, 4, 6, 6, 9, 10, 17, 13, 16, 20, 17, 12, 8, 10, 9, 14, 12, 11, 9, 17, 8, 8, 11, 7, 11, 14, 11, 9, 8, 7, 11, 10, 12, 7, 12, 9, 10, 7, 11, 7, 9, 21, 10, 6, 10, 16, 10, 11, 11, 13, 8, 12, 10, 11, 6, 9, 7, 17, 10, 13, 8, 16, 13, 12, 13, 20, 9, 9, 8, 13, 9, 6, 13, 16, 7, 8, 13, 9, 7, 11, 11, 7, 13, 24, 8, 9, 15, 10, 12, 12, 14, 14, 19, 12, 9, 7, 12, 18, 14, 20, 18, 16, 16, 18, 26, 23, 13, 15, 14, 6, 15, 12, 12, 10, 14, 12, 12, 12, 10, 13, 10, 8, 11, 9, 10, 13, 17, 11, 10, 11, 12, 15, 10, 11, 6, 12, 13, 14, 10, 8, 15, 13, 15, 11, 16, 7, 8, 10, 10, 13, 7, 16, 12, 19, 14, 14, 7, 19, 13, 21, 6, 10, 9, 7, 14, 11, 11, 7, 9, 12, 14, 8, 11, 11, 5, 14, 12, 7, 15, 13, 8, 17, 10, 4, 6, 7, 14, 11, 11, 10, 11, 16, 11, 14, 10, 8, 7, 18, 14, 18, 10, 16, 13, 14, 21, 20, 6, 7, 11, 12, 13, 12, 13, 7, 11, 14, 16, 15, 14, 14, 11, 5, 11, 11, 7, 11, 7, 7, 15, 14, 9, 13, 7, 11, 10, 15, 19, 13, 16, 12, 14, 12, 10, 8, 11, 13, 9, 7, 7, 5, 5, 9, 13, 9, 11, 9, 14, 11, 10, 4, 6, 11, 16, 22, 5, 6, 12, 12, 17, 18, 19, 14, 16, 10, 15, 13, 5, 7, 20, 11, 12, 10, 18, 14, 9, 15, 10, 14, 21, 10, 9, 11, 9, 8, 17, 3, 14, 12, 10, 16, 8, 17, 10, 9, 14, 12, 17, 11, 16, 13, 14, 12, 12, 11, 11, 12, 13, 21, 16, 15, 10, 11, 10, 16, 4, 13, 12, 14, 15, 20, 17, 15, 22, 16, 16, 9, 16, 9, 7, 11, 7, 7, 11, 10, 13, 14, 14, 7, 12, 9, 11, 9, 16, 7, 13, 4, 16, 12, 15, 11, 7, 14, 15, 9, 7, 16, 17, 13, 8, 12, 9, 7, 6, 12, 7, 12, 11, 9, 11, 12, 14, 11, 12, 10, 15, 9, 15, 13, 9, 21, 10, 9, 14, 14, 9, 14, 11, 12, 13, 18, 10, 16, 16, 16, 13, 10, 7, 9, 7, 17, 12, 6, 7, 15, 11, 12, 14, 12, 13, 13, 11, 9, 8, 16, 19, 4, 15, 9, 11, 10, 8, 12, 13, 15, 10, 17, 13, 17, 11, 17, 15, 12, 10, 7, 9, 14, 13, 12, 7, 11, 13, 15, 9, 9, 9, 7, 8, 6, 12, 7, 8, 15, 8, 10, 19, 8, 12, 6, 10, 17, 14, 17, 9, 8, 15, 16, 10, 12, 15, 12, 18, 7, 10, 9, 3, 10, 5, 4, 9, 8, 8, 7, 9, 9, 9, 10, 18, 16, 11, 13, 6, 23, 17, 17, 14, 20, 10, 15, 8, 11, 14, 13, 11, 11, 9, 13, 11, 8, 13, 12, 22, 16, 6, 10, 4, 14, 12, 10, 10, 14, 8, 12, 11, 13, 14, 13, 13, 18, 14, 9, 16, 12, 9, 14, 9, 16, 8, 11, 9, 8, 15, 13, 8, 10, 10, 9, 7, 11, 9, 11, 13, 7, 11, 19, 10, 3, 14, 13, 11, 15, 10, 15, 12, 11, 12, 4, 18, 10, 13, 9, 13, 12, 7, 9, 8, 5, 12, 9, 17, 10, 11, 12, 13, 9, 7, 4, 7, 16, 16, 16, 14, 8, 13, 9, 8, 17, 12, 15, 12, 12, 18, 12, 12, 18, 11, 21, 17, 9, 9, 10, 14, 17, 7, 12, 14, 16, 9, 6, 8, 7, 9, 22, 7, 14, 6, 9, 13, 11, 14, 13, 13, 12, 13, 10, 11, 11, 5, 13, 13, 14, 7, 18, 7, 4, 6, 10, 14, 16, 15, 4, 9, 16, 10, 23, 7, 15, 8, 8, 15, 9, 3, 11, 13, 9, 14, 9, 15, 7, 7, 4, 15, 10, 10, 14, 10, 11, 13, 11, 7, 9, 13, 11, 12, 7, 9, 5, 11, 13, 3, 19, 18, 12, 17, 14, 12, 8, 11, 12, 8, 18, 13, 10, 11, 17, 12, 12, 6, 14, 5, 10, 15, 16, 9, 15, 16, 12, 8, 14, 9, 8, 16, 4, 10, 22, 13, 16, 19, 18, 17, 20, 13, 18, 12, 13, 9, 10, 5, 15, 13, 15, 6, 6, 13, 8, 14, 12, 10, 11, 12, 8, 10, 13, 11, 14, 9, 14, 16, 12, 13, 21, 9, 9, 7, 12, 13, 17, 15, 14, 16, 11, 7, 15, 13, 12, 18, 16, 16, 18, 8, 9, 14, 11, 8, 18, 4, 15, 7, 23, 19, 20, 13, 16, 19, 11, 6, 6, 9, 9, 8, 8, 7, 12, 10, 10, 13, 6, 13, 18, 20, 20, 9, 13, 7, 10, 13, 8, 10, 12, 10, 12, 11, 9, 12, 12, 15, 7, 14, 12, 10, 7, 15, 9, 9, 11, 9, 10, 15, 14, 10, 11, 10, 7, 13, 8, 12, 14, 12, 15, 6, 11, 19, 13, 15, 9, 18, 9, 9, 11, 10, 7, 11, 18, 15, 11, 8, 12, 17, 13, 11, 20, 15, 10, 17, 12, 15, 12, 13, 14, 16, 20, 18, 10, 10, 8, 9, 7, 7, 9, 13, 3, 5, 15, 10, 12, 7, 9, 15, 24, 12, 7, 13, 17, 9, 10, 7, 15, 12, 7, 9, 10, 8, 8, 9, 10, 7, 22, 15, 7, 7, 11, 10, 5, 13, 13, 15, 12, 13, 22, 17, 12, 10, 7, 16, 14, 8, 8, 11, 10, 8, 11, 10, 24, 10, 8, 9, 12, 5, 6, 28, 15, 10, 11, 15, 12, 13, 6, 12, 7, 9, 6, 10, 8, 11, 10, 8, 13, 12, 7, 7, 16, 14, 12, 11, 12, 9, 14, 13, 16, 7, 7, 8, 9, 12, 7, 9, 12, 8, 14, 4, 7, 13, 23, 20, 13, 12, 9, 14, 14, 17, 11, 16, 11, 12, 20, 12, 9, 7, 9, 6, 13, 9, 10, 9, 5, 6, 12, 9, 10, 12, 10, 6, 15, 9, 9, 7, 10, 15, 12, 6, 15, 4, 7, 9, 13, 9, 7, 14, 11, 11, 14, 15, 15, 11, 9, 10, 12, 11, 6, 11, 16, 7, 15, 9, 14, 14, 13, 10, 9, 7, 9, 9, 16, 9, 7, 12, 7, 13, 10, 12, 10, 8, 9, 21, 18, 12, 8, 15, 14, 8, 7, 13, 11, 15, 11, 13, 9, 9, 14, 11, 9, 18, 14, 14, 16, 9, 9, 10, 15, 14, 14, 6, 10, 10, 13, 11, 8, 10, 10, 9, 8, 13, 13, 15, 14, 12, 12, 8, 9, 13, 9, 7, 11, 9, 10, 7, 12, 11, 11, 12, 8, 9, 7, 15, 19, 8, 14, 11, 6, 7, 8, 10, 13, 11, 19, 23, 13, 18, 9, 14, 10, 10, 8, 11, 6, 8, 11, 4, 7, 3, 15, 7, 12, 10, 12, 18, 8, 16, 13, 15, 8, 16, 17, 14, 17, 16, 21, 8, 18, 12, 10, 14, 14, 17, 11, 5, 11, 12, 17, 11, 11, 11, 8, 6, 13, 10, 7, 11, 13, 6, 16, 12, 12, 15, 12, 11, 8, 11, 9, 11, 5, 8, 15, 19, 17, 9, 16, 14, 9, 19, 12, 7, 6, 12, 7, 14, 11, 17, 11, 16, 15, 9, 9, 9, 7, 8, 8, 9, 16, 14, 11, 3, 7, 10, 12, 6, 4, 3, 14, 15, 10, 10, 7, 14, 12, 10, 9, 11, 11, 14, 10, 9, 9, 9, 14, 11, 6, 15, 7, 11, 12, 11, 11, 8, 8, 9, 12, 11, 14, 11, 8, 14, 7, 10, 7, 7, 9, 8, 8, 10, 13, 12, 13, 15, 14, 9, 13, 8, 6, 6, 6, 15, 12, 8, 14, 18, 15, 13, 11, 8, 9, 3, 19, 13, 13, 15, 12, 11, 7, 24, 7, 10, 13, 3, 13, 19, 8, 16, 7, 12, 7, 20, 10, 6, 10, 9, 11, 8, 7, 10, 7, 7, 16, 10, 15, 16, 10, 17, 13, 7, 17, 14, 11, 13, 11, 17, 10, 12, 13, 13, 9, 14, 6, 14, 8, 8, 13, 15, 17, 14, 15, 16, 11, 12, 12, 9, 7, 8, 11, 10, 14, 6, 11, 11, 11, 10, 11, 16, 15, 15, 11, 7, 11, 11, 7, 16, 3, 18, 18, 14, 8, 13, 10, 17, 10, 7, 9, 12, 6, 8, 16, 10, 9, 10, 10, 9, 4, 10, 10, 21, 9, 14, 10, 14, 11, 10, 13, 11, 12, 10, 9, 4, 16, 11, 10, 11, 11, 10, 15, 8, 10, 9, 9, 18, 23, 13, 24, 12, 13, 11, 10, 10, 8, 18, 12, 13, 16, 11, 11, 13, 8, 11, 13, 23, 10, 18, 17, 13, 17, 10, 8, 7, 15, 16, 16, 15, 13, 16, 16, 18, 20, 10, 16, 25, 18, 10, 11, 4, 23, 12, 18, 14, 13, 14, 7, 16, 16, 9, 12, 12, 10, 11, 8, 14, 18, 13, 11, 10, 7, 11, 14, 9, 12, 4, 6, 10, 8, 11, 8, 11, 5, 17, 9, 10, 16, 8, 13, 5, 11, 11, 8, 8, 12, 12, 10, 4, 15, 13, 13, 13, 9, 9, 13, 7, 11, 8, 11, 8, 6, 8, 8, 9, 11, 15, 7, 9, 11, 7, 9, 7, 12, 9, 15, 8, 12, 15, 10, 14, 8, 13, 10, 9, 9, 14, 8, 11, 11, 10, 12, 14, 13, 10, 16, 16, 12, 16, 18, 17, 18, 19, 16, 26, 9, 10, 11, 8, 11, 13, 14, 8, 13, 11, 12, 10, 13, 11, 9, 13, 11, 11, 11, 14, 7, 11, 8, 9, 6, 14, 18, 16, 9, 14, 9, 10, 15, 7, 11, 8, 12, 12, 9, 16, 8, 7, 12, 12, 15, 14, 14, 13, 17, 13, 11, 10, 9, 8, 12, 7, 13, 13, 13, 14, 7, 12, 9, 10, 12, 9, 12, 10, 13, 10, 16, 13, 11, 13, 10, 11, 15, 12, 16, 17, 12, 10, 9, 11, 5, 10, 10, 16, 10, 8, 11, 15, 10, 9, 10, 9, 10, 8, 7, 6, 11, 13, 11, 7, 10, 12, 15, 12, 10, 20, 15, 10, 10, 12, 19, 15, 13, 13, 20, 9, 14, 22, 10, 11, 13, 10, 13, 15, 17, 17, 6, 6, 10, 11, 15, 16, 12, 11, 12, 11, 11, 12, 14, 11, 15, 8, 3, 2, 24, 12, 15, 10, 12, 9, 17, 20, 12, 13, 10, 9, 10, 11, 7, 10, 20, 14, 13, 10, 15, 32, 7, 11, 14, 9, 12, 9, 16, 21, 8, 12, 12, 11, 8, 12, 10, 8, 16, 11, 11, 10, 13, 17, 16, 16, 10, 3, 15, 8, 12, 10, 14, 12, 11, 13, 17, 10, 12, 12, 13, 11, 11, 12, 9, 10, 13, 11, 21, 9, 6, 14, 12, 8, 8, 3, 8, 4, 14, 18, 9, 6, 9, 14, 10, 14, 9, 22, 15, 9, 11, 9, 16, 8, 8, 11, 9, 10, 12, 15, 14, 14, 6, 10, 5, 11, 5, 5, 16, 11, 12, 15, 12, 11, 14, 13, 8, 15, 14, 7, 12, 13, 13, 12, 12, 12, 7, 10, 9, 9, 15, 12, 15, 14, 9, 18, 14, 9, 7, 13, 11, 6, 11, 10, 8, 13, 11, 18, 12, 2, 10, 16, 7, 14, 14, 11, 13, 17, 13, 15, 14, 11, 18, 17, 11, 4, 13, 9, 8, 8, 9, 10, 12, 11, 11, 13, 10, 11, 14, 13, 12, 16, 14, 7, 10, 20, 17, 16, 8, 10, 11, 8, 6, 10, 18, 15, 11, 9, 11, 18, 9, 11, 9, 15, 11, 10, 7, 12, 13, 15, 13, 10, 16, 12, 8, 7, 11, 9, 3, 13, 12, 14, 10, 8, 10, 10, 12, 11, 12, 12, 12, 7, 16, 10, 16, 9, 13, 9, 13, 10, 9, 8, 12, 9, 10, 11, 14, 12, 13, 12, 21, 9, 3, 5, 4, 11, 14, 7, 7, 9, 8, 7, 12, 9, 12, 14, 11, 9, 4, 15, 14, 8, 11, 11, 9, 16, 12, 16, 17, 11, 6, 4, 11, 8, 13, 8, 10, 15, 18, 10, 8, 8, 13, 21, 13, 11, 12, 8, 6, 8, 8, 8, 16, 16, 17, 13, 11, 13, 11, 14, 14, 19, 20, 10, 9, 12, 11, 15, 17, 13, 14, 15, 11, 14, 12, 9, 10, 17, 10, 19, 17, 16, 21, 11, 13, 13, 12, 13, 10, 8, 16, 8, 14, 12, 3, 9, 8, 9, 6, 13, 7, 5, 14, 11, 11, 11, 12, 7, 7, 13, 11, 9, 7, 6, 17, 18, 14, 8, 6, 13, 4, 10, 17, 14, 12, 9, 6, 14, 5, 9, 9, 7, 13, 12, 7, 11, 15, 16, 8, 11, 12, 7, 18, 12, 13, 9, 16, 10, 13, 6, 8, 8, 16, 22, 15, 8, 9, 9, 13, 4, 13, 8, 10, 11, 7, 11, 16, 14, 16, 9, 9, 9, 9, 9, 8, 7, 6, 11, 9, 11, 13, 12, 13, 12, 8, 8, 11, 12, 11, 11, 10, 13, 6, 13, 11, 11, 10, 12, 10, 11, 12, 13, 8, 7, 7, 12, 14, 15, 12, 16, 8, 11, 3, 13, 14, 9, 8, 13, 17, 10, 17, 7, 16, 13, 15, 14, 9, 16, 11, 13, 8, 10, 13, 9, 9, 11, 13, 12, 13, 11, 17, 8, 14, 13, 12, 12, 8, 17, 17, 17, 15, 17, 7, 7, 10, 10, 9, 15, 12, 15, 9, 15, 14, 11, 8, 6, 14, 11, 9, 12, 12, 13, 17, 11, 14, 27, 11, 9, 8, 7, 7, 6, 7, 15, 11, 4, 4, 10, 9, 12, 10, 11, 13, 15, 17, 13, 5, 13, 10, 11, 11, 10, 11, 8, 12, 13, 19, 11, 11, 10, 8, 8, 13, 10, 10, 10, 14, 9, 12, 6, 15, 11, 16, 6, 15, 11, 15, 13, 13, 9, 13, 8, 12, 7, 12, 10, 10, 15, 22, 7, 11, 16, 8, 9, 12, 13, 7, 15, 12, 16, 7, 8, 14, 11, 14, 10, 10, 13, 11, 16, 10, 8, 12, 19, 17, 20, 6, 10, 11, 11, 10, 13, 14, 12, 10, 8, 12, 10, 9, 13, 11, 12, 11, 10, 10, 8, 10, 7, 13, 11, 11, 17, 15, 8, 10, 18, 15, 10, 9, 17, 22, 10, 11, 6, 8, 11, 16, 11, 19, 16, 12, 19, 19, 8, 16, 15, 15, 15, 15, 9, 16, 14, 9, 7, 15, 9, 8, 9, 11, 11, 7, 11, 7, 13, 8, 14, 10, 11, 13, 13, 15, 13, 17, 12, 12, 13, 17, 11, 15, 13, 16, 14, 7, 7, 16, 8, 13, 11, 11, 10, 15, 8, 14, 12, 4, 11, 9, 13, 18, 12, 9, 11, 9, 7, 8, 7, 7, 8, 8, 8, 7, 13, 9, 13, 9, 12, 15, 12, 9, 16, 10, 15, 6, 13, 7, 8, 12, 12, 15, 15, 8, 16, 10, 11, 17, 14, 17, 8, 11, 7, 11, 8, 15, 13, 9, 9, 3, 16, 18, 13, 5, 7, 7, 18, 13, 16, 20, 10, 10, 13, 15, 4, 12, 14, 8, 9, 15, 12, 13, 13, 14, 14, 13, 17, 23, 11, 11, 8, 13, 7, 17, 6, 12, 12, 9, 10, 10, 11, 13, 15, 15, 4, 14, 17, 10, 11, 11, 20, 10, 6, 9, 8, 11, 11, 10, 10, 7, 14, 11, 13, 9, 8, 8, 14, 11, 10, 11, 10, 3, 10, 9, 13, 16, 11, 14, 7, 14, 18, 14, 11, 13, 13, 16, 14, 22, 14, 12, 16, 10, 8, 13, 17, 10, 13, 8, 8, 8, 12, 13, 13, 8, 7, 7, 14, 16, 17, 8, 14, 7, 11, 9, 11, 17, 8, 7, 14, 14, 8, 15, 12, 14, 21, 10, 10, 9, 10, 11, 15, 15, 17, 11, 11, 14, 9, 9, 10, 16, 8, 10, 11, 11, 9, 12, 12, 12, 12, 12, 22, 13, 8, 9, 21, 18, 20, 10, 10, 13, 15, 20, 3, 18, 3, 11, 13, 7, 11, 15, 12, 13, 11, 5, 23, 12, 13, 10, 10, 8, 14, 11, 15, 13, 12, 11, 7, 15, 12, 13, 12, 17, 19, 19, 9, 7, 13, 11, 15, 16, 14, 22, 17, 19, 10, 16, 10, 11, 9, 9, 9, 21, 12, 13, 14, 9, 9, 11, 5, 12, 9, 8, 8, 8, 8, 12, 14, 17, 18, 19, 12, 10, 11, 13, 8, 11, 10, 7, 8, 11, 11, 14, 10, 7, 10, 14, 16, 10, 11, 13, 7, 6, 10, 11, 7, 8, 8, 5, 7, 16, 11, 9, 11, 7, 8, 11, 7, 12, 16, 11, 16, 9, 11, 8, 10, 12, 7, 6, 9, 11, 8, 6, 10, 13, 9, 10, 18, 12, 12, 12, 9, 15, 12, 6, 6, 12, 16, 9, 12, 15, 10, 14, 6, 12, 15, 11, 10, 16, 9, 14, 6, 14, 10, 14, 11, 13, 16, 19, 8, 14, 10, 7, 6, 8, 8, 19, 11, 12, 14, 15, 13, 9, 3, 3, 4, 16, 16, 13, 10, 11, 11, 20, 10, 14, 17, 7, 4, 12, 7, 5, 28, 3, 7, 7, 10, 11, 8, 12, 8, 11, 9, 6, 10, 6, 13, 14, 15, 11, 5, 14, 13, 11, 10, 8, 10, 16, 10, 13, 17, 7, 3, 17, 12, 12, 4, 13, 15, 8, 19, 10, 11, 19, 12, 11, 11, 8, 10, 14, 12, 11, 10, 7, 13, 7, 12, 13, 12, 19, 19, 5, 14, 9, 8, 11, 10, 13, 7, 11, 4, 8, 14, 14, 19, 16, 12, 12, 13, 24, 12, 11, 11, 9, 8, 8, 9, 9, 12, 11, 14, 12, 18, 17, 17, 14, 14, 11, 16, 5, 9, 9, 8, 8, 8, 13, 15, 10, 11, 7, 8, 11, 14, 9, 7, 13, 10, 13, 13, 8, 14, 12, 14, 13, 12, 12, 8, 14, 16, 15, 8, 14, 21, 27, 14, 17, 12, 12, 16, 15, 13, 8, 19, 10, 20, 19, 9, 6, 18, 11, 11, 13, 14, 7, 10, 9, 7, 11, 12, 18, 13, 10, 15, 13, 12, 10, 10, 10, 15, 13, 11, 8, 10, 10, 9, 8, 9, 14, 12, 14, 11, 13, 15, 12, 7, 8, 14, 13, 15, 13, 11, 8, 10, 18, 16, 10, 17, 9, 14, 10, 12, 10, 20, 6, 9, 11, 15, 8, 9, 7, 6, 15, 7, 12, 11, 14, 16, 17, 9, 15, 9, 7, 14, 10, 12, 7, 2, 16, 7, 13, 10, 10, 11, 9, 12, 9, 8, 16, 16, 9, 13, 15, 13, 21, 11, 13, 12, 17, 11, 8, 14, 10, 13, 18, 12, 19, 9, 12, 10, 13, 7, 13, 16, 11, 11, 17, 11, 12, 4, 11, 11, 11, 13, 7, 7, 18, 8, 3, 10, 15, 12, 12, 8, 7, 10, 6, 4, 12, 15, 8, 10, 10, 8, 13, 9, 11, 11, 14, 14, 10, 12, 13, 20, 14, 14, 12, 8, 15, 5, 7, 12, 10, 10, 11, 19, 13, 14, 18, 19, 13, 14, 5, 17, 6, 13, 15, 12, 10, 16, 13, 10, 19, 13, 8, 8, 8, 7, 11, 11, 11, 9, 9, 13, 18, 15, 23, 13, 10, 7, 14, 14, 10, 9, 8, 9, 9, 8, 11, 11, 10, 13, 13, 11, 7, 11, 13, 7, 9, 13, 15, 13, 14, 16, 11, 16, 13, 8, 10, 9, 9, 17, 14, 8, 17, 13, 9, 15, 11, 13, 15, 7, 12, 15, 6, 9, 10, 11, 21, 14, 6, 9, 7, 11, 13, 20, 14, 11, 13, 10, 10, 3, 9, 15, 13, 9, 4, 13, 10, 15, 11, 10, 12, 14, 14, 11, 14, 15, 13, 11, 6, 10, 6, 7, 12, 11, 10, 9, 11, 12, 11, 11, 11, 11, 17, 6, 7, 3, 13, 12, 19, 14, 9, 6, 7, 13, 11, 6, 18, 13, 10, 12, 12, 11, 9, 12, 10, 15, 7, 16, 15, 10, 7, 11, 3, 8, 11, 8, 9, 13, 17, 12, 12, 7, 9, 7, 8, 10, 11, 10, 11, 13, 8, 13, 12, 11, 18, 10, 15, 5, 15, 10, 10, 14, 7, 17, 11, 12, 8, 10, 11, 10, 10, 9, 8, 4, 8, 10, 11, 20, 8, 11, 7, 18, 6, 12, 11, 8, 13, 5, 5, 10, 5, 11, 10, 8, 12, 15, 10, 4, 3, 5, 7, 18, 13, 21, 9, 16, 12, 16, 11, 13, 11, 10, 14, 6, 9, 10, 3, 8, 7, 6, 7, 12, 14, 15, 12, 8, 10, 10, 10, 14, 11, 10, 12, 13, 11, 8, 12, 7, 13, 5, 12, 11, 13, 10, 4, 7, 10, 13, 8, 14, 9, 14, 18, 13, 17, 16, 11, 14, 10, 16, 8, 13, 16, 10, 18, 11, 5, 16, 11, 11, 10, 16, 18, 13, 13, 15, 10, 7, 5, 7, 12, 9, 7, 8, 7, 7, 20, 19, 20, 15, 11, 12, 9, 12, 10, 13, 13, 9, 10, 17, 12, 10, 9, 13, 23, 17, 10, 8, 8, 9, 9, 8, 9, 12, 11, 12, 13, 10, 9, 11, 9, 14, 7, 16, 13, 6, 9, 14, 13, 23, 12, 10, 17, 9, 11, 10, 12, 13, 10, 8, 11, 10, 15, 12, 10, 12, 15, 7, 12, 17, 18, 11, 9, 17, 12, 13, 7, 15, 8, 11, 10, 11, 8, 14, 12, 12, 10, 9, 8, 13, 8, 23, 18, 16, 16, 12, 7, 7, 7, 15, 7, 14, 7, 6, 6, 10, 9, 20, 9, 11, 10, 10, 11, 11, 11, 12, 12, 12, 14, 11, 12, 9, 8, 9, 8, 9, 9, 8, 10, 8, 7, 6, 14, 11, 11, 14, 11, 14, 11, 8, 14, 14, 7, 11, 9, 12, 13, 12, 3, 11, 11, 16, 10, 9, 3, 8, 15, 17, 14, 12, 13, 10, 10, 11, 6, 4, 13, 15, 16, 16, 13, 12, 11, 13, 11, 14, 12, 18, 6, 11, 10, 6, 13, 7, 9, 7, 15, 10, 18, 14, 18, 15, 20, 16, 16, 16, 13, 11, 8, 20, 11, 10, 10, 8, 7, 10, 14, 15, 11, 14, 14, 13, 19, 17, 10, 7, 10, 11, 9, 12, 13, 17, 8, 13, 13, 11, 12, 9, 12, 9, 16, 8, 9, 9, 9, 7, 9, 10, 12, 6, 14, 16, 13, 14, 13, 7, 10, 6, 20, 24, 9, 11, 12, 9, 9, 10, 13, 14, 11, 8, 11, 10, 9, 8, 12, 11, 11, 7, 11, 8, 5, 12, 6, 13, 21, 18, 12, 10, 10, 10, 9, 19, 14, 11, 16, 14, 4, 8, 8, 9, 16, 16, 12, 11, 12, 14, 14, 25, 17, 16, 12, 8, 7, 14, 12, 18, 16, 10, 14, 16, 7, 13, 12, 9, 9, 10, 18, 11, 5, 6, 9, 14, 15, 14, 17, 10, 13, 11, 8, 12, 14, 15, 13, 7, 11, 10, 12, 12, 14, 11, 14, 3, 8, 7, 11, 9, 16, 15, 15, 13, 10, 9, 8, 6, 7, 6, 14, 12, 9, 6, 8, 10, 7, 8, 9, 9, 11, 14, 9, 9, 11, 8, 26, 17, 12, 13, 8, 10, 11, 11, 10, 9, 16, 13, 14, 14, 12, 21, 13, 10, 7, 9, 12, 7, 18, 13, 10, 9, 11, 13, 12, 14, 14, 12, 12, 10, 10, 21, 15, 15, 11, 14, 13, 11, 8, 10, 13, 15, 9, 5, 11, 12, 10, 14, 13, 9, 15, 13, 12, 7, 7, 6, 11, 10, 17, 12, 15, 19, 10, 17, 8, 15, 11, 12, 12, 8, 10, 9, 18, 10, 14, 12, 10, 13, 7, 10, 11, 9, 15, 15, 3, 8, 8, 8, 6, 14, 11, 13, 10, 5, 10, 9, 20, 11, 18, 11, 11, 12, 10, 11, 8, 8, 10, 11, 7, 13, 16, 10, 12, 21, 5, 21, 19, 17, 4, 6, 8, 9, 8, 12, 12, 10, 8, 11, 7, 12, 8, 7, 8, 10, 12, 10, 13, 17, 7, 14, 11, 9, 8, 6, 5, 12, 13, 21, 15, 27, 16, 18, 8, 13, 16, 10, 16, 9, 4, 13, 15, 14, 19, 11, 11, 13, 18, 15, 11, 10, 10, 9, 15, 14, 8, 6, 7, 8, 11, 13, 11, 12, 10, 14, 12, 5, 8, 6, 10, 7, 10, 14, 11, 10, 12, 7, 8, 4, 8, 17, 10, 10, 6, 17, 9, 9, 9, 9, 17, 12, 20, 9, 11, 4, 8, 17, 7, 14, 9, 8, 8, 13, 9, 12, 14, 6, 13, 16, 12, 9, 11, 10, 12, 10, 7, 13, 6, 9, 9, 9, 13, 7, 6, 11, 23, 8, 14, 13, 10, 17, 7, 6, 9, 12, 9, 11, 19, 14, 17, 13, 8, 11, 10, 10, 12, 11, 16, 11, 8, 19, 16, 5, 7, 10, 10, 7, 6, 7, 10, 9, 7, 12, 12, 14, 8, 15, 7, 7, 6, 10, 8, 12, 6, 11, 13, 10, 10, 8, 8, 9, 18, 19, 11, 6, 5, 12, 7, 11, 9, 15, 10, 7, 9, 12, 9, 6, 10, 9, 15, 15, 18, 14, 9, 11, 13, 7, 16, 10, 11, 8, 8, 9, 13, 13, 13, 14, 10, 9, 9, 3, 11, 13, 13, 12, 12, 7, 12, 11, 7, 8, 17, 17, 17, 31, 19, 3, 10, 12, 11, 16, 9, 7, 7, 8, 3, 6, 10, 14, 14, 14, 9, 10, 6, 8, 11, 9, 12, 11, 7, 9, 15, 13, 11, 14, 16, 9, 5, 12, 10, 16, 11, 8, 19, 8, 4, 12, 14, 14, 9, 14, 11, 10, 10, 19, 12, 12, 13, 11, 16, 10, 10, 14, 14, 16, 15, 10, 3, 8, 18, 9, 17, 15, 12, 11, 18, 11, 8, 6, 5, 10, 12, 12, 9, 18, 10, 11, 16, 9, 21, 11, 9, 18, 11, 8, 12, 24, 13, 7, 5, 5, 6, 7, 11, 15, 13, 12, 12, 10, 12, 11, 19, 16, 8, 7, 11, 11, 24, 13, 14, 9, 14, 15, 7, 3, 8, 21, 8, 13, 11, 5, 10, 14, 7, 6, 16, 8, 5, 10, 15, 12, 14, 12, 18, 5, 14, 14, 8, 7, 6, 7, 11, 10, 10, 7, 16, 3, 12, 15, 7, 9, 20, 9, 15, 15, 8, 13, 14, 15, 13, 11, 14, 12, 16, 22, 11, 10, 16, 17, 9, 11, 6, 8, 7, 5, 15, 15, 11, 9, 10, 7, 10, 8, 11, 7, 15, 19, 20, 7, 3, 15, 10, 11, 14, 9, 10, 16, 20, 15, 8, 10, 12, 11, 7, 6, 23, 12, 11, 4, 2, 12, 12, 10, 11, 9, 8, 15, 18, 16, 7, 11, 10, 6, 12, 8, 12, 11, 7, 15, 6, 4, 11, 11, 12, 9, 12, 19, 12, 4, 13, 12, 9, 12, 11, 7, 13, 15, 15, 10, 4, 5, 14, 8, 8, 10, 10, 13, 9, 15, 13, 6, 11, 13, 15, 13, 17, 6, 9, 12, 11, 7, 7, 9, 10, 7, 10, 16, 5, 12, 8, 11, 16, 10, 15, 9, 9, 9, 10, 15, 12, 10, 11, 17, 14, 11, 14, 8, 7, 9, 7, 12, 11, 21, 9, 11, 16, 8, 11, 7, 10, 10, 12, 18, 7, 11, 11, 9, 11, 17, 12, 8, 19, 6, 10, 19, 11, 12, 15, 15, 12, 10, 13, 13, 6, 15, 9, 9, 12, 5, 9, 12, 10, 14, 9, 13, 7, 10, 15, 3, 8, 13, 14, 10, 8, 17, 23, 12, 14, 19, 11, 17, 14, 12, 15, 12, 13, 20, 10, 12, 9, 10, 12, 15, 9, 14, 10, 11, 15, 9, 17, 8, 15, 12, 4, 7, 14, 13, 11, 11, 13, 10, 16, 18, 18, 11, 14, 9, 12, 19, 7, 13, 9, 9, 4, 12, 9, 13, 13, 11, 6, 3, 10, 7, 9, 8, 16, 16, 12, 11, 12, 6, 7, 19, 20, 14, 10, 14, 19, 12, 15, 11, 4, 10, 8, 22, 15, 12, 18, 13, 15, 6, 9, 10, 13, 9, 7, 9, 11, 16, 19, 9, 9, 7, 8, 7, 9, 8, 13, 15, 19, 11, 9, 19, 15, 9, 15, 11, 17, 12, 17, 17, 11, 13, 14, 9, 10, 14, 7, 6, 13, 14, 15, 11, 7, 10, 3, 9, 8, 16, 7, 14, 10, 11, 10, 10, 10, 9, 10, 14, 12, 9, 8, 7, 13, 13, 8, 16, 20, 20, 11, 8, 14, 8, 9, 7, 11, 7, 19, 10, 8, 9, 3, 12, 9, 8, 12, 15, 13, 10, 15, 4, 12, 10, 15, 13, 17, 8, 7, 10, 13, 8, 11, 8, 17, 8, 7, 7, 11, 10, 8, 10, 19, 14, 10, 17, 7, 5, 12, 10, 15, 12, 9, 12, 11, 16, 10, 17, 8, 16, 17, 8, 10, 12, 20, 10, 16, 11, 20, 7, 11, 7, 14, 9, 8, 11, 15, 8, 19, 8, 12, 21, 9, 10, 9, 10, 8, 17, 13, 10, 8, 16, 11, 12, 12, 8, 10, 15, 14, 16, 11, 12, 7, 3, 7, 15, 4, 12, 18, 10, 8, 18, 12, 15, 9, 10, 14, 4, 6, 12, 10, 12, 8, 8, 10, 4, 6, 7, 14, 15, 5, 12, 7, 10, 16, 18, 8, 17, 17, 13, 10, 10, 16, 9, 12, 13, 13, 13, 15, 11, 12, 12, 9, 11, 17, 11, 12, 12, 21, 21, 8, 3, 10, 10, 8, 9, 7, 8, 7, 8, 11, 9, 13, 15, 14, 16, 16, 9, 14, 9, 14, 16, 8, 11, 13, 14, 15, 12, 11, 8, 3, 7, 17, 7, 11, 11, 9, 12, 12, 10, 15, 7, 16, 16, 17, 11, 11, 13, 9, 14, 12, 12, 12, 11, 21, 12, 11, 17, 12, 12, 15, 8, 14, 9, 13, 9, 11, 9, 17, 12, 13, 8, 10, 13, 16, 15, 12, 7, 16, 5, 9, 9, 10, 4, 3, 9, 9, 26, 17, 14, 20, 6, 13, 6, 10, 12, 8, 30, 13, 12, 14, 14, 9, 8, 9, 7, 10, 21, 12, 11, 11, 9, 8, 6, 15, 8, 8, 6, 7, 7, 8, 11, 13, 14, 7, 10, 11, 11, 7, 13, 12, 11, 14, 5, 11, 11, 3, 13, 10, 7, 13, 14, 7, 13, 6, 12, 7, 10, 20, 12, 11, 10, 11, 11, 18, 14, 9, 7, 12, 9, 15, 14, 9, 11, 10, 10, 12, 12, 10, 11, 15, 14, 10, 15, 6, 9, 14, 13, 9, 7, 10, 11, 12, 9, 8, 6, 9, 14, 14, 7, 10, 4, 11, 8, 8, 17, 16, 14, 9, 12, 12, 16, 13, 9, 7, 8, 8, 14, 10, 10, 12, 9, 11, 15, 5, 12, 7, 10, 14, 14, 13, 9, 6, 15, 15, 21, 10, 5, 9, 14, 10, 11, 17, 15, 12, 15, 11, 10, 10, 8, 11, 6, 6, 12, 11, 17, 11, 8, 16, 10, 10, 12, 12, 3, 11, 5, 12, 13, 7, 7, 14, 11, 12, 12, 10, 12, 15, 10, 6, 16, 12, 9, 13, 13, 11, 11, 11, 22, 13, 8, 8, 9, 16, 11, 12, 13, 9, 6, 12, 11, 6, 9, 13, 8, 6, 8, 10, 7, 10, 9, 9, 13, 7, 11, 11, 15, 17, 17, 17, 15, 15, 8, 9, 10, 10, 10, 7, 10, 10, 10, 12, 16, 11, 6, 15, 10, 9, 17, 7, 4, 9, 8, 12, 12, 13, 11, 8, 12, 10, 11, 10, 9, 9, 14, 11, 11, 12, 15, 6, 14, 10, 7, 13, 14, 9, 14, 8, 13, 7, 12, 11, 8, 14, 14, 10, 20, 21, 9, 21, 16, 7, 10, 10, 7, 8, 11, 18, 9, 13, 10, 11, 10, 12, 9, 8, 15, 13, 8, 14, 12, 10, 11, 16, 9, 9, 10, 5, 12, 15, 15, 10, 9, 7, 18, 11, 10, 11, 9, 12, 11, 13, 11, 12, 9, 8, 12, 9, 13, 16, 14, 11, 10, 7, 10, 9, 7, 9, 11, 9, 14, 16, 13, 8, 8, 6, 8, 7, 8, 9, 13, 15, 12, 2, 14, 13, 15, 11, 10, 7, 7, 10, 7, 13, 7, 9, 10, 6, 10, 20, 11, 8, 10, 14, 16, 12, 17, 12, 10, 11, 8, 10, 8, 18, 12, 8, 8, 10, 9, 8, 9, 14, 10, 11, 8, 14, 11, 9, 13, 17, 14, 8, 8, 5, 10, 13, 12, 9, 14, 13, 11, 17, 7, 5, 12, 11, 10, 15, 9, 10, 13, 8, 8, 13, 7, 8, 11, 7, 8, 16, 11, 22, 14, 8, 14, 9, 11, 11, 7, 15, 27, 9, 5, 6, 4, 10, 11, 12, 10, 14, 16, 7, 13, 16, 15, 10, 8, 9, 7, 9, 5, 8, 12, 7, 11, 13, 13, 10, 16, 14, 5, 11, 20, 8, 9, 10, 11, 9, 16, 16, 11, 10, 15, 7, 9, 9, 6, 9, 13, 13, 8, 6, 7, 17, 7, 10, 7, 10, 8, 13, 10, 6, 14, 10, 11, 12, 16, 7, 7, 14, 7, 11, 7, 9, 17, 7, 12, 9, 7, 9, 8, 14, 7, 6, 7, 9, 8, 10, 14, 13, 10, 11, 11, 20, 21, 14, 13, 8, 26, 14, 9, 12, 18, 8, 15, 15, 15, 8, 9, 9, 9, 9, 5, 13, 12, 9, 10, 11, 10, 13, 16, 18, 13, 8, 12, 11, 9, 8, 14, 12, 15, 17, 12, 11, 12, 13, 10, 7, 10, 9, 12, 12, 13, 13, 8, 12, 12, 12, 10, 9, 4, 20, 7, 12, 9, 11, 11, 20, 9, 12, 15, 17, 7, 9, 9, 8, 7, 13, 7, 13, 14, 2, 7, 17, 17, 13, 16, 11, 8, 11, 10, 8, 10, 18, 12, 7, 8, 14, 16, 14, 7, 6, 11, 15, 6, 8, 14, 6, 11, 12, 14, 8, 6, 7, 9, 13, 12, 10, 7, 12, 12, 8, 6, 15, 6, 14, 9, 7, 5, 14, 7, 13, 5, 12, 20, 6, 12, 12, 17, 15, 15, 16, 8, 10, 14, 18, 9, 11, 10, 18, 15, 8, 5, 12, 7, 10, 16, 7, 11, 13, 10, 14, 10, 17, 12, 10, 13, 13, 10, 10, 13, 12, 11, 7, 16, 9, 5, 17, 14, 10, 20, 13, 13, 11, 11, 10, 5, 9, 13, 13, 11, 7, 10, 10, 8, 10, 10, 10, 14, 14, 8, 10, 6, 19, 15, 10, 14, 13, 9, 15, 9, 5, 14, 15, 9, 11, 8, 11, 9, 8, 9, 12, 8, 9, 8, 13, 8, 9, 14, 10, 8, 13, 4, 8, 15, 12, 7, 13, 11, 14, 12, 11, 7, 10, 14, 18, 9, 10, 12, 10, 10, 6, 7, 25, 18, 10, 17, 13, 12, 12, 12, 3, 11, 12, 8, 10, 5, 10, 19, 16, 18, 13, 15, 7, 7, 25, 12, 10, 16, 13, 6, 7, 16, 11, 14, 7, 13, 15, 16, 15, 14, 9, 12, 12, 11, 5, 9, 11, 10, 9, 7, 10, 7, 11, 13, 26, 9, 11, 14, 9, 13, 15, 19, 16, 13, 14, 14, 17, 15, 11, 10, 9, 7, 21, 6, 6, 4, 10, 8, 15, 7, 9, 11, 8, 14, 8, 9, 8, 12, 10, 10, 12, 14, 9, 11, 8, 6, 14, 12, 11, 8, 15, 15, 10, 12, 16, 7, 7, 10, 6, 14, 12, 16, 13, 12, 2, 8, 6, 13, 7, 12, 9, 8, 13, 11, 15, 10, 11, 10, 21, 3, 10, 9, 12, 13, 14, 11, 10, 12, 13, 9, 14, 14, 15, 5, 7, 5, 9, 14, 11, 14, 13, 13, 21, 11, 5, 9, 12, 16, 11, 6, 7, 10, 17, 11, 10, 8, 10, 13, 13, 12, 16, 8, 13, 17, 12, 14, 12, 7, 10, 14, 7, 8, 22, 11, 11, 10, 11, 7, 10, 14, 11, 8, 16, 14, 11, 10, 6, 15, 7, 9, 10, 9, 10, 21, 10, 11, 10, 12, 17, 10, 6, 9, 15, 8, 10, 10, 17, 11, 11, 8, 13, 10, 9, 6, 15, 15, 11, 14, 8, 16, 7, 13, 16, 18, 7, 10, 7, 13, 14, 14, 9, 9, 15, 14, 8, 17, 5, 10, 14, 6, 19, 7, 13, 10, 9, 10, 12, 8, 15, 11, 19, 8, 15, 13, 9, 12, 11, 10, 11, 9, 9, 8, 15, 19, 5, 18, 7, 13, 14, 8, 12, 16, 15, 11, 11, 17, 16, 15, 8, 11, 13, 15, 18, 9, 10, 18, 7, 6, 9, 7, 11, 17, 11, 17, 14, 6, 10, 16, 10, 12, 20, 12, 8, 15, 3, 17, 12, 13, 16, 17, 14, 6, 11, 8, 14, 14, 6, 15, 7, 7, 9, 5, 11, 10, 7, 9, 7, 11, 12, 5, 7, 9, 19, 13, 11, 14, 7, 11, 13, 18, 12, 14, 16, 15, 11, 7, 8, 12, 15, 13, 13, 15, 13, 10, 7, 9, 9, 14, 16, 8, 17, 10, 11, 11, 11, 13, 13, 9, 11, 6, 8, 7, 13, 11, 10, 12, 11, 8, 14, 20, 10, 13, 9, 13, 12, 21, 16, 12, 14, 11, 11, 11, 9, 14, 16, 7, 9, 12, 8, 11, 11, 6, 4, 14, 5, 9, 7, 13, 14, 3, 11, 15, 10, 12, 10, 9, 8, 12, 13, 12, 7, 8, 12, 7, 11, 16, 15, 7, 12, 18, 13, 10, 16, 9, 12, 13, 17, 13, 7, 13, 12, 17, 8, 14, 12, 13, 15, 11, 15, 18, 8, 12, 10, 22, 5, 17, 6, 14, 12, 14, 9, 10, 10, 9, 10, 18, 2, 12, 10, 15, 12, 3, 12, 7, 9, 7, 9, 13, 13, 13, 14, 10, 9, 10, 11, 11, 9, 11, 10, 8, 12, 10, 11, 12, 12, 11, 13, 7, 15, 14, 10, 10, 12, 11, 8, 6, 10, 7, 10, 18, 14, 19, 22, 20, 13, 12, 12, 14, 6, 14, 12, 10, 17, 15, 15, 15, 21, 15, 24, 14, 10, 14, 14, 16, 13, 17, 13, 7, 16, 10, 19, 11, 3, 15, 18, 16, 19, 9, 8, 13, 8, 6, 8, 9, 10, 6, 10, 9, 11, 16, 4, 9, 12, 8, 13, 13, 11, 10, 11, 11, 12, 8, 25, 6, 14, 14, 8, 14, 12, 15, 18, 14, 11, 3, 7, 7, 9, 12, 26, 8, 8, 7, 13, 10, 9, 8, 5, 8, 7, 12, 8, 8, 8, 12, 12, 8, 13, 8, 5, 6, 4, 8, 18, 26, 10, 22, 13, 12, 12, 11, 8, 16, 10, 10, 14, 10, 9, 11, 9, 10, 9, 10, 21, 19, 12, 7, 10, 8, 10, 5, 7, 8, 13, 13, 9, 7, 8, 10, 10, 12, 12, 17, 10, 11, 5, 11, 8, 11, 17, 13, 10, 12, 9, 10, 7, 8, 8, 8, 7, 13, 14, 9, 15, 7, 17, 18, 11, 6, 10, 9, 9, 10, 12, 12, 7, 10, 10, 15, 11, 12, 15, 20, 19, 12, 10, 14, 15, 9, 15, 5, 7, 18, 11, 10, 12, 10, 8, 10, 12, 7, 12, 10, 11, 16, 9, 8, 8, 7, 11, 13, 10, 12, 10, 7, 11, 10, 10, 17, 13, 14, 15, 15, 7, 10, 12, 5, 9, 15, 12, 11, 9, 10, 8, 7, 10, 8, 19, 6, 11, 13, 20, 14, 12, 9, 7, 4, 7, 16, 6, 12, 18, 9, 18, 12, 10, 10, 15, 7, 10, 12, 5, 10, 15, 14, 11, 11, 15, 8, 15, 9, 14, 3, 14, 9, 8, 9, 11, 13, 19, 10, 8, 10, 11, 12, 12, 16, 10, 9, 13, 8, 7, 14, 9, 11, 13, 11, 12, 14, 9, 14, 15, 7, 13, 13, 8, 11, 13, 16, 12, 12, 12, 13, 10, 11, 10, 6, 7, 11, 7, 15, 8, 9, 9, 12, 11, 11, 10, 6, 8, 13, 12, 14, 7, 13, 8, 8, 10, 8, 12, 13, 11, 10, 17, 23, 15, 12, 9, 17, 12, 16, 10, 12, 10, 13, 13, 7, 6, 13, 9, 10, 12, 13, 11, 6, 8, 8, 5, 11, 12, 9, 10, 13, 12, 13, 12, 15, 10, 11, 13, 15, 10, 10, 10, 15, 8, 14, 10, 9, 15, 14, 20, 12, 10, 10, 14, 7, 10, 14, 14, 10, 6, 20, 17, 13, 7, 12, 12, 15, 17, 12, 9, 17, 10, 16, 12, 8, 9, 15, 16, 13, 3, 5, 13, 17, 16, 10, 17, 10, 13, 8, 16, 8, 9, 11, 13, 6, 7, 12, 9, 11, 7, 6, 13, 16, 6, 14, 12, 8, 9, 9, 7, 7, 15, 17, 12, 11, 12, 13, 8, 5, 7, 9, 10, 14, 11, 8, 9, 17, 13, 11, 14, 11, 9, 19, 13, 10, 9, 8, 12, 12, 13, 4, 14, 8, 6, 12, 13, 13, 13, 16, 6, 8, 9, 21, 13, 8, 20, 11, 6, 16, 10, 11, 9, 10, 7, 10, 11, 10, 16, 8, 13, 14, 4, 9, 13, 7, 14, 8, 14, 5, 11, 11, 19, 19, 11, 10, 12, 10, 11, 12, 12, 9, 7, 19, 14, 14, 8, 8, 9, 8, 7, 11, 14, 7, 12, 8, 12, 9, 15, 4, 15, 6, 10, 10, 8, 9, 9, 14, 7, 10, 11, 10, 16, 8, 19, 6, 11, 14, 9, 14, 14, 8, 13, 13, 10, 10, 7, 13, 14, 19, 11, 7, 10, 9, 14, 16, 12, 13, 13, 15, 10, 11, 13, 13, 8, 10, 13, 15, 13, 8, 10, 11, 12, 16, 14, 8, 19, 7, 14, 14, 6, 5, 11, 11, 6, 8, 6, 12, 19, 12, 10, 17, 9, 10, 13, 6, 10, 9, 9, 11, 9, 16, 9, 13, 9, 17, 14, 12, 15, 15, 7, 20, 17, 16, 12, 19, 10, 6, 8, 10, 10, 10, 13, 14, 14, 11, 7, 10, 12, 11, 8, 10, 9, 10, 8, 11, 11, 10, 7, 13, 14, 12, 11, 17, 12, 8, 9, 19, 13, 12, 11, 3, 10, 7, 16, 12, 10, 14, 13, 8, 8, 12, 14, 16, 11, 8, 5, 4, 7, 9, 10, 8, 14, 13, 18, 13, 8, 19, 7, 24, 11, 18, 14, 14, 15, 9, 16, 14, 10, 15, 10, 13, 14, 12, 14, 20, 17, 6, 8, 6, 10, 8, 10, 7, 10, 12, 13, 7, 9, 10, 8, 7, 16, 11, 10, 9, 14, 21, 9, 13, 12, 9, 10, 7, 9, 5, 15, 8, 8, 17, 12, 11, 14, 9, 10, 9, 10, 15, 8, 18, 13, 14, 9, 4, 7, 7, 9, 16, 17, 13, 12, 15, 21, 6, 5, 18, 8, 11, 9, 8, 9, 13, 15, 14, 9, 14, 16, 12, 9, 9, 9, 20, 13, 15, 17, 14, 13, 9, 14, 11, 12, 9, 10, 9, 12, 15, 10, 12, 14, 17, 6, 13, 7, 7, 7, 7, 12, 15, 13, 8, 12, 18, 7, 10, 11, 14, 12, 9, 15, 18, 14, 15, 13, 14, 6, 14, 11, 3, 16, 9, 9, 15, 19, 12, 15, 11, 11, 11, 12, 14, 17, 13, 11, 14, 6, 7, 7, 19, 8, 10, 13, 9, 9, 21, 15, 14, 14, 17, 10, 14, 6, 7, 10, 7, 10, 8, 9, 11, 11, 10, 7, 10, 8, 14, 7, 9, 5, 29, 17, 15, 4, 16, 15, 14, 17, 8, 17, 16, 7, 9, 21, 6, 8, 9, 6, 16, 7, 12, 23, 3, 13, 17, 9, 12, 15, 15, 10, 14, 6, 12, 13, 17, 9, 7, 19, 11, 9, 16, 17, 12, 14, 12, 28, 6, 20, 13, 19, 12, 13, 20, 7, 5, 17, 3, 7, 10, 12, 5, 13, 8, 10, 7, 7, 13, 12, 10, 6, 15, 15, 25, 8, 11, 13, 21, 10, 14, 14, 8, 9, 11, 8, 10, 10, 10, 10, 13, 18, 8, 7, 8, 9, 11, 12, 12, 15, 13, 16, 11, 20, 14, 11, 11, 9, 11, 10, 15, 9, 10, 10, 11, 6, 8, 8, 9, 11, 12, 8, 4, 3, 10, 12, 11, 8, 5, 9, 7, 10, 12, 16, 14, 13, 9, 9, 8, 12, 8, 10, 11, 10, 11, 10, 6, 20, 11, 9, 13, 11, 8, 8, 7, 7, 3, 14, 22, 14, 12, 5, 14, 16, 7, 7, 19, 12, 9, 14, 10, 10, 12, 8, 9, 8, 5, 10, 10, 9, 17, 16, 13, 6, 7, 16, 20, 10, 16, 7, 12, 8, 11, 3, 8, 9, 8, 9, 11, 8, 10, 8, 12, 8, 7, 16, 6, 5, 14, 15, 8, 4, 10, 12, 14, 15, 22, 15, 14, 6, 9, 14, 8, 7, 15, 8, 8, 10, 12, 13, 9, 5, 9, 11, 12, 14, 16, 9, 16, 9, 10, 8, 15, 12, 10, 8, 8, 13, 9, 10, 13, 9, 5, 11, 14, 15, 10, 14, 17, 12, 13, 18, 16, 13, 14, 13, 9, 6, 11, 15, 13, 16, 9, 15, 12, 10, 13, 17, 11, 10, 12, 9, 12, 10, 9, 7, 10, 12, 18, 13, 16, 13, 11, 11, 14, 16, 12, 19, 14, 13, 8, 10, 5, 14, 16, 7, 12, 20, 15, 17, 11, 23, 10, 11, 8, 6, 9, 16, 11, 12, 4, 13, 15, 8, 8, 9, 11, 14, 7, 10, 8, 14, 9, 13, 13, 18, 17, 10, 8, 11, 9, 8, 8, 8, 7, 11, 9, 9, 10, 8, 5, 12, 7, 9, 20, 14, 11, 9, 12, 9, 15, 15, 11, 5, 16, 10, 8, 10, 14, 15, 13, 10, 9, 6, 6, 7, 7, 16, 12, 15, 10, 14, 11, 12, 9, 6, 9, 13, 7, 7, 6, 7, 15, 11, 13, 11, 11, 8, 7, 4, 15, 8, 11, 15, 11, 12, 16, 12, 15, 9, 5, 8, 9, 10, 11, 16, 16, 9, 11, 8, 10, 9, 10, 13, 9, 8, 16, 9, 11, 9, 13, 10, 18, 12, 14, 6, 10, 11, 9, 9, 7, 13, 9, 10, 12, 12, 10, 10, 13, 11, 8, 7, 15, 12, 13, 10, 15, 14, 13, 13, 15, 13, 10, 9, 11, 11, 7, 11, 11, 8, 13, 7, 7, 9, 11, 10, 17, 14, 19, 13, 15, 7, 12, 17, 19, 19, 20, 11, 15, 12, 7, 8, 8, 11, 8, 9, 9, 16, 8, 13, 8, 9, 23, 7, 17, 16, 16, 17, 16, 17, 12, 18, 10, 8, 12, 17, 10, 15, 12, 10, 12, 2, 11, 12, 15, 12, 11, 10, 10, 8, 13, 14, 6, 11, 10, 11, 5, 7, 3, 11, 7, 8, 7, 12, 11, 9, 9, 9, 8, 10, 23, 11, 8, 15, 8, 8, 9, 10, 16, 14, 10, 9, 8, 14, 10, 15, 17, 12, 15, 16, 9, 9, 12, 16, 14, 13, 10, 9, 8, 10, 13, 13, 20, 11, 20, 9, 8, 13, 9, 7, 14, 9, 21, 13, 7, 18, 11, 10, 8, 10, 12, 9, 17, 12, 14, 13, 13, 13, 15, 4, 10, 7, 10, 5, 12, 9, 8, 7, 9, 8, 14, 8, 24, 13, 17, 14, 15, 11, 15, 9, 14, 9, 26, 9, 12, 7, 5, 9, 11, 7, 9, 8, 7, 14, 12, 9, 11, 11, 12, 9, 9, 11, 21, 23, 4, 14, 13, 12, 13, 12, 9, 9, 5, 15, 8, 15, 14, 16, 23, 9, 10, 11, 10, 11, 3, 16, 7, 16, 13, 21, 13, 9, 10, 10, 8, 7, 9, 7, 14, 10, 14, 9, 12, 10, 16, 17, 13, 6, 4, 7, 13, 8, 20, 8, 7, 13, 9, 11, 8, 9, 7, 9, 10, 11, 20, 12, 6, 13, 13, 15, 17, 15, 13, 18, 16, 21, 13, 10, 7, 5, 8, 6, 14, 3, 9, 6, 11, 10, 12, 16, 14, 15, 9, 14, 12, 9, 13, 14, 20, 11, 7, 10, 8, 16, 9, 14, 15, 18, 4, 11, 15, 21, 16, 15, 13, 12, 13, 23, 9, 10, 9, 8, 11, 18, 10, 17, 8, 9, 10, 6, 13, 11, 10, 7, 8, 14, 12, 18, 19, 16, 17, 17, 21, 11, 18, 15, 17, 9, 7, 6, 9, 14, 8, 6, 7, 4, 6, 14, 5, 4, 7, 10, 11, 8, 10, 12, 9, 10, 13, 8, 13, 12, 14, 10, 12, 12, 9, 6, 9, 14, 9, 14, 11, 12, 8, 11, 15, 14, 11, 10, 14, 6, 11, 10, 9, 15, 8, 6, 6, 7, 7, 9, 6, 13, 9, 6, 14, 15, 10, 6, 10, 9, 13, 10, 10, 10, 15, 12, 17, 15, 17, 12, 7, 10, 8, 11, 6, 13, 11, 7, 9, 15, 5, 15, 13, 5, 7, 8, 7, 12, 8, 8, 9, 17, 16, 7, 3, 19, 15, 11, 10, 11, 11, 17, 14, 15, 15, 3, 13, 8, 11, 12, 16, 13, 3, 11, 10, 7, 12, 11, 14, 15, 8, 13, 16, 12, 10, 13, 11, 14, 14, 10, 23, 12, 3, 10, 11, 21, 11, 14, 16, 17, 11, 7, 12, 9, 11, 11, 11, 8, 16, 7, 13, 8, 7, 15, 9, 11, 16, 10, 17, 12, 13, 14, 12, 5, 9, 10, 10, 15, 11, 11, 12, 5, 12, 7, 6, 3, 4, 7, 3, 8, 7, 11, 12, 13, 10, 10, 9, 7, 9, 9, 9, 6, 6, 10, 10, 13, 11, 8, 13, 11, 11, 20, 12, 15, 19, 8, 9, 5, 9, 9, 8, 13, 5, 8, 5, 10, 11, 12, 14, 10, 14, 11, 3, 11, 12, 14, 17, 8, 4, 12, 18, 13, 11, 7, 12, 11, 12, 4, 11, 11, 13, 7, 6, 8, 10, 14, 8, 8, 6, 7, 7, 13, 11, 9, 9, 17, 12, 5, 12, 15, 13, 7, 8, 11, 6, 7, 8, 14, 10, 7, 12, 5, 16, 6, 7, 11, 4, 8, 17, 20, 11, 10, 7, 9, 7, 5, 13, 3, 10, 8, 14, 11, 9, 9, 14, 10, 13, 11, 9, 9, 10, 10, 10, 10, 18, 10, 8, 10, 8, 12, 18, 13, 9, 8, 10, 10, 8, 7, 8, 10, 9, 7, 8, 9, 15, 15, 11, 16, 10, 11, 9, 7, 12, 15, 7, 7, 13, 9, 6, 8, 15, 9, 10, 8, 15, 15, 7, 13, 11, 8, 20, 14, 7, 13, 4, 11, 8, 15, 10, 16, 6, 8, 7, 7, 14, 7, 8, 5, 5, 10, 17, 16, 22, 18, 11, 8, 11, 11, 10, 9, 6, 11, 15, 8, 15, 6, 13, 6, 10, 7, 18, 28, 17, 3, 9, 7, 13, 14, 9, 16, 10, 23, 23, 7, 10, 12, 10, 24, 8, 15, 11, 10, 13, 14, 17, 8, 10, 19, 11, 7, 14, 14, 13, 11, 16, 18, 6, 9, 16, 7, 8, 20, 10, 17, 12, 8, 13, 14, 14, 13, 31, 15, 13, 14, 10, 19, 9, 12, 16, 14, 13, 7, 12, 11, 9, 11, 9, 5, 8, 4, 9, 16, 14, 11, 11, 16, 8, 9, 18, 9, 13, 7, 12, 11, 10, 10, 8, 4, 6, 7, 8, 9, 10, 7, 7, 9, 10, 13, 15, 11, 18, 14, 12, 18, 16, 11, 11, 9, 12, 17, 7, 9, 8, 9, 8, 12, 19, 15, 13, 7, 12, 23, 7, 8, 7, 12, 8, 9, 9, 6, 10, 12, 14, 8, 10, 14, 9, 10, 7, 8, 8, 7, 9, 12, 11, 12, 11, 12, 11, 7, 14, 21, 12, 9, 7, 10, 10, 11, 7, 7, 13, 5, 9, 11, 12, 11, 17, 11, 14, 10, 20, 12, 24, 10, 7, 9, 9, 12, 13, 11, 9, 14, 6, 8, 20, 7, 8, 9, 10, 8, 5, 10, 11, 30, 13, 9, 12, 3, 10, 8, 16, 10, 8, 13, 14, 21, 9, 8, 8, 10, 4, 7, 8, 15, 8, 10, 14, 16, 14, 17, 9, 15, 12, 11, 11, 19, 14, 12, 12, 12, 7, 9, 11, 11, 10, 18, 15, 14, 17, 18, 13, 11, 13, 16, 11, 9, 14, 8, 15, 10, 16, 12, 13, 8, 15, 17, 14, 19, 15, 3, 9, 13, 8, 14, 11, 12, 7, 16, 16, 9, 12, 12, 9, 11, 12, 17, 14, 13, 14, 7, 9, 12, 12, 8, 7, 10, 9, 11, 9, 10, 11, 9, 8, 11, 10, 12, 7, 6, 10, 12, 9, 9, 10, 8, 6, 5, 11, 14, 9, 11, 15, 9, 11, 9, 8, 9, 7, 10, 7, 10, 11, 8, 13, 6, 9, 12, 18, 14, 16, 13, 8, 9, 10, 10, 7, 19, 14, 16, 13, 15, 16, 15, 9, 13, 8, 14, 29, 13, 11, 6, 12, 14, 16, 10, 18, 11, 7, 10, 8, 11, 18, 6, 8, 7, 9, 14, 10, 11, 13, 14, 11, 11, 13, 4, 7, 15, 9, 15, 5, 10, 16, 10, 7, 10, 15, 10, 17, 14, 10, 8, 7, 5, 5, 11, 12, 11, 14, 12, 10, 11, 8, 7, 11, 10, 7, 9, 7, 9, 11, 5, 3, 7, 11, 11, 15, 12, 4, 7, 8, 10, 8, 13, 25, 7, 13, 10, 11, 10, 11, 9, 15, 14, 11, 8, 13, 8, 15, 10, 9, 9, 10, 14, 6, 9, 12, 9, 12, 11, 17, 14, 6, 12, 8, 11, 13, 12, 9, 9, 9, 6, 14, 15, 17, 4, 9, 9, 15, 7, 6, 16, 13, 15, 12, 14, 15, 9, 9, 13, 9, 10, 13, 5, 14, 12, 9, 13, 11, 15, 14, 8, 7, 21, 18, 8, 11, 13, 12, 7, 15, 13, 9, 4, 16, 7, 14, 18, 9, 10, 13, 14, 9, 8, 10, 7, 14, 12, 10, 9, 10, 9, 4, 19, 9, 6, 7, 9, 3, 10, 10, 11, 7, 8, 8, 9, 15, 18, 12, 21, 17, 13, 10, 8, 8, 6, 9, 4, 10, 11, 8, 13, 7, 10, 16, 11, 13, 12, 4, 4, 12, 8, 12, 9, 6, 9, 5, 12, 12, 11, 9, 13, 15, 13, 7, 10, 10, 9, 13, 12, 12, 9, 12, 16, 10, 13, 16, 6, 17, 12, 14, 13, 10, 11, 14, 13, 11, 12, 12, 8, 12, 18, 10, 15, 14, 12, 8, 16, 17, 9, 12, 11, 10, 10, 8, 8, 7, 18, 12, 15, 14, 7, 13, 11, 13, 5, 8, 9, 9, 7, 13, 14, 11, 10, 8, 9, 9, 6, 8, 9, 8, 9, 8, 10, 7, 17, 11, 9, 14, 11, 9, 13, 11, 9, 10, 9, 8, 15, 12, 15, 7, 7, 13, 14, 13, 12, 11, 5, 13, 14, 11, 12, 11, 10, 13, 12, 9, 11, 12, 8, 8, 4, 14, 8, 8, 8, 16, 16, 14, 15, 7, 12, 15, 17, 11, 8, 8, 17, 5, 10, 6, 11, 12, 15, 10, 11, 11, 11, 11, 15, 20, 11, 9, 11, 10, 9, 11, 7, 9, 8, 12, 16, 12, 11, 9, 9, 12, 10, 11, 12, 17, 12, 11, 10, 12, 12, 13, 13, 11, 8, 16, 14, 13, 14, 8, 14, 11, 12, 7, 19, 5, 7, 11, 9, 10, 8, 7, 16, 15, 10, 8, 15, 12, 15, 10, 8, 19, 16, 9, 7, 10, 10, 7, 11, 8, 10, 11, 6, 13, 10, 14, 17, 23, 12, 19, 16, 15, 19, 13, 14, 12, 12, 14, 10, 12, 11, 11, 17, 12, 3, 15, 10, 15, 12, 8, 16, 7, 10, 11, 15, 17, 10, 6, 7, 3, 10, 11, 15, 10, 10, 10, 17, 12, 12, 9, 7, 15, 8, 9, 8, 9, 8, 19, 10, 17, 8, 13, 21, 10, 5, 15, 11, 16, 7, 5, 7, 8, 9, 7, 13, 4, 5, 10, 10, 8, 14, 16, 16, 14, 6, 11, 11, 8, 17, 8, 10, 10, 10, 7, 7, 8, 10, 15, 12, 10, 7, 9, 9, 13, 9, 10, 13, 12, 9, 10, 11, 14, 9, 18, 11, 13, 8, 15, 13, 9, 12, 12, 5, 3, 12, 10, 8, 9, 8, 8, 9, 6, 20, 15, 9, 15, 15, 10, 13, 14, 10, 11, 8, 5, 6, 8, 11, 12, 9, 13, 13, 12, 11, 15, 4, 3, 3, 16, 14, 9, 7, 7, 7, 11, 7, 6, 7, 11, 17, 11, 9, 13, 16, 19, 8, 14, 12, 11, 13, 8, 13, 9, 8, 4, 10, 20, 11, 11, 8, 14, 12, 8, 10, 8, 6, 9, 10, 8, 8, 8, 7, 9, 5, 14, 10, 11, 14, 14, 14, 13, 12, 8, 9, 8, 10, 14, 16, 15, 13, 10, 10, 15, 12, 14, 16, 9, 13, 9, 12, 13, 9, 13, 15, 10, 12, 11, 13, 9, 12, 10, 13, 9, 9, 13, 7, 14, 9, 5, 7, 14, 5, 8, 9, 10, 8, 9, 13, 10, 11, 7, 15, 14, 9, 9, 9, 11, 11, 8, 12, 11, 13, 16, 10, 13, 7, 11, 8, 9, 9, 5, 10, 8, 19, 6, 9, 15, 16, 11, 16, 18, 11, 14, 12, 13, 8, 12, 6, 9, 14, 17, 11, 8, 8, 12, 19, 8, 7, 13, 11, 13, 7, 8, 14, 14, 17, 15, 9, 12, 10, 11, 14, 15, 13, 4, 14, 7, 5, 15, 19, 14, 9, 25, 12, 17, 17, 13, 12, 12, 8, 16, 11, 13, 18, 11, 10, 14, 6, 19, 12, 15, 14, 17, 14, 13, 8, 9, 11, 10, 10, 4, 12, 16, 10, 8, 5, 12, 11, 13, 9, 12, 15, 6, 10, 9, 17, 11, 23, 12, 14, 11, 12, 14, 13, 14, 10, 11, 13, 8, 9, 10, 17, 6, 6, 11, 14, 15, 12, 13, 9, 12, 12, 9, 21, 9, 5, 6, 9, 6, 9, 18, 16, 12, 7, 10, 7, 11, 12, 14, 14, 10, 11, 8, 15, 10, 9, 9, 7, 19, 9, 10, 11, 14, 14, 16, 12, 8, 7, 17, 8, 7, 8, 11, 9, 10, 12, 11, 9, 12, 7, 15, 8, 5, 22, 17, 10, 12, 17, 16, 13, 17, 18, 9, 13, 7, 15, 5, 7, 10, 13, 11, 13, 11, 9, 14, 12, 3, 6, 14, 10, 9, 7, 7, 9, 7, 11, 7, 12, 8, 7, 10, 13, 13, 7, 19, 14, 10, 11, 8, 15, 14, 18, 8, 20, 8, 6, 8, 11, 7, 13, 13, 17, 13, 7, 9, 11, 10, 6, 14, 9, 9, 5, 10, 14, 10, 9, 13, 8, 19, 21, 9, 14, 15, 16, 11, 17, 11, 14, 15, 3, 11, 20, 17, 10, 13, 12, 10, 7, 11, 15, 18, 19, 7, 7, 14, 8, 13, 21, 12, 11, 11, 10, 13, 10, 6, 4, 9, 7, 15, 17, 12, 10, 17, 7, 9, 16, 12, 11, 9, 9, 12, 16, 4, 14, 9, 6, 9, 9, 6, 14, 15, 11, 18, 11, 14, 16, 12, 11, 10, 15, 11, 10, 10, 12, 11, 9, 13, 14, 11, 15, 6, 10, 14, 6, 12, 10, 8, 11, 19, 12, 14, 11, 13, 10, 10, 10, 14, 11, 20, 10, 10, 9, 11, 10, 17, 21, 16, 19, 11, 17, 11, 12, 12, 13, 11, 3, 24, 15, 10, 18, 9, 11, 12, 10, 12, 15, 16, 10, 15, 8, 13, 13, 15, 14, 10, 7, 14, 11, 11, 13, 9, 11, 11, 16, 14, 18, 17, 11, 15, 15, 15, 9, 13, 12, 14, 12, 21, 17, 9, 10, 20, 9, 7, 13, 17, 11, 6, 6, 7, 6, 17, 11, 12, 7, 13, 13, 16, 10, 22, 17, 19, 8, 6, 14, 3, 3, 13, 11, 8, 11, 9, 14, 15, 12, 18, 12, 7, 8, 9, 10, 24, 16, 16, 11, 7, 13, 9, 10, 10, 11, 10, 9, 14, 10, 7, 7, 22, 10, 12, 10, 8, 7, 9, 8, 16, 6, 12, 17, 10, 12, 9, 9, 9, 9, 11, 9, 7, 19, 16, 16, 20, 8, 9, 9, 19, 11, 10, 12, 13, 8, 13, 13, 7, 9, 16, 10, 12, 7, 11, 16, 11, 7, 15, 8, 10, 15, 7, 9, 17, 24, 16, 9, 8, 9, 9, 9, 9, 13, 14, 18, 12, 9, 10, 19, 6, 9, 12, 11, 3, 3, 9, 10, 11, 7, 12, 13, 15, 10, 12, 10, 8, 9, 10, 14, 7, 12, 8, 11, 12, 7, 8, 15, 2, 15, 14, 13, 12, 21, 14, 13, 8, 12, 12, 11, 11, 9, 10, 13, 11, 8, 11, 9, 11, 7, 12, 7, 12, 9, 7, 11, 7, 4, 7, 8, 12, 5, 9, 11, 14, 11, 8, 16, 12, 3, 11, 11, 14, 15, 4, 7, 6, 12, 10, 17, 12, 8, 16, 10, 12, 7, 8, 14, 8, 13, 9, 12, 9, 18, 11, 6, 9, 9, 14, 6, 8, 12, 10, 17, 10, 10, 11, 7, 6, 10, 11, 12, 8, 2, 18, 12, 9, 9, 7, 10, 9, 5, 5, 12, 13, 16, 19, 12, 5, 8, 8, 8, 14, 9, 10, 14, 6, 19, 18, 8, 15, 9, 8, 11, 11, 9, 7, 5, 8, 10, 9, 12, 9, 3, 10, 12, 14, 13, 17, 12, 7, 11, 17, 15, 13, 11, 12, 9, 8, 11, 16, 11, 12, 13, 16, 11, 11, 11, 8, 13, 11, 11, 7, 9, 13, 5, 7, 9, 9, 10, 13, 10, 11, 10, 10, 12, 8, 10, 14, 10, 12, 9, 7, 9, 7, 17, 9, 12, 12, 5, 9, 16, 8, 10, 8, 7, 12, 11, 11, 11, 12, 12, 15, 8, 14, 18, 23, 14, 16, 9, 13, 17, 10, 8, 8, 12, 14, 11, 13, 10, 12, 15, 12, 11, 19, 13, 11, 12, 14, 13, 18, 11, 8, 8, 7, 10, 10, 6, 10, 12, 10, 12, 17, 7, 10, 9, 13, 10, 8, 7, 8, 18, 9, 9, 14, 11, 15, 11, 11, 13, 12, 16, 10, 8, 13, 13, 16, 14, 11, 6, 10, 7, 9, 10, 6, 11, 8, 16, 8, 11, 14, 12, 6, 10, 15, 11, 9, 15, 18, 10, 8, 11, 14, 12, 15, 8, 10, 9, 12, 6, 17, 10, 11, 9, 13, 10, 26, 10, 14, 6, 8, 8, 7, 11, 10, 13, 8, 13, 13, 24, 9, 21, 7, 10, 15, 9, 15, 13, 17, 11, 17, 11, 13, 14, 15, 8, 13, 10, 12, 16, 24, 11, 9, 12, 11, 13, 8, 11, 11, 14, 9, 11, 22, 12, 10, 10, 13, 7, 12, 12, 15, 11, 6, 11, 18, 15, 9, 6, 8, 10, 8, 13, 12, 14, 19, 12, 12, 9, 8, 11, 10, 10, 10, 12, 18, 14, 8, 11, 8, 16, 9, 5, 7, 9, 14, 10, 26, 19, 11, 18, 14, 10, 10, 10, 15, 12, 10, 17, 9, 9, 9, 12, 9, 9, 15, 10, 18, 11, 19, 13, 14, 13, 6, 11, 20, 19, 8, 8, 9, 11, 18, 12, 9, 8, 16, 17, 6, 12, 12, 13, 7, 5, 15, 6, 18, 11, 13, 9, 9, 13, 9, 16, 19, 16, 9, 18, 17, 13, 11, 8, 14, 12, 12, 13, 13, 8, 7, 7, 6, 13, 19, 12, 11, 13, 11, 8, 10, 6, 8, 11, 13, 5, 10, 8, 15, 11, 10, 7, 11, 12, 7, 10, 10, 8, 12, 9, 11, 5, 14, 6, 9, 6, 6, 5, 14, 10, 8, 12, 8, 6, 10, 10, 7, 19, 14, 11, 7, 14, 9, 12, 13, 14, 12, 12, 17, 12, 13, 8, 10, 12, 8, 9, 8, 12, 14, 5, 13, 16, 15, 19, 10, 17, 9, 4, 8, 10, 9, 11, 7, 10, 10, 10, 21, 15, 20, 9, 15, 14, 10, 15, 13, 13, 13, 5, 15, 9, 10, 12, 5, 7, 11, 15, 13, 11, 7, 6, 9, 6, 12, 6, 9, 14, 15, 10, 7, 12, 11, 14, 12, 17, 15, 12, 15, 7, 7, 10, 8, 8, 11, 13, 13, 13, 18, 14, 17, 13, 11, 11, 9, 13, 14, 11, 9, 16, 13, 7, 8, 13, 4, 16, 9, 9, 9, 5, 15, 7, 11, 12, 10, 9, 7, 10, 5, 9, 9, 11, 13, 10, 11, 10, 7, 15, 14, 8, 7, 9, 10, 12, 13, 9, 14, 17, 7, 7, 7, 11, 11, 15, 4, 17, 13, 19, 21, 21, 19, 16, 7, 7, 12, 14, 12, 7, 10, 12, 15, 9, 16, 11, 12, 15, 12, 10, 7, 11, 11, 6, 10, 10, 6, 9, 11, 10, 17, 7, 7, 10, 4, 10, 10, 14, 11, 20, 11, 8, 17, 12, 8, 17, 14, 12, 11, 9, 15, 22, 9, 12, 11, 7, 13, 13, 11, 12, 7, 12, 16, 12, 11, 11, 8, 8, 7, 8, 6, 8, 9, 15, 9, 12, 13, 27, 5, 15, 12, 17, 10, 14, 8, 10, 6, 9, 9, 9, 7, 15, 9, 8, 5, 11, 15, 16, 12, 8, 13, 7, 17, 11, 10, 12, 11, 14, 14, 10, 11, 16, 15, 10, 15, 12, 9, 11, 3, 7, 13, 9, 18, 14, 8, 10, 9, 11, 13, 14, 18, 7, 11, 10, 13, 12, 13, 12, 12, 8, 15, 12, 9, 12, 7, 5, 9, 8, 13, 7, 12, 8, 11, 10, 7, 7, 10, 10, 6, 8, 9, 4, 10, 8, 15, 3, 12, 19, 11, 11, 12, 18, 9, 16, 12, 12, 6, 9, 17, 9, 8, 12, 15, 14, 15, 20, 11, 16, 7, 10, 7, 5, 18, 12, 5, 12, 10, 11, 8, 11, 13, 15, 14, 23, 13, 7, 12, 9, 11, 8, 6, 9, 9, 13, 9, 9, 20, 14, 18, 7, 11, 12, 12, 11, 15, 14, 6, 14, 13, 7, 7, 13, 8, 9, 11, 12, 12, 17, 12, 11, 12, 9, 9, 13, 9, 12, 10, 11, 11, 13, 12, 11, 11, 9, 7, 13, 14, 10, 12, 16, 16, 10, 12, 13, 14, 10, 9, 10, 14, 6, 13, 12, 7, 10, 8, 11, 7, 7, 10, 11, 14, 13, 7, 7, 15, 14, 11, 6, 8, 10, 10, 14, 11, 9, 11, 20, 7, 10, 7, 11, 15, 11, 14, 17, 10, 14, 3, 13, 10, 13, 9, 11, 12, 14, 8, 8, 8, 8, 18, 11, 11, 13, 17, 12, 11, 18, 12, 8, 14, 9, 11, 15, 8, 9, 7, 7, 9, 16, 7, 6, 23, 2, 8, 5, 11, 8, 13, 12, 12, 15, 6, 19, 16, 12, 16, 5, 14, 18, 12, 3, 3, 3, 10, 12, 9, 6, 13, 13, 6, 10, 10, 7, 9, 7, 14, 7, 11, 3, 4, 8, 6, 2, 14, 11, 16, 12, 12, 7, 10, 8, 7, 9, 10, 9, 8, 15, 10, 20, 15, 12, 6, 11, 11, 8, 11, 14, 12, 10, 13, 9, 9, 6, 4, 9, 9, 3, 10, 15, 14, 7, 11, 14, 8, 11, 14, 11, 12, 10, 12, 9, 12, 7, 9, 10, 8, 9, 12, 10, 6, 7, 11, 7, 8, 10, 16, 10, 13, 9, 9, 6, 10, 5, 9, 5, 12, 9, 7, 9, 11, 7, 5, 6, 22, 12, 13, 6, 6, 14, 12, 7, 10, 12, 12, 3, 3, 3, 7, 14, 14, 11, 10, 14, 18, 18, 15, 15, 15, 10, 13, 8, 10, 8, 13, 7, 8, 15, 11, 9, 9, 11, 9, 13, 14, 7, 13, 12, 12, 15, 9, 13, 14, 13, 14, 11, 7, 10, 7, 15, 14, 7, 12, 10, 15, 9, 10, 12, 8, 6, 13, 9, 10, 6, 10, 10, 7, 9, 8, 6, 10, 14, 8, 12, 12, 10, 8, 6, 10, 4, 14, 12, 14, 16, 18, 14, 17, 13, 13, 8, 14, 12, 10, 14, 10, 13, 19, 12, 12, 13, 12, 11, 6, 11, 10, 14, 11, 11, 8, 16, 16, 11, 19, 14, 12, 13, 9, 15, 11, 12, 15, 7, 7, 14, 13, 24, 11, 12, 6, 12, 12, 8, 8, 16, 11, 11, 5, 9, 18, 13, 12, 12, 14, 13, 16, 8, 3, 3, 7, 11, 8, 10, 12, 18, 17, 12, 12, 7, 11, 12, 13, 20, 18, 20, 10, 10, 8, 7, 10, 13, 8, 7, 12, 13, 13, 14, 15, 17, 12, 13, 23, 13, 11, 12, 14, 13, 10, 16, 19, 11, 13, 11, 13, 13, 12, 5, 15, 9, 3, 3, 15, 7, 13, 5, 16, 10, 9, 8, 17, 10, 8, 8, 8, 8, 17, 9, 9, 14, 15, 9, 12, 12, 14, 16, 20, 18, 9, 14, 18, 9, 21, 7, 11, 16, 12, 13, 3, 11, 9, 18, 13, 9, 22, 6, 13, 13, 13, 9, 7, 11, 13, 14, 11, 8, 10, 16, 11, 9, 12, 8, 8, 18, 6, 13, 13, 7, 16, 14, 13, 13, 7, 8, 9, 14, 13, 14, 13, 10, 9, 14, 15, 12, 15, 8, 12, 8, 12, 5, 13, 10, 11, 13, 12, 12, 12, 13, 13, 18, 13, 7, 9, 13, 8, 6, 9, 10, 7, 8, 10, 14, 16, 16, 16, 27, 7, 13, 14, 8, 11, 19, 11, 8, 7, 11, 16, 14, 14, 12, 15, 8, 8, 14, 12, 11, 20, 18, 13, 14, 13, 11, 8, 8, 14, 4, 13, 20, 10, 13, 16, 12, 8, 10, 10, 14, 10, 13, 10, 8, 7, 14, 6, 13, 9, 8, 14, 11, 6, 11, 9, 14, 13, 15, 14, 9, 12, 20, 10, 19, 14, 12, 9, 16, 14, 12, 14, 6, 11, 8, 6, 6, 18, 17, 11, 11, 7, 10, 11, 7, 13, 8, 17, 8, 12, 10, 10, 8, 8, 9, 6, 10, 12, 15, 11, 13, 10, 10, 12, 12, 12, 9, 9, 11, 11, 13, 12, 15, 11, 16, 14, 10, 8, 10, 12, 11, 11, 10, 4, 10, 12, 10, 10, 13, 10, 9, 10, 14, 8, 21, 12, 9, 12, 11, 7, 13, 10, 8, 7, 9, 15, 11, 17, 12, 6, 11, 10, 10, 15, 6, 11, 12, 26, 21, 12, 14, 12, 12, 16, 11, 9, 13, 7, 14, 13, 8, 10, 12, 14, 17, 9, 15, 7, 6, 7, 5, 17, 13, 15, 3, 7, 9, 16, 7, 7, 9, 14, 18, 9, 13, 11, 7, 10, 10, 10, 20, 18, 9, 5, 11, 6, 9, 10, 7, 10, 9, 14, 11, 14, 7, 13, 12, 9, 13, 12, 17, 7, 14, 12, 14, 9, 20, 15, 16, 11, 11, 10, 6, 15, 12, 6, 6, 14, 6, 14, 7, 8, 11, 10, 12, 12, 11, 11, 8, 6, 14, 13, 10, 14, 9, 4, 6, 8, 7, 14, 11, 7, 13, 10, 7, 8, 13, 13, 12, 14, 9, 7, 7, 8, 15, 9, 9, 14, 7, 14, 6, 5, 9, 7, 6, 4, 9, 11, 14, 6, 7, 16, 9, 9, 10, 10, 11, 13, 10, 9, 10, 13, 14, 5, 11, 8, 15, 18, 6, 13, 13, 11, 11, 16, 13, 16, 16, 7, 11, 14, 20, 12, 9, 17, 10, 9, 13, 10, 9, 8, 9, 8, 8, 14, 18, 15, 18, 13, 13, 6, 9, 8, 6, 10, 10, 8, 24, 7, 7, 8, 12, 10, 11, 12, 9, 6, 11, 7, 7, 11, 15, 14, 10, 15, 14, 14, 9, 10, 6, 9, 19, 6, 8, 7, 6, 8, 10, 11, 10, 11, 12, 6, 5, 11, 6, 9, 12, 11, 11, 11, 15, 5, 13, 13, 9, 12, 11, 16, 10, 17, 17, 13, 12, 16, 9, 13, 17, 17, 14, 13, 19, 9, 5, 17, 11, 11, 7, 9, 11, 14, 6, 14, 14, 15, 7, 7, 6, 14, 11, 7, 11, 11, 11, 18, 15, 16, 12, 16, 12, 11, 15, 16, 7, 9, 7, 7, 8, 12, 8, 12, 11, 7, 11, 8, 9, 5, 9, 8, 10, 10, 9, 11, 10, 11, 9, 10, 14, 10, 9, 16, 11, 15, 12, 11, 17, 10, 11, 17, 10, 12, 8, 10, 17, 19, 11, 13, 3, 15, 11, 16, 11, 15, 12, 15, 12, 11, 9, 11, 29, 15, 8, 5, 10, 11, 2, 3, 11, 12, 5, 12, 13, 19, 15, 19, 6, 10, 14, 12, 18, 11, 8, 7, 10, 8, 15, 8, 10, 9, 8, 10, 6, 11, 12, 14, 9, 14, 20, 19, 13, 16, 20, 12, 11, 9, 10, 7, 9, 20, 12, 6, 13, 14, 6, 18, 9, 8, 14, 7, 12, 18, 15, 11, 9, 10, 8, 20, 12, 11, 10, 9, 10, 13, 17, 9, 11, 10, 12, 9, 16, 10, 8, 17, 6, 8, 9, 9, 15, 23, 15, 10, 15, 12, 11, 11, 12, 6, 14, 9, 11, 8, 15, 15, 22, 12, 5, 11, 12, 7, 13, 25, 5, 5, 13, 9, 9, 7, 7, 11, 9, 8, 10, 13, 11, 9, 14, 17, 8, 7, 6, 13, 12, 7, 9, 7, 15, 4, 5, 12, 15, 14, 9, 13, 12, 17, 12, 12, 18, 10, 13, 3, 9, 11, 11, 8, 15, 9, 9, 7, 13, 12, 6, 7, 11, 12, 13, 8, 19, 11, 16, 9, 17, 13, 8, 14, 21, 10, 7, 7, 9, 14, 11, 12, 12, 14, 12, 18, 8, 9, 10, 9, 12, 13, 8, 11, 16, 12, 18, 14, 12, 6, 11, 15, 13, 10, 16, 12, 12, 18, 13, 11, 7, 8, 9, 11, 11, 13, 15, 11, 10, 8, 3, 4, 3, 14, 5, 10, 11, 8, 9, 11, 13, 14, 10, 12, 12, 14, 12, 11, 15, 16, 14, 14, 10, 17, 12, 3, 8, 9, 7, 11, 6, 21, 16, 20, 15, 12, 10, 16, 7, 13, 8, 13, 9, 13, 8, 13, 12, 12, 25, 17, 12, 15, 8, 9, 8, 11, 15, 13, 9, 16, 6, 12, 11, 12, 8, 9, 13, 12, 12, 12, 11, 17, 10, 16, 9, 12, 11, 8, 8, 7, 10, 11, 12, 10, 6, 7, 12, 12, 16, 8, 8, 11, 12, 16, 13, 12, 7, 10, 7, 7, 13, 7, 5, 13, 12, 8, 9, 11, 10, 11, 16, 4, 8, 7, 13, 12, 13, 7, 15, 9, 10, 10, 12, 9, 10, 11, 9, 11, 22, 13, 13, 14, 18, 17, 8, 15, 9, 11, 10, 6, 12, 14, 13, 19, 15, 10, 10, 15, 11, 6, 12, 14, 9, 15, 11, 11, 10, 8, 9, 13, 5, 8, 8, 18, 10, 9, 11, 16, 12, 10, 9, 11, 12, 7, 20, 7, 17, 12, 10, 13, 14, 12, 10, 10, 12, 9, 16, 15, 9, 7, 8, 8, 10, 10, 10, 11, 14, 12, 12, 10, 14, 6, 10, 5, 12, 12, 17, 16, 15, 18, 11, 13, 20, 14, 14, 16, 13, 16, 8, 11, 14, 8, 14, 12, 11, 12, 7, 6, 8, 15, 9, 11, 13, 11, 14, 15, 10, 13, 14, 7, 9, 7, 8, 5, 10, 13, 15, 12, 14, 12, 10, 15, 21, 18, 14, 16, 7, 8, 13, 9, 10, 8, 11, 12, 11, 15, 10, 7, 10, 10, 14, 17, 6, 6, 8, 9, 15, 6, 18, 20, 9, 8, 12, 9, 13, 11, 16, 16, 10, 5, 6, 25, 11, 9, 15, 11, 9, 10, 13, 10, 8, 8, 15, 13, 9, 6, 15, 17, 15, 9, 17, 9, 8, 6, 10, 6, 15, 20, 15, 6, 12, 14, 14, 7, 20, 12, 10, 8, 12, 12, 9, 10, 15, 18, 10, 12, 10, 15, 12, 12, 9, 8, 9, 12, 7, 20, 12, 16, 12, 13, 14, 11, 12, 11, 11, 8, 9, 12, 14, 10, 12, 14, 14, 9, 7, 6, 8, 3, 11, 4, 8, 19, 16, 15, 17, 12, 12, 7, 10, 17, 9, 12, 10, 10, 6, 7, 13, 11, 19, 8, 18, 10, 9, 9, 11, 9, 8, 11, 10, 11, 12, 10, 15, 16, 8, 13, 10, 14, 10, 16, 7, 13, 9, 19, 14, 11, 17, 12, 9, 9, 17, 10, 6, 12, 9, 15, 7, 19, 15, 9, 9, 9, 4, 7, 11, 9, 11, 10, 13, 6, 11, 10, 7, 8, 10, 11, 8, 8, 7, 11, 8, 11, 11, 15, 11, 12, 13, 13, 7, 13, 12, 8, 16, 10, 11, 12, 12, 12, 9, 7, 7, 11, 17, 9, 7, 5, 7, 13, 16, 9, 12, 4, 7, 9, 11, 12, 7, 15, 10, 17, 18, 15, 12, 11, 14, 9, 12, 11, 15, 8, 17, 6, 10, 7, 7, 13, 15, 17, 15, 7, 8, 10, 14, 17, 15, 11, 13, 11, 7, 11, 11, 10, 8, 10, 8, 8, 13, 10, 13, 17, 10, 11, 15, 13, 8, 13, 18, 4, 9, 10, 14, 15, 15, 13, 12, 13, 9, 14, 18, 14, 13, 14, 16, 11, 8, 10, 12, 5, 16, 6, 10, 21, 7, 15, 9, 14, 11, 9, 15, 10, 19, 9, 14, 18, 13, 15, 14, 11, 15, 12, 7, 6, 12, 9, 5, 15, 15, 15, 10, 7, 11, 17, 13, 13, 16, 14, 5, 8, 13, 5, 20, 13, 9, 11, 5, 23, 14, 17, 8, 7, 10, 9, 7, 15, 11, 13, 11, 17, 13, 11, 13, 12, 13, 10, 14, 7, 11, 11, 8, 11, 11, 18, 12, 15, 9, 16, 10, 13, 11, 32, 6, 12, 7, 10, 9, 12, 11, 9, 20, 5, 12, 9, 12, 7, 10, 15, 7, 20, 8, 10, 10, 9, 5, 16, 10, 13, 11, 14, 7, 6, 6, 12, 13, 12, 14, 7, 9, 17, 10, 9, 8, 8, 8, 8, 7, 9, 6, 7, 3, 7, 10, 10, 15, 7, 13, 8, 13, 20, 14, 14, 13, 8, 8, 13, 11, 10, 13, 12, 16, 15, 11, 7, 8, 8, 7, 9, 9, 8, 13, 6, 10, 13, 7, 12, 12, 9, 9, 9, 10, 8, 9, 13, 16, 8, 17, 12, 15, 13, 11, 10, 8, 7, 15, 11, 13, 15, 9, 15, 15, 9, 8, 8, 8, 9, 8, 14, 18, 8, 12, 16, 22, 7, 7, 12, 10, 9, 16, 13, 15, 13, 12, 15, 30, 16, 18, 13, 3, 10, 11, 10, 12, 8, 12, 19, 17, 9, 15, 9, 7, 8, 10, 8, 14, 8, 7, 9, 15, 13, 9, 13, 9, 16, 12, 6, 16, 13, 9, 10, 11, 9, 11, 7, 18, 6, 10, 13, 16, 15, 14, 10, 19, 10, 8, 10, 9, 7, 10, 13, 14, 13, 6, 17, 9, 9, 12, 10, 13, 9, 13, 7, 8, 7, 21, 10, 15, 16, 13, 14, 13, 15, 9, 18, 16, 6, 16, 3, 9, 9, 16, 9, 12, 14, 12, 11, 6, 10, 3, 12, 11, 9, 10, 13, 10, 13, 18, 9, 12, 9, 12, 13, 12, 7, 18, 8, 11, 7, 14, 3, 11, 4, 10, 20, 25, 12, 25, 12, 14, 12, 7, 7, 3, 10, 7, 7, 9, 7, 23, 10, 13, 18, 3, 14, 8, 8, 11, 13, 16, 12, 7, 9, 10, 13, 11, 12, 13, 13, 10, 10, 11, 9, 9, 7, 11, 9, 6, 11, 12, 14, 15, 14, 20, 11, 14, 8, 16, 14, 8, 11, 7, 8, 8, 6, 12, 15, 6, 7, 22, 8, 8, 4, 9, 10, 21, 15, 8, 2, 6, 7, 13, 10, 15, 16, 13, 9, 22, 10, 9, 7, 12, 13, 11, 17, 16, 14, 16, 11, 16, 11, 15, 8, 10, 10, 14, 12, 4, 8, 11, 3, 12, 15, 6, 14, 16, 4, 17, 18, 11, 13, 13, 13, 11, 13, 18, 4, 8, 11, 8, 15, 17, 7, 13, 11, 11, 8, 9, 9, 9, 11, 15, 12, 11, 10, 11, 8, 11, 10, 9, 7, 10, 9, 6, 14, 11, 14, 3, 11, 9, 12, 22, 5, 10, 14, 14, 10, 14, 10, 17, 11, 16, 13, 15, 10, 9, 9, 10, 11, 10, 10, 12, 6, 12, 6, 7, 7, 9, 6, 15, 10, 11, 7, 14, 14, 11, 12, 15, 12, 13, 14, 15, 9, 11, 12, 7, 3, 14, 8, 23, 10, 18, 12, 8, 13, 3, 9, 8, 8, 12, 13, 13, 15, 7, 8, 9, 13, 6, 12, 20, 16, 27, 12, 9, 16, 13, 15, 8, 13, 11, 8, 18, 7, 14, 15, 13, 14, 10, 14, 13, 15, 8, 11, 12, 19, 16, 9, 8, 7, 9, 3, 6, 9, 6, 12, 11, 14, 11, 14, 14, 10, 9, 11, 3, 17, 15, 11, 10, 9, 9, 8, 5, 10, 13, 9, 7, 11, 8, 10, 12, 14, 12, 11, 6, 14, 8, 4, 12, 11, 10, 8, 13, 7, 12, 8, 12, 14, 14, 7, 19, 18, 10, 14, 10, 11, 10, 9, 6, 10, 14, 10, 12, 14, 13, 12, 8, 10, 12, 8, 8, 8, 15, 14, 12, 9, 11, 9, 14, 13, 10, 15, 13, 12, 6, 11, 11, 14, 10, 7, 8, 10, 12, 6, 12, 13, 22, 8, 15, 11, 21, 9, 8, 5, 11, 3, 9, 6, 7, 11, 7, 6, 7, 12, 16, 12, 5, 11, 12, 14, 18, 13, 13, 8, 7, 16, 8, 14, 8, 15, 3, 12, 9, 11, 12, 15, 21, 7, 8, 22, 5, 21, 8, 5, 13, 12, 14, 11, 10, 9, 6, 5, 7, 8, 5, 15, 17, 15, 9, 7, 12, 14, 12, 15, 12, 10, 12, 11, 15, 11, 11, 8, 15, 11, 12, 10, 9, 9, 12, 12, 10, 12, 11, 7, 11, 14, 17, 9, 7, 8, 13, 17, 18, 13, 12, 16, 10, 7, 6, 17, 9, 8, 12, 7, 14, 23, 13, 18, 16, 3, 11, 7, 14, 11, 12, 10, 6, 9, 12, 9, 10, 9, 6, 11, 19, 7, 15, 7, 10, 12, 9, 15, 13, 13, 13, 10, 8, 13, 10, 7, 12, 5, 16, 5, 15, 11, 6, 5, 12, 8, 9, 8, 11, 11, 16, 14, 16, 16, 15, 9, 8, 18, 9, 8, 13, 13, 12, 16, 13, 11, 21, 11, 11, 13, 5, 8, 12, 11, 8, 12, 12, 8, 15, 6, 12, 11, 12, 12, 9, 11, 14, 11, 13, 11, 13, 13, 18, 11, 13, 15, 7, 15, 7, 16, 7, 7, 7, 7, 10, 17, 13, 7, 14, 11, 8, 16, 12, 12, 13, 14, 8, 8, 9, 5, 7, 9, 11, 10, 15, 12, 7, 15, 6, 10, 19, 20, 11, 13, 18, 14, 12, 14, 17, 13, 8, 17, 10, 11, 10, 9, 13, 21, 10, 13, 7, 9, 8, 11, 3, 15, 8, 18, 6, 9, 7, 10, 9, 16, 12, 15, 19, 13, 6, 22, 16, 5, 19, 6, 12, 13, 10, 12, 12, 13, 17, 10, 13, 10, 12, 10, 11, 5, 10, 8, 10, 12, 15, 18, 8, 9, 10, 13, 12, 14, 14, 12, 10, 13, 12, 6, 16, 9, 8, 9, 10, 9, 12, 10, 12, 10, 13, 18, 15, 15, 16, 6, 11, 7, 3, 10, 15, 8, 3, 6, 7, 12, 7, 4, 12, 5, 7, 18, 12, 12, 9, 8, 9, 6, 11, 11, 20, 15, 8, 8, 17, 12, 7, 14, 12, 12, 10, 6, 8, 8, 7, 13, 14, 14, 15, 14, 12, 8, 10, 16, 8, 13, 6, 9, 10, 8, 9, 19, 9, 19, 10, 15, 13, 9, 10, 16, 12, 24, 20, 12, 8, 12, 9, 15, 11, 13, 7, 15, 11, 15, 8, 14, 23, 16, 11, 7, 11, 10, 7, 7, 7, 17, 5, 13, 7, 7, 13, 10, 9, 11, 11, 8, 10, 10, 9, 9, 8, 11, 15, 6, 12, 8, 8, 11, 13, 12, 10, 14, 13, 9, 13, 15, 11, 10, 10, 9, 10, 9, 11, 12, 15, 11, 14, 12, 12, 12, 15, 11, 20, 11, 17, 7, 13, 13, 10, 8, 8, 9, 21, 10, 7, 12, 10, 9, 7, 18, 11, 20, 15, 8, 8, 8, 10, 6, 3, 18, 7, 8, 10, 9, 10, 12, 15, 20, 12, 15, 13, 10, 11, 5, 11, 15, 14, 13, 9, 17, 12, 9, 7, 5, 12, 12, 9, 14, 10, 10, 16, 13, 5, 17, 9, 12, 8, 9, 7, 11, 17, 8, 16, 10, 16, 11, 11, 13, 11, 11, 10, 10, 7, 12, 12, 12, 16, 9, 11, 8, 11, 7, 8, 12, 12, 8, 11, 9, 4, 12, 12, 8, 8, 19, 9, 10, 11, 11, 9, 11, 8, 14, 5, 8, 10, 16, 8, 7, 9, 7, 10, 10, 9, 8, 13, 7, 11, 10, 9, 6, 14, 13, 12, 13, 15, 12, 16, 12, 13, 10, 9, 7, 16, 15, 7, 7, 11, 8, 7, 11, 13, 13, 12, 23, 14, 11, 11, 11, 11, 13, 9, 10, 9, 9, 9, 9, 8, 8, 6, 9, 14, 15, 12, 12, 13, 20, 17, 11, 7, 10, 12, 8, 5, 8, 8, 11, 12, 6, 8, 12, 14, 10, 13, 13, 15, 11, 4, 9, 9, 13, 13, 9, 13, 12, 14, 7, 13, 11, 13, 18, 9, 12, 12, 6, 13, 9, 14, 12, 16, 13, 13, 12, 14, 12, 8, 9, 8, 7, 4, 10, 10, 11, 7, 8, 10, 15, 15, 12, 14, 9, 13, 18, 17, 15, 8, 7, 8, 7, 10, 7, 10, 9, 14, 7, 10, 9, 3, 6, 14, 11, 12, 12, 10, 6, 8, 8, 11, 12, 7, 7, 7, 13, 12, 14, 12, 13, 9, 8, 15, 11, 20, 14, 13, 9, 9, 15, 15, 10, 9, 10, 19, 10, 16, 13, 11, 9, 18, 7, 9, 10, 10, 6, 11, 13, 15, 20, 14, 10, 5, 12, 9, 13, 12, 7, 8, 11, 6, 6, 11, 4, 12, 12, 13, 14, 10, 18, 8, 13, 5, 9, 11, 14, 8, 14, 13, 6, 3, 10, 14, 14, 11, 13, 12, 10, 7, 14, 9, 20, 10, 23, 10, 16, 13, 9, 14, 15, 10, 16, 13, 17, 10, 9, 11, 8, 13, 10, 10, 10, 11, 5, 14, 14, 20, 21, 5, 8, 8, 9, 9, 10, 12, 8, 6, 10, 8, 10, 9, 9, 7, 7, 12, 7, 12, 7, 9, 17, 10, 10, 4, 12, 13, 8, 8, 6, 11, 9, 9, 7, 15, 9, 16, 7, 12, 9, 12, 14, 15, 9, 7, 11, 13, 15, 12, 13, 12, 13, 11, 13, 12, 14, 9, 10, 10, 12, 7, 15, 12, 16, 14, 16, 15, 11, 18, 10, 14, 17, 12, 9, 8, 11, 12, 8, 12, 11, 10, 18, 12, 13, 7, 10, 7, 16, 12, 12, 19, 9, 11, 6, 12, 9, 9, 20, 14, 13, 12, 13, 15, 15, 11, 16, 17, 12, 14, 16, 11, 10, 11, 13, 8, 7, 15, 7, 13, 10, 18, 11, 14, 11, 12, 8, 10, 15, 17, 6, 11, 8, 12, 7, 8, 6, 9, 7, 6, 11, 14, 10, 11, 9, 11, 10, 14, 10, 7, 5, 6, 9, 9, 10, 6, 9, 11, 7, 12, 16, 10, 19, 4, 9, 10, 8, 12, 7, 24, 14, 9, 8, 14, 16, 17, 13, 9, 13, 6, 13, 7, 12, 6, 7, 8, 6, 10, 11, 10, 9, 7, 13, 20, 17, 11, 15, 3, 7, 11, 6, 7, 10, 12, 14, 9, 10, 11, 15, 17, 14, 7, 12, 7, 9, 8, 7, 9, 16, 12, 9, 14, 11, 14, 9, 15, 11, 5, 18, 10, 8, 9, 10, 13, 15, 11, 8, 11, 12, 12, 11, 9, 6, 8, 11, 10, 7, 7, 11, 7, 10, 8, 11, 15, 18, 17, 12, 8, 18, 15, 15, 14, 6, 8, 12, 8, 8, 15, 10, 12, 9, 6, 6, 12, 3, 6, 10, 7, 10, 16, 8, 7, 14, 14, 21, 11, 15, 10, 17, 7, 11, 12, 12, 14, 9, 9, 11, 9, 7, 7, 19, 10, 7, 12, 10, 10, 8, 15, 8, 11, 11, 13, 11, 17, 8, 13, 8, 10, 14, 14, 11, 9, 9, 10, 10, 10, 16, 11, 11, 15, 18, 9, 9, 14, 11, 14, 9, 15, 5, 6, 13, 13, 7, 10, 9, 8, 4, 15, 16, 13, 16, 19, 13, 18, 9, 10, 6, 10, 10, 11, 8, 10, 14, 19, 10, 12, 14, 6, 15, 7, 12, 12, 25, 10, 8, 7, 17, 3, 13, 3, 12, 8, 15, 14, 7, 9, 16, 10, 6, 13, 10, 20, 11, 8, 9, 5, 10, 10, 11, 16, 11, 12, 18, 17, 12, 11, 9, 17, 11, 13, 12, 13, 18, 11, 7, 8, 6, 17, 12, 9, 11, 12, 6, 10, 10, 6, 10, 15, 11, 10, 11, 12, 10, 9, 11, 11, 8, 18, 6, 11, 11, 8, 20, 7, 11, 8, 16, 11, 12, 5, 10, 12, 9, 12, 10, 10, 20, 13, 11, 10, 17, 10, 19, 6, 11, 11, 6, 12, 10, 21, 5, 3, 12, 7, 8, 7, 7, 13, 10, 14, 20, 15, 10, 16, 10, 9, 11, 12, 8, 9, 13, 13, 9, 16, 10, 12, 20, 19, 13, 11, 5, 10, 15, 13, 16, 18, 13, 11, 15, 20, 8, 6, 12, 11, 14, 7, 10, 10, 8, 9, 13, 10, 13, 9, 16, 9, 7, 7, 15, 14, 12, 7, 16, 12, 10, 9, 11, 12, 10, 7, 10, 6, 7, 12, 11, 9, 14, 17, 9, 12, 10, 17, 3, 11, 11, 13, 10, 11, 11, 6, 12, 8, 8, 8, 10, 8, 12, 10, 11, 13, 12, 9, 13, 24, 17, 20, 15, 10, 9, 13, 12, 8, 7, 17, 13, 13, 6, 9, 6, 11, 9, 14, 14, 14, 15, 10, 12, 24, 10, 9, 8, 15, 16, 8, 9, 11, 17, 13, 15, 14, 13, 16, 16, 14, 10, 11, 12, 11, 14, 13, 10, 10, 15, 13, 13, 12, 11, 13, 8, 13, 14, 11, 4, 14, 8, 10, 12, 16, 13, 15, 17, 8, 13, 11, 11, 11, 8, 16, 14, 10, 4, 10, 11, 10, 10, 15, 12, 4, 12, 6, 14, 6, 8, 11, 6, 18, 5, 11, 7, 7, 8, 7, 6, 7, 11, 7, 13, 13, 12, 6, 8, 14, 15, 6, 7, 6, 7, 10, 12, 10, 9, 6, 12, 9, 17, 9, 7, 9, 13, 11, 13, 15, 14, 13, 9, 7, 7, 11, 19, 19, 12, 11, 10, 9, 8, 9, 16, 6, 12, 5, 16, 9, 5, 9, 17, 9, 7, 5, 9, 8, 8, 10, 15, 18, 13, 12, 13, 15, 9, 13, 10, 5, 22, 21, 17, 9, 8, 11, 15, 9, 10, 8, 8, 7, 9, 12, 12, 16, 13, 13, 6, 14, 13, 12, 7, 11, 13, 7, 3, 13, 10, 14, 12, 11, 17, 10, 15, 6, 16, 6, 9, 19, 11, 13, 11, 6, 11, 9, 13, 10, 9, 8, 12, 6, 13, 13, 8, 12, 16, 8, 10, 4, 11, 6, 10, 10, 5, 14, 18, 9, 10, 11, 15, 7, 14, 11, 11, 11, 8, 18, 4, 11, 18, 14, 11, 8, 15, 17, 14, 17, 13, 15, 12, 14, 13, 14, 13, 9, 13, 10, 6, 7, 10, 10, 12, 8, 8, 19, 6, 19, 10, 12, 11, 14, 14, 9, 7, 16, 10, 6, 13, 13, 14, 16, 10, 9, 8, 13, 11, 10, 6, 12, 17, 9, 11, 20, 10, 9, 8, 15, 10, 3, 26, 9, 8, 11, 12, 11, 9, 17, 15, 9, 11, 15, 10, 9, 12, 7, 10, 14, 11, 7, 8, 11, 17, 11, 8, 13, 13, 14, 11, 16, 13, 11, 6, 9, 9, 15, 13, 14, 16, 8, 13, 11, 6, 11, 9, 10, 12, 9, 6, 5, 14, 15, 12, 9, 15, 9, 14, 8, 10, 10, 9, 11, 17, 15, 12, 8, 7, 8, 9, 7, 17, 7, 10, 12, 11, 13, 9, 8, 12, 16, 9, 10, 10, 15, 8, 10, 5, 10, 16, 8, 13, 17, 13, 7, 7, 7, 11, 12, 11, 10, 17, 16, 18, 13, 11, 16, 12, 14, 19, 6, 9, 11, 10, 11, 13, 12, 10, 16, 14, 12, 12, 8, 11, 16, 6, 16, 6, 10, 13, 18, 9, 11, 14, 5, 9, 14, 8, 11, 13, 16, 16, 14, 13, 12, 12, 12, 12, 20, 12, 13, 13, 15, 13, 13, 7, 8, 6, 10, 11, 9, 9, 8, 16, 9, 9, 9, 9, 7, 12, 9, 16, 11, 13, 10, 10, 8, 13, 11, 7, 13, 14, 13, 12, 5, 9, 10, 14, 18, 15, 4, 15, 6, 11, 9, 15, 8, 10, 3, 5, 6, 12, 15, 10, 14, 10, 13, 6, 11, 8, 9, 13, 5, 13, 7, 8, 13, 17, 11, 12, 13, 11, 7, 9, 9, 11, 10, 8, 16, 10, 7, 8, 13, 23, 18, 3, 10, 13, 11, 5, 11, 9, 16, 11, 15, 8, 11, 20, 15, 17, 10, 9, 12, 9, 15, 10, 13, 12, 8, 9, 8, 17, 10, 11, 15, 14, 9, 18, 14, 16, 17, 10, 10, 14, 14, 10, 5, 7, 15, 11, 10, 20, 5, 9, 7, 15, 11, 10, 9, 12, 9, 12, 7, 7, 9, 12, 15, 11, 12, 11, 18, 8, 9, 8, 10, 15, 16, 11, 15, 13, 14, 12, 10, 17, 9, 13, 5, 14, 14, 13, 12, 10, 10, 10, 10, 19, 13, 6, 8, 9, 8, 17, 12, 9, 19, 9, 7, 9, 9, 8, 11, 10, 9, 9, 5, 21, 11, 11, 17, 16, 18, 17, 10, 14, 6, 9, 8, 8, 10, 12, 11, 16, 9, 12, 13, 7, 9, 8, 7, 8, 9, 11, 12, 16, 16, 12, 7, 15, 7, 11, 11, 18, 5, 12, 14, 11, 13, 18, 10, 7, 9, 15, 13, 8, 8, 13, 8, 12, 16, 18, 10, 11, 8, 10, 12, 9, 13, 7, 16, 11, 10, 6, 23, 11, 10, 12, 15, 9, 16, 12, 9, 11, 14, 13, 17, 10, 8, 18, 10, 15, 7, 10, 6, 10, 13, 16, 11, 19, 13, 12, 15, 15, 7, 16, 9, 11, 10, 13, 11, 8, 11, 11, 15, 10, 15, 15, 9, 7, 6, 11, 9, 12, 11, 12, 11, 10, 9, 12, 9, 14, 13, 9, 11, 7, 13, 13, 11, 12, 12, 12, 13, 13, 10, 10, 10, 8, 8, 8, 10, 7, 10, 13, 14, 17, 9, 7, 14, 10, 13, 12, 11, 17, 12, 18, 3, 14, 16, 7, 8, 11, 12, 8, 11, 10, 9, 21, 6, 11, 18, 17, 14, 8, 13, 6, 16, 16, 14, 7, 9, 17, 12, 21, 11, 20, 13, 13, 11, 10, 11, 12, 17, 10, 10, 6, 11, 19, 7, 8, 12, 14, 8, 13, 20, 17, 12, 11, 5, 11, 13, 10, 6, 20, 13, 17, 9, 17, 19, 11, 8, 12, 9, 17, 12, 6, 12, 16, 11, 15, 11, 13, 10, 8, 10, 13, 16, 12, 9, 12, 16, 9, 10, 18, 13, 9, 7, 12, 11, 9, 11, 4, 4, 14, 12, 15, 12, 6, 8, 12, 3, 12, 7, 13, 14, 12, 13, 13, 11, 19, 17, 12, 12, 10, 9, 12, 11, 7, 8, 12, 13, 16, 7, 13, 3, 9, 15, 4, 15, 18, 14, 13, 7, 7, 6, 8, 9, 8, 8, 11, 12, 8, 10, 11, 10, 14, 11, 17, 11, 12, 16, 18, 9, 13, 12, 8, 9, 5, 10, 9, 15, 12, 11, 16, 17, 8, 9, 16, 8, 10, 12, 12, 15, 7, 15, 7, 17, 11, 18, 18, 20, 12, 9, 15, 8, 10, 9, 14, 6, 8, 11, 8, 6, 20, 17, 12, 7, 11, 8, 9, 8, 7, 7, 9, 8, 8, 8, 7, 12, 22, 23, 14, 8, 12, 12, 12, 13, 18, 11, 23, 13, 12, 19, 14, 15, 14, 15, 13, 7, 9, 8, 7, 7, 17, 9, 12, 11, 11, 17, 20, 10, 11, 6, 9, 13, 12, 13, 14, 12, 13, 14, 10, 8, 12, 16, 6, 7, 9, 8, 15, 7, 9, 11, 9, 16, 8, 14, 12, 8, 15, 9, 7, 14, 8, 10, 21, 7, 10, 15, 10, 4, 3, 8, 8, 8, 11, 8, 10, 15, 20, 10, 13, 13, 14, 9, 9, 13, 14, 11, 11, 5, 10, 5, 6, 7, 8, 9, 9, 17, 7, 11, 20, 7, 13, 12, 10, 16, 10, 7, 10, 7, 13, 7, 18, 15, 11, 13, 12, 7, 7, 13, 15, 10, 14, 10, 15, 7, 16, 11, 16, 13, 11, 12, 11, 11, 11, 9, 19, 22, 19, 10, 8, 17, 17, 18, 13, 8, 11, 17, 6, 17, 13, 11, 13, 6, 8, 12, 7, 13, 10, 22, 7, 10, 12, 9, 12, 11, 10, 15, 11, 11, 11, 12, 8, 10, 7, 9, 14, 12, 15, 10, 22, 12, 10, 15, 13, 4, 16, 8, 9, 9, 5, 13, 5, 16, 11, 10, 9, 11, 9, 10, 12, 15, 18, 18, 15, 12, 15, 8, 10, 8, 18, 6, 7, 13, 9, 12, 12, 11, 8, 7, 12, 7, 11, 12, 14, 16, 13, 11, 12, 11, 14, 8, 10, 13, 7, 11, 7, 11, 10, 13, 12, 7, 10, 8, 15, 14, 13, 7, 12, 11, 12, 13, 10, 11, 10, 10, 8, 12, 15, 6, 11, 20, 8, 18, 11, 10, 9, 14, 17, 16, 8, 8, 12, 13, 9, 9, 11, 16, 18, 19, 18, 10, 6, 6, 11, 5, 6, 11, 12, 11, 9, 10, 13, 12, 8, 10, 13, 13, 11, 8, 18, 11, 9, 11, 10, 9, 8, 11, 4, 10, 12, 5, 6, 12, 9, 9, 8, 9, 14, 3, 12, 17, 3, 13, 8, 8, 10, 13, 9, 11, 15, 12, 8, 11, 8, 11, 8, 9, 14, 12, 17, 9, 7, 10, 10, 9, 14, 12, 13, 10, 7, 8, 15, 11, 12, 10, 16, 12, 8, 14, 10, 9, 9, 7, 9, 11, 7, 11, 15, 20, 10, 7, 10, 17, 11, 8, 9, 9, 14, 11, 7, 12, 9, 13, 10, 10, 8, 12, 13, 14, 14, 11, 13, 13, 13, 8, 14, 8, 15, 15, 6, 14, 13, 14, 6, 10, 14, 12, 10, 15, 15, 16, 16, 14, 11, 10, 13, 8, 10, 24, 14, 11, 12, 14, 10, 17, 9, 9, 8, 7, 8, 12, 11, 20, 16, 9, 13, 8, 9, 15, 14, 9, 12, 14, 7, 13, 10, 12, 10, 10, 8, 8, 8, 12, 13, 8, 10, 13, 4, 7, 10, 10, 17, 10, 17, 5, 18, 7, 11, 10, 12, 9, 7, 7, 22, 10, 9, 11, 11, 14, 12, 3, 11, 15, 11, 16, 12, 20, 13, 11, 13, 12, 14, 9, 17, 12, 12, 11, 19, 14, 10, 12, 15, 8, 9, 8, 2, 11, 7, 12, 8, 12, 12, 8, 11, 14, 11, 10, 11, 9, 12, 16, 17, 16, 10, 10, 14, 15, 16, 12, 9, 16, 13, 12, 11, 7, 15, 16, 8, 11, 16, 16, 9, 10, 16, 10, 12, 15, 11, 14, 14, 11, 10, 19, 14, 16, 17, 4, 8, 3, 8, 8, 10, 10, 7, 7, 9, 9, 14, 14, 5, 3, 20, 7, 20, 11, 12, 5, 9, 8, 18, 6, 12, 8, 4, 7, 7, 14, 11, 8, 11, 16, 12, 8, 16, 9, 12, 12, 10, 8, 11, 9, 26, 9, 10, 8, 10, 16, 10, 10, 15, 15, 15, 8, 7, 10, 12, 15, 14, 10, 15, 7, 11, 19, 8, 12, 8, 11, 6, 12, 7, 12, 31, 17, 21, 13, 13, 9, 11, 10, 12, 13, 11, 22, 11, 7, 20, 12, 10, 12, 6, 22, 11, 7, 14, 9, 9, 6, 17, 10, 9, 18, 13, 10, 6, 8, 5, 14, 7, 7, 5, 9, 3, 9, 7, 11, 18, 11, 15, 12, 7, 10, 18, 8, 6, 23, 11, 7, 9, 9, 10, 15, 10, 10, 8, 9, 8, 17, 22, 8, 6, 7, 13, 12, 13, 11, 15, 16, 11, 13, 14, 7, 11, 14, 11, 12, 8, 18, 19, 9, 6, 16, 18, 9, 13, 14, 6, 14, 7, 9, 18, 16, 13, 8, 12, 11, 9, 12, 7, 8, 6, 10, 10, 12, 8, 12, 12, 13, 13, 8, 11, 14, 17, 13, 10, 8, 8, 7, 13, 9, 7, 8, 24, 19, 17, 21, 13, 27, 19, 18, 15, 20, 13, 12, 7, 12, 6, 11, 9, 13, 8, 10, 13, 14, 7, 11, 17, 7, 7, 15, 7, 13, 9, 14, 9, 16, 14, 16, 12, 12, 10, 17, 12, 14, 9, 10, 9, 11, 15, 7, 13, 10, 9, 13, 5, 5, 9, 8, 14, 14, 17, 11, 10, 8, 10, 10, 11, 8, 14, 8, 13, 9, 15, 7, 8, 16, 4, 9, 8, 10, 8, 10, 11, 8, 8, 10, 14, 17, 14, 13, 21, 8, 15, 10, 8, 15, 12, 13, 11, 13, 20, 8, 16, 9, 15, 8, 11, 13, 9, 10, 13, 12, 10, 8, 13, 8, 8, 15, 20, 12, 9, 8, 14, 12, 13, 11, 8, 9, 13, 4, 11, 22, 12, 13, 8, 7, 9, 17, 15, 9, 9, 13, 17, 12, 8, 11, 13, 15, 10, 12, 11, 13, 14, 5, 5, 18, 7, 11, 10, 15, 14, 12, 15, 11, 11, 9, 10, 14, 19, 17, 9, 11, 11, 7, 8, 5, 11, 6, 13, 15, 10, 5, 18, 12, 14, 6, 20, 13, 8, 11, 10, 8, 12, 8, 13, 12, 11, 15, 12, 12, 6, 8, 13, 4, 8, 16, 8, 11, 7, 8, 7, 9, 12, 9, 9, 15, 13, 11, 14, 21, 7, 12, 16, 15, 13, 16, 10, 15, 11, 9, 9, 11, 4, 9, 12, 14, 27, 14, 15, 3, 12, 13, 10, 10, 13, 10, 9, 12, 18, 11, 13, 4, 7, 11, 15, 5, 14, 10, 11, 8, 10, 10, 7, 10, 10, 8, 6, 9, 5, 11, 9, 9, 10, 9, 7, 8, 9, 19, 18, 12, 20, 11, 11, 10, 12, 10, 8, 10, 10, 14, 9, 11, 13, 7, 9, 9, 14, 7, 12, 10, 11, 9, 14, 12, 7, 10, 9, 11, 11, 9, 12, 12, 9, 16, 12, 9, 8, 22, 12, 8, 7, 8, 10, 13, 17, 13, 9, 18, 11, 18, 15, 15, 15, 10, 9, 9, 12, 9, 14, 17, 11, 12, 14, 5, 11, 10, 14, 9, 7, 11, 15, 13, 19, 16, 14, 5, 7, 11, 11, 8, 8, 18, 7, 11, 19, 12, 11, 9, 15, 8, 5, 11, 18, 5, 9, 7, 11, 17, 16, 19, 11, 7, 9, 10, 7, 19, 10, 16, 16, 19, 16, 9, 16, 16, 19, 7, 17, 13, 10, 9, 10, 12, 9, 5, 8, 8, 9, 15, 17, 18, 25, 19, 13, 6, 8, 19, 16, 13, 11, 12, 7, 15, 11, 11, 11, 9, 15, 10, 11, 16, 13, 19, 14, 9, 10, 13, 9, 11, 9, 13, 15, 20, 11, 12, 10, 13, 7, 25, 13, 10, 11, 15, 12, 9, 11, 18, 9, 14, 8, 12, 20, 9, 5, 9, 9, 7, 10, 9, 8, 12, 9, 15, 7, 15, 13, 11, 20, 10, 10, 12, 10, 5, 7, 18, 7, 10, 8, 8, 14, 11, 9, 13, 10, 13, 10, 10, 12, 16, 13, 7, 11, 16, 16, 9, 13, 12, 7, 12, 15, 7, 8, 15, 11, 13, 21, 16, 8, 15, 6, 7, 10, 10, 16, 18, 20, 11, 14, 20, 12, 10, 13, 5, 11, 18, 13, 14, 14, 20, 14, 11, 9, 24, 9, 8, 7, 7, 11, 12, 8, 10, 13, 7, 10, 13, 7, 7, 11, 18, 9, 17, 11, 14, 8, 10, 11, 15, 13, 7, 11, 11, 10, 14, 9, 6, 7, 17, 12, 4, 7, 7, 10, 13, 14, 12, 11, 15, 11, 10, 6, 7, 8, 7, 7, 5, 14, 10, 10, 12, 9, 7, 9, 6, 9, 9, 14, 9, 13, 8, 16, 20, 18, 15, 11, 14, 17, 15, 13, 15, 14, 11, 6, 15, 6, 9, 12, 15, 16, 9, 8, 14, 4, 8, 13, 10, 14, 14, 13, 11, 17, 8, 6, 17, 11, 7, 12, 8, 6, 11, 14, 12, 9, 14, 10, 14, 8, 6, 16, 12, 14, 9, 6, 6, 11, 14, 12, 14, 12, 16, 14, 6, 12, 10, 10, 12, 11, 8, 12, 15, 10, 9, 11, 15, 10, 10, 14, 9, 10, 13, 11, 7, 8, 15, 9, 7, 12, 8, 9, 16, 13, 15, 13, 9, 17, 13, 12, 10, 14, 10, 17, 15, 12, 12, 15, 11, 15, 30, 16, 12, 9, 13, 10, 10, 14, 9, 9, 8, 11, 11, 9, 8, 8, 8, 10, 7, 10, 9, 14, 9, 11, 12, 18, 11, 16, 9, 6, 7, 13, 13, 16, 7, 10, 15, 11, 9, 8, 10, 10, 11, 6, 12, 7, 21, 16, 11, 7, 9, 11, 9, 12, 7, 11, 13, 12, 14, 17, 12, 14, 8, 9, 11, 10, 8, 17, 9, 15, 20, 10, 11, 11, 8, 8, 9, 17, 11, 4, 8, 8, 11, 14, 15, 12, 10, 11, 20, 13, 6, 8, 15, 14, 10, 19, 7, 11, 11, 9, 13, 14, 17, 16, 13, 13, 18, 16, 10, 15, 15, 11, 10, 14, 11, 9, 10, 17, 17, 15, 18, 15, 11, 11, 14, 8, 16, 12, 10, 8, 3, 14, 9, 11, 11, 10, 12, 9, 9, 8, 22, 14, 10, 8, 10, 17, 18, 7, 3, 8, 13, 11, 12, 7, 7, 7, 11, 10, 12, 8, 10, 10, 6, 7, 11, 15, 13, 10, 11, 11, 8, 14, 10, 9, 13, 6, 11, 9, 15, 14, 10, 11, 7, 14, 19, 3, 12, 9, 17, 9, 12, 9, 12, 14, 6, 10, 15, 15, 11, 15, 8, 9, 18, 14, 10, 13, 18, 13, 8, 8, 10, 9, 13, 9, 13, 13, 11, 10, 17, 9, 15, 13, 13, 17, 15, 13, 15, 14, 9, 9, 5, 6, 11, 11, 11, 14, 11, 16, 8, 16, 11, 5, 15, 22, 13, 14, 7, 14, 5, 5, 10, 8, 13, 15, 14, 7, 7, 18, 18, 11, 8, 9, 12, 7, 6, 8, 12, 17, 12, 10, 16, 13, 8, 16, 11, 10, 11, 6, 12, 11, 11, 8, 11, 9, 13, 17, 9, 13, 12, 11, 14, 11, 16, 13, 13, 17, 12, 19, 5, 11, 7, 9, 14, 10, 7, 11, 8, 15, 13, 20, 20, 6, 17, 6, 14, 5, 14, 12, 13, 23, 6, 17, 8, 10, 9, 15, 9, 16, 12, 21, 8, 9, 13, 12, 11, 11, 16, 11, 3, 17, 11, 13, 11, 11, 15, 8, 10, 9, 11, 15, 17, 12, 15, 14, 10, 11, 16, 6, 7, 7, 7, 8, 10, 11, 11, 11, 10, 7, 12, 14, 8, 16, 24, 17, 13, 10, 16, 15, 6, 9, 5, 14, 10, 13, 14, 18, 9, 19, 12, 4, 9, 9, 16, 10, 13, 9, 9, 9, 13, 9, 11, 7, 11, 7, 11, 16, 9, 12, 17, 18, 10, 6, 8, 16, 16, 4, 15, 14, 14, 10, 13, 19, 10, 13, 5, 16, 7, 7, 13, 9, 10, 12, 10, 16, 14, 8, 10, 10, 11, 6, 7, 10, 7, 9, 16, 11, 8, 12, 10, 8, 13, 11, 12, 13, 9, 10, 10, 8, 11, 12, 8, 8, 9, 10, 6, 9, 12, 6, 9, 16, 16, 9, 16, 7, 10, 8, 8, 3, 9, 11, 8, 9, 16, 8, 13, 12, 13, 9, 11, 7, 12, 15, 10, 15, 16, 12, 15, 12, 13, 15, 14, 8, 8, 11, 14, 11, 7, 10, 7, 6, 9, 8, 14, 7, 14, 13, 9, 16, 10, 13, 10, 13, 7, 18, 13, 16, 7, 15, 14, 10, 8, 14, 10, 13, 18, 10, 8, 16, 14, 10, 11, 9, 9, 11, 7, 8, 7, 11, 12, 15, 5, 9, 9, 10, 10, 9, 18, 6, 8, 10, 6, 8, 17, 7, 17, 9, 12, 12, 12, 13, 3, 6, 9, 13, 5, 12, 11, 13, 10, 11, 8, 18, 11, 8, 8, 12, 12, 8, 9, 10, 12, 12, 10, 12, 15, 10, 6, 17, 13, 13, 11, 7, 8, 9, 9, 8, 11, 17, 9, 4, 9, 9, 11, 7, 17, 12, 14, 7, 12, 14, 7, 9, 19, 12, 15, 13, 10, 12, 16, 8, 10, 10, 13, 9, 5, 19, 6, 12, 17, 7, 11, 12, 18, 4, 3, 7, 16, 7, 17, 5, 7, 12, 9, 12, 6, 10, 10, 10, 11, 3, 9, 14, 6, 7, 12, 15, 12, 13, 11, 10, 17, 22, 24, 7, 18, 8, 13, 12, 15, 18, 7, 20, 12, 9, 14, 11, 15, 16, 3, 5, 11, 11, 15, 15, 6, 10, 8, 13, 11, 7, 11, 18, 13, 12, 17, 13, 10, 9, 14, 12, 7, 23, 3, 11, 19, 16, 18, 11, 7, 7, 13, 5, 9, 11, 9, 7, 10, 12, 8, 15, 8, 11, 12, 9, 13, 9, 12, 10, 12, 8, 11, 12, 14, 19, 15, 3, 18, 16, 15, 22, 6, 18, 26, 3, 7, 7, 18, 12, 8, 15, 9, 8, 19, 6, 7, 15, 13, 12, 7, 12, 14, 15, 14, 18, 17, 8, 12, 9, 7, 9, 6, 18, 7, 10, 11, 10, 14, 15, 13, 17, 32, 24, 11, 3, 10, 16, 5, 7, 12, 9, 9, 14, 6, 7, 10, 19, 8, 7, 9, 7, 11, 7, 14, 17, 10, 9, 7, 13, 12, 11, 7, 11, 14, 7, 16, 8, 7, 12, 17, 22, 14, 9, 9, 8, 7, 5, 10, 13, 25, 13, 11, 9, 11, 14, 10, 12, 10, 10, 15, 12, 9, 5, 10, 13, 10, 8, 10, 7, 7, 11, 9, 9, 10, 26, 11, 13, 9, 13, 5, 18, 7, 8, 17, 7, 9, 17, 14, 7, 6, 20, 15, 14, 19, 10, 8, 8, 12, 4, 8, 9, 8, 11, 16, 9, 16, 21, 14, 15, 16, 22, 15, 16, 13, 9, 9, 8, 11, 19, 5, 13, 15, 11, 18, 12, 13, 17, 13, 12, 10, 11, 13, 15, 17, 11, 3, 11, 6, 14, 14, 10, 14, 10, 7, 8, 9, 16, 17, 9, 10, 10, 14, 7, 8, 9, 13, 10, 8, 9, 8, 9, 17, 13, 10, 10, 7, 13, 14, 19, 14, 10, 12, 12, 14, 11, 12, 4, 15, 15, 14, 13, 7, 9, 13, 12, 10, 16, 7, 8, 18, 8, 8, 3, 9, 16, 15, 12, 15, 19, 14, 17, 6, 11, 14, 9, 13, 8, 6, 11, 14, 8, 7, 11, 14, 16, 18, 19, 8, 18, 11, 8, 7, 6, 9, 9, 9, 3, 8, 8, 11, 6, 7, 11, 12, 12, 20, 5, 7, 8, 11, 10, 10, 9, 14, 9, 8, 8, 24, 6, 9, 13, 17, 11, 12, 18, 10, 8, 10, 11, 9, 9, 14, 10, 12, 11, 14, 10, 6, 12, 14, 14, 11, 10, 9, 3, 7, 11, 9, 15, 11, 8, 16, 10, 11, 14, 14, 17, 10, 5, 6, 7, 12, 10, 8, 7, 11, 12, 13, 16, 3, 6, 11, 6, 17, 10, 16, 8, 7, 4, 10, 10, 7, 12, 15, 14, 17, 7, 10, 15, 9, 18, 7, 13, 12, 3, 6, 9, 9, 12, 10, 14, 10, 8, 11, 10, 8, 8, 6, 19, 14, 11, 3, 10, 14, 13, 13, 7, 10, 5, 7, 10, 10, 14, 9, 9, 8, 9, 10, 17, 11, 19, 21, 15, 15, 10, 10, 10, 21, 11, 13, 17, 17, 7, 10, 10, 11, 14, 17, 9, 12, 9, 10, 15, 17, 16, 9, 15, 8, 17, 13, 13, 10, 16, 11, 9, 11, 8, 15, 13, 12, 15, 10, 12, 15, 14, 27, 14, 13, 15, 6, 5, 4, 7, 9, 6, 12, 9, 7, 11, 7, 8, 11, 13, 9, 11, 24, 15, 15, 11, 9, 14, 15, 9, 16, 11, 8, 20, 7, 12, 14, 13, 12, 10, 11, 14, 12, 12, 10, 13, 12, 9, 11, 8, 15, 16, 17, 8, 5, 17, 9, 17, 18, 18, 19, 11, 10, 12, 12, 14, 6, 5, 9, 4, 13, 14, 8, 7, 8, 13, 7, 10, 9, 15, 12, 11, 11, 8, 9, 9, 16, 9, 12, 11, 9, 13, 7, 11, 10, 10, 15, 4, 14, 7, 11, 10, 13, 10, 12, 12, 15, 15, 10, 11, 11, 16, 13, 15, 10, 10, 5, 11, 9, 12, 11, 6, 9, 6, 9, 11, 7, 10, 11, 13, 14, 14, 12, 17, 12, 11, 18, 8, 14, 12, 18, 16, 15, 10, 24, 11, 10, 25, 6, 11, 9, 7, 4, 18, 11, 20, 16, 9, 8, 13, 16, 14, 10, 13, 8, 18, 11, 17, 12, 21, 15, 16, 17, 20, 16, 15, 9, 12, 13, 16, 16, 8, 7, 21, 16, 15, 9, 19, 14, 14, 14, 14, 15, 7, 10, 6, 7, 9, 10, 10, 6, 7, 7, 6, 11, 10, 13, 18, 7, 12, 11, 5, 12, 9, 12, 6, 7, 8, 12, 11, 10, 8, 7, 10, 8, 12, 12, 11, 12, 8, 24, 17, 12, 14, 14, 13, 11, 17, 11, 14, 10, 13, 15, 14, 13, 9, 13, 12, 14, 9, 9, 8, 16, 15, 3, 12, 13, 13, 16, 14, 4, 17, 16, 8, 9, 18, 13, 13, 9, 10, 14, 15, 10, 14, 24, 14, 8, 15, 24, 7, 15, 6, 9, 11, 8, 10, 11, 11, 5, 8, 12, 13, 9, 18, 15, 10, 11, 8, 8, 9, 13, 6, 11, 13, 14, 7, 14, 12, 13, 9, 8, 24, 19, 6, 18, 4, 9, 6, 8, 7, 17, 10, 14, 9, 15, 18, 11, 10, 10, 21, 15, 10, 13, 12, 9, 13, 17, 8, 10, 16, 9, 14, 14, 10, 20, 8, 12, 10, 7, 7, 12, 9, 15, 12, 11, 26, 15, 12, 10, 14, 9, 16, 11, 6, 9, 12, 14, 13, 12, 12, 6, 11, 13, 12, 13, 9, 13, 12, 12, 9, 9, 9, 15, 9, 10, 14, 17, 20, 26, 8, 26, 18, 9, 10, 9, 9, 7, 10, 14, 11, 14, 10, 13, 9, 9, 8, 6, 9, 13, 9, 14, 11, 21, 16, 12, 10, 9, 11, 9, 12, 8, 6, 7, 7, 7, 10, 12, 5, 15, 13, 12, 10, 9, 11, 4, 5, 12, 14, 7, 11, 9, 7, 6, 6, 11, 15, 8, 9, 12, 9, 8, 13, 12, 13, 12, 12, 11, 14, 17, 12, 16, 11, 13, 14, 9, 8, 13, 8, 16, 10, 12, 9, 12, 8, 10, 19, 15, 14, 8, 12, 17, 10, 4, 9, 15, 15, 11, 13, 27, 14, 15, 16, 10, 16, 10, 6, 9, 10, 14, 11, 15, 10, 11, 7, 5, 10, 10, 12, 18, 3, 17, 9, 8, 11, 7, 12, 8, 10, 14, 17, 16, 8, 6, 9, 12, 13, 12, 20, 14, 10, 19, 14, 13, 21, 10, 12, 15, 16, 7, 13, 13, 14, 11, 8, 9, 11, 8, 7, 10, 10, 7, 11, 7, 5, 11, 14, 13, 13, 8, 8, 11, 9, 11, 6, 9, 16, 13, 10, 15, 15, 8, 16, 11, 16, 12, 10, 12, 10, 10, 14, 11, 14, 13, 14, 10, 10, 9, 11, 13, 11, 16, 12, 16, 8, 10, 12, 15, 16, 12, 11, 7, 8, 7, 8, 5, 12, 11, 11, 9, 10, 13, 9, 11, 12, 9, 13, 10, 24, 16, 12, 8, 14, 12, 11, 10, 22, 10, 15, 12, 15, 7, 14, 9, 7, 11, 12, 6, 13, 14, 8, 15, 3, 13, 16, 14, 7, 9, 7, 10, 10, 19, 20, 6, 11, 8, 12, 12, 11, 9, 9, 22, 8, 6, 7, 13, 20, 12, 9, 8, 10, 17, 14, 16, 12, 10, 12, 14, 13, 10, 11, 12, 11, 7, 8, 7, 9, 12, 10, 11, 14, 8, 7, 8, 11, 15, 7, 17, 10, 13, 11, 12, 15, 15, 9, 7, 11, 12, 9, 10, 10, 12, 8, 8, 12, 7, 11, 7, 11, 5, 11, 9, 6, 10, 7, 9, 6, 3, 12, 13, 13, 11, 7, 8, 16, 10, 12, 11, 8, 6, 11, 10, 20, 13, 6, 7, 11, 19, 11, 9, 10, 6, 10, 20, 9, 10, 9, 3, 7, 11, 6, 12, 15, 7, 9, 16, 9, 12, 16, 11, 8, 7, 12, 10, 15, 11, 9, 7, 16, 12, 10, 11, 8, 9, 8, 9, 21, 12, 13, 14, 15, 23, 8, 8, 11, 9, 11, 12, 16, 11, 14, 8, 7, 6, 13, 10, 16, 16, 12, 7, 13, 10, 8, 9, 9, 13, 12, 9, 24, 7, 14, 10, 11, 14, 11, 15, 14, 11, 14, 10, 11, 9, 14, 12, 18, 14, 7, 12, 11, 9, 3, 4, 16, 13, 10, 7, 10, 4, 9, 11, 3, 14, 9, 11, 12, 8, 12, 13, 13, 15, 13, 12, 9, 11, 14, 9, 5, 13, 10, 10, 10, 14, 9, 9, 14, 21, 14, 11, 12, 16, 24, 21, 13, 18, 9, 8, 11, 9, 10, 8, 8, 8, 11, 5, 9, 7, 9, 15, 9, 12, 15, 15, 14, 15, 15, 15, 8, 11, 13, 12, 12, 2, 15, 13, 9, 12, 15, 8, 8, 10, 11, 13, 12, 16, 15, 13, 16, 11, 11, 15, 7, 19, 16, 12, 10, 16, 14, 20, 27, 6, 15, 9, 13, 8, 8, 7, 17, 11, 10, 21, 15, 14, 18, 15, 28, 16, 12, 13, 9, 11, 11, 9, 6, 7, 8, 12, 15, 13, 15, 10, 8, 9, 10, 9, 11, 16, 9, 14, 13, 17, 11, 16, 9, 9, 11, 11, 8, 13, 11, 7, 9, 12, 3, 3, 13, 8, 20, 4, 9, 8, 10, 4, 11, 7, 6, 13, 11, 8, 7, 13, 12, 13, 12, 12, 12, 7, 14, 11, 7, 16, 16, 19, 6, 18, 17, 13, 14, 7, 12, 8, 11, 18, 6, 14, 11, 8, 13, 12, 11, 15, 15, 11, 11, 7, 11, 7, 8, 18, 8, 8, 9, 11, 14, 10, 6, 10, 7, 7, 11, 11, 7, 15, 5, 11, 5, 8, 12, 13, 11, 13, 12, 8, 11, 13, 8, 14, 19, 14, 9, 10, 7, 14, 9, 18, 4, 5, 9, 14, 14, 11, 11, 9, 11, 15, 6, 11, 20, 22, 9, 11, 12, 11, 11, 9, 12, 16, 8, 9, 12, 10, 10, 7, 13, 7, 5, 16, 10, 10, 7, 12, 9, 7, 12, 12, 13, 9, 15, 16, 16, 14, 7, 17, 15, 15, 10, 8, 22, 8, 17, 15, 7, 14, 11, 7, 5, 17, 13, 18, 11, 8, 4, 17, 12, 10, 9, 10, 8, 14, 13, 17, 12, 15, 9, 21, 14, 12, 17, 18, 17, 12, 17, 12, 17, 14, 9, 11, 18, 12, 15, 16, 14, 10, 19, 12, 15, 7, 11, 11, 11, 18, 14, 14, 11, 11, 6, 10, 16, 14, 19, 10, 16, 8, 8, 13, 8, 3, 12, 15, 9, 8, 8, 10, 15, 11, 13, 10, 8, 13, 13, 6, 11, 8, 7, 14, 20, 10, 16, 9, 11, 11, 11, 16, 7, 15, 10, 7, 22, 14, 10, 11, 12, 10, 12, 7, 10, 9, 8, 14, 12, 15, 19, 7, 7, 9, 11, 14, 7, 4, 12, 8, 8, 11, 14, 7, 9, 3, 9, 19, 17, 14, 10, 12, 23, 10, 7, 10, 11, 15, 13, 7, 12, 6, 13, 16, 9, 11, 9, 5, 9, 15, 6, 5, 14, 12, 14, 9, 7, 13, 16, 14, 19, 6, 11, 14, 10, 9, 20, 11, 10, 10, 12, 11, 11, 9, 4, 21, 6, 13, 13, 6, 11, 5, 9, 12, 16, 7, 16, 9, 7, 11, 12, 12, 7, 12, 13, 9, 14, 8, 6, 14, 11, 13, 11, 14, 8, 11, 10, 14, 9, 8, 6, 8, 11, 15, 11, 7, 15, 6, 7, 8, 13, 12, 7, 11, 21, 14, 9, 8, 6, 13, 12, 8, 10, 11, 12, 9, 17, 20, 10, 15, 8, 15, 17, 15, 8, 9, 11, 15, 12, 10, 9, 21, 9, 18, 10, 16, 28, 15, 13, 9, 6, 12, 7, 11, 8, 12, 12, 4, 7, 14, 10, 7, 13, 7, 16, 7, 7, 12, 18, 15, 10, 8, 15, 13, 11, 14, 7, 10, 9, 11, 11, 6, 15, 8, 14, 9, 11, 16, 11, 11, 23, 12, 10, 13, 5, 9, 11, 7, 9, 13, 10, 11, 15, 14, 13, 4, 13, 15, 17, 10, 7, 17, 12, 10, 6, 13, 7, 12, 9, 6, 17, 11, 17, 19, 4, 10, 17, 12, 3, 13, 9, 16, 5, 20, 8, 10, 21, 12, 15, 13, 12, 2, 13, 14, 9, 14, 12, 16, 13, 10, 9, 13, 9, 7, 10, 13, 14, 8, 14, 18, 11, 9, 11, 8, 14, 9, 15, 12, 10, 9, 13, 10, 11, 10, 8, 12, 11, 8, 18, 11, 8, 11, 6, 9, 8, 12, 16, 21, 21, 10, 7, 11, 14, 11, 10, 9, 14, 8, 12, 12, 12, 16, 14, 6, 8, 13, 9, 15, 13, 11, 12, 24, 10, 12, 6, 3, 15, 12, 10, 13, 8, 14, 9, 7, 9, 7, 12, 9, 13, 12, 9, 5, 6, 8, 13, 9, 8, 13, 17, 25, 15, 9, 13, 9, 22, 5, 8, 11, 11, 15, 9, 15, 12, 16, 16, 6, 6, 14, 10, 8, 4, 15, 8, 14, 13, 11, 14, 8, 7, 7, 20, 18, 13, 10, 8, 18, 18, 13, 7, 10, 8, 11, 15, 18, 13, 14, 17, 13, 9, 14, 14, 12, 12, 8, 15, 12, 11, 7, 10, 13, 10, 9, 12, 7, 8, 12, 10, 8, 11, 8, 10, 15, 9, 15, 14, 5, 14, 10, 8, 15, 17, 11, 13, 16, 11, 8, 7, 15, 5, 5, 14, 13, 13, 13, 10, 5, 11, 10, 10, 11, 15, 7, 11, 12, 9, 13, 9, 11, 11, 17, 9, 7, 7, 7, 11, 11, 14, 10, 11, 10, 11, 10, 10, 11, 11, 14, 9, 9, 13, 11, 10, 10, 11, 11, 10, 9, 9, 12, 18, 5, 12, 14, 10, 6, 12, 11, 10, 11, 9, 12, 9, 15, 14, 10, 14, 19, 11, 8, 8, 8, 11, 12, 13, 5, 20, 13, 11, 16, 9, 12, 18, 14, 5, 6, 9, 7, 15, 10, 7, 13, 10, 7, 10, 17, 13, 13, 12, 15, 10, 17, 11, 9, 9, 8, 7, 6, 13, 29, 18, 6, 9, 18, 13, 5, 3, 5, 13, 7, 5, 9, 14, 13, 8, 7, 8, 20, 10, 6, 10, 10, 15, 9, 14, 19, 6, 10, 11, 12, 18, 11, 15, 17, 10, 22, 8, 13, 10, 13, 7, 19, 9, 6, 8, 6, 13, 7, 14, 16, 8, 14, 13, 13, 15, 13, 13, 14, 10, 8, 7, 7, 8, 19, 11, 15, 10, 13, 8, 11, 6, 9, 7, 11, 6, 10, 12, 8, 10, 8, 7, 10, 8, 16, 12, 13, 15, 14, 10, 14, 10, 12, 10, 14, 12, 8, 12, 13, 17, 15, 17, 11, 17, 11, 12, 14, 9, 13, 16, 6, 9, 15, 15, 18, 17, 19, 10, 15, 10, 4, 7, 10, 13, 10, 9, 9, 15, 9, 13, 10, 12, 6, 12, 15, 9, 10, 10, 11, 12, 12, 13, 15, 12, 7, 14, 12, 15, 11, 14, 8, 10, 10, 11, 13, 12, 16, 7, 6, 10, 16, 16, 6, 11, 10, 7, 10, 9, 15, 10, 7, 13, 17, 11, 19, 8, 8, 7, 7, 10, 10, 7, 14, 8, 9, 12, 5, 7, 8, 16, 12, 15, 11, 19, 7, 7, 9, 12, 9, 13, 9, 12, 8, 6, 11, 11, 12, 17, 10, 14, 10, 7, 10, 9, 17, 10, 4, 11, 13, 9, 9, 9, 20, 13, 11, 13, 12, 5, 8, 7, 16, 10, 6, 9, 9, 10, 9, 8, 16, 16, 9, 12, 10, 8, 8, 12, 12, 12, 7, 4, 8, 8, 16, 14, 11, 16, 8, 12, 11, 9, 13, 9, 6, 8, 9, 8, 10, 9, 11, 8, 12, 8, 6, 10, 8, 5, 19, 12, 8, 7, 10, 8, 18, 13, 11, 6, 12, 12, 12, 14, 15, 9, 8, 7, 8, 10, 14, 8, 12, 14, 15, 9, 11, 14, 11, 13, 18, 9, 7, 14, 14, 16, 12, 12, 6, 12, 15, 9, 18, 11, 13, 11, 10, 11, 10, 7, 7, 7, 12, 14, 10, 11, 8, 7, 7, 8, 8, 7, 15, 14, 16, 12, 11, 9, 11, 8, 7, 7, 4, 8, 9, 5, 10, 10, 14, 12, 11, 10, 14, 9, 12, 8, 13, 22, 24, 9, 21, 20, 8, 13, 12, 12, 7, 11, 6, 12, 17, 10, 9, 9, 18, 15, 10, 7, 12, 11, 12, 14, 12, 5, 9, 8, 10, 8, 18, 9, 5, 12, 13, 14, 13, 8, 7, 14, 7, 6, 6, 10, 18, 14, 15, 13, 13, 14, 11, 11, 10, 12, 18, 13, 9, 11, 4, 8, 10, 16, 6, 8, 9, 10, 11, 9, 10, 13, 12, 7, 11, 16, 10, 10, 14, 8, 6, 11, 16, 16, 22, 8, 9, 20, 6, 9, 10, 14, 4, 4, 11, 12, 5, 10, 17, 9, 7, 14, 18, 21, 4, 7, 7, 17, 11, 9, 14, 12, 9, 14, 6, 15, 11, 14, 10, 16, 13, 13, 14, 19, 13, 14, 12, 11, 8, 10, 13, 8, 4, 18, 12, 13, 9, 7, 8, 10, 17, 10, 6, 8, 9, 8, 8, 16, 15, 12, 10, 10, 8, 8, 11, 7, 4, 16, 13, 13, 15, 8, 12, 16, 9, 7, 10, 11, 20, 15, 11, 16, 12, 13, 3, 14, 11, 14, 13, 15, 18, 7, 8, 10, 13, 9, 11, 8, 12, 15, 10, 14, 18, 8, 17, 13, 11, 14, 14, 25, 19, 16, 16, 15, 8, 11, 14, 12, 6, 8, 12, 9, 11, 11, 8, 7, 8, 6, 12, 12, 16, 11, 9, 14, 13, 7, 11, 14, 14, 12, 7, 16, 6, 11, 15, 12, 7, 13, 15, 11, 14, 13, 11, 16, 12, 6, 7, 11, 11, 20, 14, 9, 15, 9, 12, 16, 15, 2, 14, 10, 8, 5, 18, 12, 6, 11, 13, 7, 12, 6, 5, 7, 16, 15, 13, 11, 12, 10, 8, 7, 7, 8, 21, 7, 14, 10, 11, 16, 12, 10, 11, 8, 10, 15, 13, 17, 20, 8, 9, 11, 8, 12, 14, 7, 17, 10, 16, 8, 7, 7, 14, 8, 13, 17, 13, 13, 7, 9, 14, 8, 8, 10, 11, 5, 8, 11, 20, 20, 16, 13, 7, 13, 11, 10, 9, 12, 9, 8, 13, 15, 11, 12, 11, 13, 12, 10, 13, 15, 7, 11, 21, 8, 14, 12, 9, 12, 9, 14, 12, 12, 18, 19, 19, 17, 16, 11, 11, 16, 10, 11, 8, 13, 11, 17, 16, 16, 14, 9, 8, 13, 14, 5, 8, 13, 3, 8, 11, 16, 6, 12, 2, 9, 6, 10, 14, 11, 8, 14, 13, 10, 10, 11, 16, 12, 6, 13, 8, 7, 7, 10, 12, 13, 6, 7, 14, 15, 8, 11, 7, 6, 11, 9, 7, 10, 11, 11, 10, 11, 13, 11, 6, 12, 14, 15, 11, 9, 9, 13, 13, 11, 12, 12, 15, 20, 10, 10, 10, 11, 10, 9, 11, 6, 18, 3, 9, 14, 14, 16, 9, 4, 18, 12, 12, 7, 12, 7, 7, 13, 17, 18, 12, 14, 10, 12, 11, 5, 5, 10, 11, 7, 11, 12, 18, 18, 7, 17, 10, 15, 15, 6, 15, 13, 4, 16, 12, 19, 21, 10, 8, 11, 11, 8, 5, 14, 7, 10, 11, 16, 17, 17, 11, 22, 18, 15, 14, 12, 24, 18, 10, 7, 13, 10, 16, 8, 11, 12, 15, 14, 14, 10, 11, 9, 11, 10, 11, 10, 7, 13, 15, 8, 7, 14, 11, 8, 11, 11, 10, 12, 9, 7, 9, 14, 11, 12, 10, 9, 15, 7, 7, 9, 10, 3, 10, 10, 11, 12, 14, 11, 8, 9, 6, 8, 13, 10, 7, 10, 13, 17, 3, 11, 10, 13, 9, 12, 14, 14, 14, 11, 8, 23, 12, 9, 12, 14, 9, 16, 11, 12, 9, 9, 6, 8, 13, 12, 17, 8, 15, 12, 8, 14, 8, 5, 17, 17, 16, 10, 14, 11, 10, 14, 8, 11, 11, 13, 18, 11, 17, 17, 14, 8, 13, 10, 12, 8, 5, 11, 12, 9, 10, 10, 10, 8, 11, 9, 7, 9, 16, 8, 7, 8, 18, 15, 22, 10, 9, 10, 8, 11, 15, 17, 10, 12, 15, 10, 11, 12, 8, 9, 9, 12, 12, 12, 10, 16, 12, 14, 13, 8, 12, 8, 16, 17, 19, 17, 8, 8, 13, 14, 18, 15, 24, 19, 8, 14, 8, 17, 16, 8, 12, 8, 10, 11, 14, 8, 13, 13, 12, 12, 18, 11, 7, 11, 9, 11, 8, 6, 10, 8, 7, 7, 12, 11, 7, 12, 13, 3, 11, 12, 17, 7, 11, 10, 15, 9, 10, 4, 5, 14, 9, 10, 4, 9, 18, 20, 15, 9, 12, 16, 9, 12, 15, 15, 11, 7, 9, 8, 5, 13, 13, 16, 8, 13, 12, 18, 9, 8, 9, 10, 15, 24, 7, 11, 7, 13, 7, 10, 9, 10, 7, 7, 6, 9, 18, 15, 12, 11, 15, 11, 21, 13, 12, 6, 12, 6, 10, 9, 3, 8, 20, 10, 10, 8, 12, 8, 16, 8, 17, 11, 15, 15, 3, 10, 9, 8, 19, 8, 8, 6, 11, 16, 7, 8, 7, 5, 6, 19, 13, 4, 9, 6, 6, 12, 15, 17, 7, 13, 8, 11, 16, 10, 19, 15, 12, 11, 18, 15, 9, 9, 11, 10, 8, 10, 20, 14, 10, 10, 8, 9, 9, 15, 6, 12, 15, 8, 10, 14, 11, 7, 8, 9, 12, 18, 10, 5, 14, 7, 11, 8, 17, 7, 12, 10, 14, 15, 14, 21, 19, 13, 8, 5, 12, 13, 15, 20, 16, 14, 11, 12, 10, 12, 14, 15, 13, 19, 9, 6, 11, 13, 12, 9, 10, 9, 10, 8, 14, 10, 11, 9, 14, 8, 9, 10, 6, 12, 12, 8, 9, 10, 13, 17, 6, 8, 8, 16, 5, 11, 15, 15, 8, 18, 16, 7, 19, 9, 7, 13, 13, 4, 14, 7, 9, 11, 8, 9, 8, 4, 12, 12, 8, 10, 13, 11, 13, 8, 11, 11, 9, 13, 12, 9, 11, 11, 8, 16, 19, 18, 6, 11, 8, 10, 9, 10, 14, 12, 3, 10, 10, 10, 13, 12, 14, 7, 9, 4, 7, 8, 10, 11, 12, 14, 9, 8, 7, 10, 8, 12, 15, 10, 9, 11, 16, 16, 17, 9, 10, 10, 14, 9, 23, 10, 14, 15, 6, 9, 15, 25, 16, 11, 13, 15, 10, 14, 10, 9, 12, 10, 9, 10, 8, 5, 11, 10, 10, 10, 10, 15, 12, 9, 11, 9, 13, 7, 7, 14, 14, 12, 23, 14, 10, 15, 19, 8, 11, 6, 9, 9, 8, 8, 11, 11, 20, 8, 12, 16, 12, 11, 14, 16, 8, 13, 25, 15, 16, 12, 14, 11, 8, 19, 9, 11, 13, 11, 5, 5, 8, 6, 8, 25, 10, 12, 10, 13, 12, 15, 4, 15, 14, 12, 15, 10, 16, 13, 13, 13, 11, 11, 9, 9, 8, 12, 9, 8, 7, 15, 6, 15, 8, 8, 9, 17, 15, 11, 5, 14, 8, 12, 10, 16, 16, 10, 14, 12, 8, 11, 8, 7, 13, 20, 12, 7, 8, 12, 5, 17, 4, 8, 14, 7, 10, 16, 11, 12, 11, 10, 11, 14, 14, 7, 7, 15, 11, 11, 14, 9, 11, 11, 7, 6, 11, 6, 16, 8, 14, 10, 15, 12, 15, 13, 14, 13, 8, 10, 13, 8, 9, 9, 8, 7, 11, 12, 12, 12, 6, 13, 17, 10, 13, 16, 16, 11, 11, 14, 14, 9, 13, 15, 18, 16, 10, 14, 7, 11, 16, 15, 9, 22, 16, 11, 21, 13, 7, 13, 20, 14, 13, 13, 10, 8, 8, 11, 10, 10, 13, 15, 7, 10, 14, 12, 18, 18, 16, 10, 16, 10, 16, 14, 9, 12, 14, 10, 9, 9, 11, 6, 8, 11, 6, 7, 14, 7, 12, 10, 8, 14, 5, 8, 13, 12, 16, 13, 22, 8, 22, 16, 8, 7, 7, 12, 11, 9, 8, 11, 23, 7, 9, 9, 9, 13, 13, 8, 11, 14, 7, 10, 9, 7, 19, 14, 8, 8, 13, 6, 10, 12, 10, 12, 11, 7, 16, 12, 11, 4, 10, 12, 11, 6, 13, 12, 9, 6, 11, 13, 13, 16, 23, 12, 2, 10, 18, 6, 21, 9, 7, 3, 9, 18, 9, 9, 11, 8, 16, 14, 5, 4, 8, 12, 5, 14, 11, 8, 7, 11, 15, 8, 10, 7, 9, 16, 7, 7, 5, 7, 11, 9, 11, 11, 11, 6, 15, 22, 11, 11, 7, 13, 12, 16, 12, 11, 11, 18, 17, 10, 14, 9, 14, 17, 8, 14, 12, 11, 14, 13, 19, 15, 10, 8, 8, 11, 14, 13, 13, 9, 9, 8, 11, 12, 14, 7, 13, 8, 10, 11, 3, 8, 16, 20, 13, 15, 8, 8, 13, 6, 12, 13, 23, 12, 10, 10, 5, 10, 6, 10, 8, 12, 12, 11, 10, 10, 13, 12, 15, 11, 18, 20, 17, 7, 8, 13, 11, 13, 15, 12, 14, 6, 12, 10, 9, 11, 9, 6, 14, 10, 12, 8, 11, 18, 9, 6, 10, 18, 8, 9, 15, 12, 11, 14, 14, 14, 10, 11, 14, 9, 11, 7, 12, 7, 5, 6, 11, 9, 6, 11, 15, 15, 12, 15, 10, 9, 11, 8, 9, 8, 9, 10, 15, 10, 4, 16, 10, 11, 12, 7, 19, 15, 4, 24, 7, 16, 9, 14, 7, 12, 6, 3, 8, 10, 7, 24, 8, 15, 17, 13, 11, 17, 16, 16, 12, 14, 5, 11, 10, 7, 10, 14, 10, 10, 11, 12, 21, 13, 28, 11, 12, 7, 12, 10, 8, 16, 8, 8, 12, 9, 7, 20, 15, 6, 6, 9, 6, 14, 10, 11, 16, 9, 14, 12, 18, 13, 12, 11, 10, 10, 14, 11, 6, 10, 8, 16, 8, 9, 10, 12, 15, 17, 9, 17, 16, 10, 11, 9, 21, 10, 13, 10, 16, 14, 17, 23, 16, 12, 13, 13, 11, 11, 11, 14, 10, 10, 10, 7, 7, 12, 3, 8, 7, 7, 10, 9, 6, 13, 11, 8, 14, 13, 10, 14, 18, 13, 13, 9, 7, 8, 18, 16, 15, 17, 14, 12, 10, 17, 11, 13, 11, 13, 13, 12, 9, 13, 13, 14, 12, 13, 13, 8, 9, 11, 7, 9, 9, 4, 8, 9, 10, 12, 10, 20, 12, 11, 12, 15, 18, 13, 17, 6, 12, 9, 10, 11, 9, 13, 14, 12, 13, 10, 11, 16, 10, 15, 10, 15, 8, 11, 12, 10, 8, 8, 10, 11, 11, 12, 13, 11, 5, 6, 15, 10, 11, 9, 10, 12, 6, 7, 13, 13, 13, 8, 3, 13, 7, 8, 13, 13, 9, 9, 12, 16, 11, 12, 14, 14, 10, 10, 14, 12, 5, 11, 15, 13, 15, 10, 10, 10, 8, 13, 14, 9, 13, 10, 13, 10, 12, 15, 9, 11, 5, 16, 13, 15, 7, 14, 10, 11, 15, 19, 8, 18, 15, 19, 3, 14, 15, 10, 13, 11, 14, 15, 7, 11, 10, 10, 8, 6, 19, 26, 10, 10, 14, 11, 13, 7, 8, 11, 9, 16, 18, 9, 13, 12, 11, 16, 8, 11, 13, 16, 9, 10, 10, 13, 19, 7, 10, 11, 15, 9, 10, 10, 8, 12, 12, 11, 14, 14, 18, 14, 15, 13, 12, 10, 17, 14, 11, 10, 9, 13, 8, 8, 21, 14, 14, 11, 11, 4, 12, 14, 14, 10, 13, 10, 13, 10, 12, 12, 9, 10, 11, 11, 7, 16, 16, 8, 13, 9, 13, 9, 7, 9, 9, 13, 8, 14, 11, 14, 8, 11, 6, 8, 11]\n"
     ]
    }
   ],
   "source": [
    "print(lengths_of_caps_train)                               # print all train captions leangth"
   ]
  },
  {
   "cell_type": "code",
   "execution_count": 40,
   "metadata": {
    "scrolled": true
   },
   "outputs": [
    {
     "name": "stdout",
     "output_type": "stream",
     "text": [
      "[12, 14, 10, 15, 18, 18, 5, 6, 14, 13, 19, 16, 12, 11, 18, 10, 10, 7, 11, 10, 12, 16, 13, 10, 8, 14, 13, 12, 16, 12, 7, 8, 9, 9, 6, 21, 19, 10, 6, 5, 15, 13, 10, 12, 12, 9, 9, 14, 6, 9, 10, 4, 12, 7, 10, 14, 11, 12, 25, 9, 11, 8, 16, 11, 14, 10, 12, 9, 15, 13, 9, 11, 8, 7, 8, 13, 9, 13, 10, 13, 6, 16, 6, 7, 10, 4, 15, 11, 13, 10, 12, 8, 5, 10, 13, 10, 8, 8, 8, 7, 4, 7, 10, 5, 11, 16, 8, 9, 7, 15, 7, 15, 8, 12, 15, 12, 12, 9, 7, 12, 14, 7, 12, 15, 13, 11, 14, 5, 8, 12, 7, 11, 18, 16, 16, 11, 7, 8, 14, 18, 9, 6, 8, 9, 13, 9, 11, 12, 9, 8, 9, 9, 5, 6, 9, 5, 19, 9, 9, 10, 13, 10, 12, 13, 10, 14, 21, 7, 10, 9, 16, 11, 14, 17, 7, 13, 6, 15, 15, 12, 11, 10, 11, 17, 11, 11, 10, 10, 7, 17, 13, 14, 15, 11, 15, 14, 11, 7, 10, 10, 13, 8, 9, 8, 9, 8, 9, 13, 7, 9, 13, 8, 16, 15, 22, 13, 7, 7, 7, 7, 7, 13, 14, 8, 13, 15, 3, 16, 13, 13, 9, 13, 16, 12, 8, 11, 11, 15, 13, 13, 12, 15, 9, 15, 8, 8, 8, 24, 20, 17, 10, 7, 7, 13, 9, 8, 17, 6, 12, 11, 14, 15, 10, 9, 8, 10, 13, 13, 14, 5, 11, 12, 18, 16, 10, 8, 11, 12, 12, 9, 11, 8, 9, 12, 14, 13, 12, 9, 15, 11, 16, 8, 10, 15, 8, 11, 10, 12, 8, 14, 11, 10, 10, 11, 15, 13, 15, 13, 17, 22, 15, 8, 7, 7, 6, 10, 13, 14, 11, 11, 7, 19, 20, 8, 14, 11, 10, 12, 13, 12, 11, 6, 10, 10, 10, 17, 14, 19, 13, 10, 15, 14, 10, 9, 13, 10, 9, 17, 11, 13, 8, 8, 11, 9, 8, 7, 11, 11, 13, 16, 12, 13, 11, 13, 4, 11, 8, 9, 8, 8, 10, 9, 6, 7, 9, 8, 17, 11, 15, 10, 12, 12, 8, 8, 12, 8, 21, 12, 7, 13, 11, 19, 7, 12, 12, 10, 9, 8, 9, 12, 12, 14, 9, 9, 15, 10, 17, 17, 11, 12, 12, 13, 13, 14, 12, 11, 19, 13, 10, 12, 7, 11, 11, 15, 11, 10, 8, 13, 16, 9, 12, 16, 10, 13, 15, 18, 18, 11, 16, 4, 14, 9, 9, 6, 8, 13, 8, 7, 13, 7, 10, 13, 9, 10, 12, 16, 17, 9, 14, 13, 14, 8, 10, 10, 12, 12, 3, 3, 10, 13, 10, 6, 13, 13, 9, 11, 8, 15, 11, 13, 12, 13, 13, 11, 7, 14, 12, 13, 6, 14, 14, 10, 14, 9, 9, 6, 20, 7, 5, 6, 10, 15, 15, 16, 13, 15, 7, 9, 14, 11, 13, 10, 9, 9, 18, 9, 9, 13, 10, 6, 9, 12, 17, 10, 9, 17, 15, 7, 13, 16, 7, 8, 5, 11, 5, 8, 12, 17, 10, 6, 10, 11, 13, 10, 9, 12, 11, 7, 7, 11, 14, 7, 18, 8, 12, 20, 10, 7, 8, 8, 18, 10, 11, 11, 9, 15, 10, 7, 10, 8, 12, 16, 6, 11, 13, 11, 14, 6, 12, 14, 17, 16, 12, 6, 6, 13, 12, 9, 14, 8, 14, 7, 7, 11, 7, 15, 15, 8, 9, 9, 8, 13, 9, 12, 14, 24, 10, 7, 11, 11, 11, 9, 7, 15, 10, 16, 16, 10, 9, 11, 16, 9, 17, 21, 10, 8, 15, 17, 15, 12, 10, 12, 11, 8, 13, 11, 9, 10, 8, 9, 4, 11, 20, 16, 8, 16, 12, 14, 8, 16, 15, 9, 10, 10, 10, 11, 8, 10, 14, 15, 8, 8, 11, 12, 7, 9, 11, 7, 7, 7, 15, 9, 6, 12, 10, 6, 19, 10, 11, 9, 15, 13, 15, 5, 8, 9, 15, 3, 9, 11, 8, 10, 19, 7, 11, 10, 8, 15, 12, 11, 8, 16, 10, 13, 16, 11, 13, 16, 9, 15, 6, 15, 17, 14, 11, 11, 6, 14, 13, 8, 10, 12, 11, 12, 12, 8, 13, 12, 16, 13, 14, 11, 10, 9, 7, 26, 11, 13, 22, 9, 13, 14, 19, 14, 3, 14, 11, 9, 9, 11, 12, 18, 14, 7, 11, 11, 7, 7, 11, 17, 11, 8, 10, 9, 11, 10, 11, 14, 15, 14, 11, 13, 14, 16, 15, 12, 12, 9, 15, 7, 14, 15, 10, 12, 9, 11, 12, 21, 16, 7, 13, 6, 11, 7, 7, 13, 13, 9, 14, 10, 9, 11, 17, 10, 9, 6, 5, 5, 9, 12, 14, 7, 7, 7, 8, 14, 18, 14, 11, 14, 17, 8, 19, 12, 12, 13, 14, 11, 13, 11, 12, 14, 13, 11, 10, 11, 13, 10, 15, 12, 12, 14, 12, 10, 3, 14, 12, 9, 19, 7, 5, 10, 12, 13, 7, 13, 13, 14, 15, 15, 6, 9, 9, 8, 6, 4, 7, 7, 5, 8, 13, 12, 7, 4, 15, 10, 14, 17, 10, 10, 10, 13, 11, 15, 10, 11, 11, 22, 17, 12, 19, 20, 11, 18, 12, 16, 14, 12, 12, 6, 15, 10, 16, 11, 13, 11, 14, 8, 15, 10, 10, 20, 14, 11, 10, 8, 8, 7, 10, 7, 13, 16, 12, 19, 9, 9, 9, 12, 11, 13, 17, 14, 22, 15, 14, 7, 12, 10, 15, 16, 9, 14, 7, 11, 14, 23, 15, 15, 15, 3, 17, 18, 19, 19, 14, 14, 6, 8, 7, 13, 18, 13, 14, 8, 14, 15, 9, 11, 12, 11, 14, 12, 10, 11, 13, 5, 15, 11, 9, 8, 15, 20, 15, 12, 18, 20, 17, 5, 8, 15, 7, 10, 16, 11, 10, 16, 7, 3, 10, 11, 15, 13, 10, 8, 9, 9, 9, 10, 6, 10, 8, 11, 19, 8, 11, 20, 8, 11, 15, 10, 8, 11, 11, 8, 12, 11, 8, 6, 13, 9, 11, 19, 6, 6, 12, 7, 3, 8, 11, 7, 16, 11, 8, 12, 14, 8, 9, 10, 11, 10, 13, 16, 12, 16, 17, 10, 15, 15, 20, 11, 13, 5, 8, 11, 6, 10, 7, 7, 8, 7, 10, 9, 8, 12, 9, 16, 13, 6, 8, 11, 16, 10, 12, 13, 9, 15, 10, 7, 5, 11, 8, 10, 11, 10, 7, 9, 12, 13, 11, 15, 8, 12, 10, 14, 19, 12, 7, 19, 8, 10, 8, 18, 8, 9, 8, 23, 17, 9, 8, 9, 18, 13, 12, 13, 8, 14, 10, 8, 13, 13, 17, 13, 10, 13, 14, 7, 8, 12, 7, 8, 11, 12, 10, 11, 7, 10, 10, 8, 7, 12, 9, 7, 12, 16, 11, 14, 8, 15, 11, 8, 15, 12, 11, 13, 9, 9, 11, 12, 9, 11, 5, 10, 19, 11, 10, 11, 14, 10, 7, 10, 10, 19, 10, 9, 9, 17, 9, 8, 16, 10, 12, 10, 7, 16, 12, 17, 12, 10, 15, 12, 10, 12, 7, 9, 12, 11, 16, 10, 9, 18, 15, 10, 7, 8, 12, 11, 14, 13, 14, 18, 23, 13, 13, 13, 13, 13, 9, 16, 9, 10, 11, 12, 11, 11, 7, 11, 15, 13, 16, 13, 16, 10, 7, 8, 8, 11, 11, 7, 10, 18, 14, 15, 15, 16, 9, 13, 12, 8, 11, 15, 15, 7, 7, 11, 13, 12, 10, 14, 10, 22, 11, 16, 12, 14, 19, 13, 13, 9, 9, 9, 11, 10, 16, 7, 9, 7, 7, 8, 8, 13, 16, 15, 9, 10, 15, 9, 7, 12, 10, 8, 12, 6, 9, 5, 12, 12, 14, 11, 9, 14, 13, 9, 13, 15, 11, 11, 9, 13, 15, 12, 16, 6, 9, 10, 11, 17, 7, 9, 3, 8, 17, 14, 14, 9, 12, 20, 24, 8, 13, 9, 5, 14, 14, 11, 8, 9, 16, 16, 13, 14, 11, 10, 7, 11, 9, 6, 7, 11, 8, 9, 15, 11, 16, 13, 12, 9, 9, 8, 18, 3, 8, 11, 19, 14, 12, 15, 17, 10, 16, 16, 19, 13, 17, 17, 11, 10, 7, 8, 12, 10, 9, 13, 10, 11, 10, 13, 13, 12, 11, 10, 7, 14, 15, 6, 10, 9, 11, 15, 13, 15, 12, 7, 6, 7, 12, 10, 13, 10, 9, 18, 10, 10, 7, 10, 12, 14, 16, 12, 16, 10, 9, 16, 7, 10, 11, 17, 14, 13, 13, 6, 16, 12, 9, 8, 10, 14, 9, 9, 15, 16, 2, 14, 19, 14, 12, 14, 11, 7, 13, 6, 13, 17, 14, 15, 7, 9, 14, 22, 13, 15, 9, 16, 17, 16, 12, 10, 7, 6, 7, 8, 12, 13, 10, 11, 11, 14, 7, 10, 6, 12, 9, 9, 15, 14, 8, 6, 12, 14, 7, 15, 16, 12, 16, 16, 9, 8, 6, 9, 8, 13, 11, 8, 11, 11, 11, 8, 14, 14, 11, 3, 13, 10, 11, 10, 10, 8, 9, 7, 8, 9, 16, 10, 15, 8, 20, 10, 10, 9, 8, 10, 14, 10, 10, 9, 14, 13, 15, 11, 7, 3, 6, 11, 11, 21, 17, 11, 11, 13, 5, 10, 14, 8, 7, 14, 9, 10, 9, 10, 12, 7, 15, 10, 8, 7, 13, 13, 4, 11, 16, 11, 10, 15, 8, 14, 13, 8, 11, 15, 10, 9, 9, 12, 14, 12, 15, 11, 7, 14, 12, 17, 12, 7, 17, 5, 14, 12, 7, 10, 9, 9, 14, 9, 12, 12, 6, 13, 5, 6, 5, 15, 12, 12, 7, 11, 13, 11, 12, 17, 17, 16, 15, 9, 20, 6, 22, 8, 12, 14, 15, 3, 12, 7, 7, 8, 13, 16, 11, 15, 8, 12, 13, 9, 9, 8, 15, 13, 12, 10, 9, 14, 10, 11, 10, 9, 9, 8, 13, 8, 10, 9, 12, 11, 7, 18, 13, 11, 11, 12, 14, 10, 11, 9, 13, 11, 18, 10, 20, 3, 11, 6, 10, 12, 14, 9, 4, 8, 14, 9, 12, 11, 8, 8, 8, 8, 9, 9, 9, 8, 7, 8, 3, 13, 10, 8, 10, 10, 22, 18, 14, 13, 9, 11, 14, 8, 9, 29, 14, 16, 10, 11, 14, 12, 15, 10, 5, 7, 9, 18, 10, 9, 9, 13, 13, 8, 9, 10, 7, 8, 10, 11, 13, 6, 11, 10, 16, 3, 9, 8, 10, 8, 11, 16, 13, 13, 5, 14, 13, 18, 12, 18, 10, 16, 3, 10, 10, 11, 14, 11, 11, 10, 5, 12, 10, 11, 6, 12, 15, 11, 16, 3, 19, 12, 12, 18, 16, 3, 9, 7, 12, 13, 13, 13, 11, 11, 13, 15, 19, 18, 9, 8, 9, 11, 3, 9, 7, 11, 15, 15, 7, 7, 15, 12, 13, 9, 13, 13, 7, 9, 12, 15, 11, 11, 18, 10, 13, 9, 11, 12, 8, 8, 14, 24, 16, 22, 3, 3, 16, 11, 10, 10, 11, 12, 8, 13, 8, 8, 8, 7, 11, 7, 9, 14, 17, 7, 8, 20, 11, 18, 10, 14, 3, 8, 9, 9, 13, 14, 5, 12, 11, 13, 15, 10, 7, 8, 11, 8, 15, 15, 10, 8, 17, 19, 20, 8, 12, 8, 7, 7, 7, 12, 9, 14, 10, 6, 3, 11, 15, 4, 11, 10, 8, 7, 8, 4, 6, 14, 15, 17, 14, 16, 11, 8, 11, 8, 9, 5, 19, 11, 13, 4, 8, 12, 7, 13, 12, 12, 15, 12, 15, 9, 10, 17, 8, 11, 9, 14, 8, 11, 7, 8, 12, 13, 5, 13, 13, 9, 13, 11, 13, 11, 10, 16, 10, 11, 14, 12, 11, 11, 12, 15, 10, 8, 11, 13, 8, 8, 11, 10, 16, 14, 15, 16, 5, 15, 13, 14, 11, 10, 7, 15, 13, 13, 8, 12, 15, 6, 11, 18, 12, 15, 12, 14, 15, 9, 11, 12, 15, 11, 21, 7, 8, 15, 15, 19, 13, 9, 15, 15, 20, 5, 24, 16, 9, 11, 16, 6, 17, 11, 12, 9, 14, 9, 8, 9, 9, 7, 9, 8, 6, 18, 14, 7, 16, 9, 10, 16, 15, 7, 17, 13, 11, 11, 23, 12, 11, 17, 14, 14, 13, 7, 14, 9, 15, 8, 9, 8, 14, 17, 14, 6, 10, 14, 11, 9, 9, 12, 7, 11, 18, 15, 13, 9, 13, 8, 7, 15, 11, 11, 10, 14, 9, 11, 9, 8, 5, 13, 12, 11, 14, 17, 14, 13, 15, 14, 14, 9, 16, 12, 10, 7, 11, 13, 9, 20, 10, 15, 18, 10, 15, 9, 7, 9, 15, 8, 8, 13, 9, 14, 15, 16, 7, 14, 18, 14, 11, 12, 6, 13, 10, 11, 15, 22, 6, 8, 13, 13, 11, 10, 11, 7, 10, 11, 12, 16, 4, 13, 6, 8, 10, 11, 9, 12, 10, 7, 14, 14, 17, 14, 9, 11, 15, 10, 8, 10, 12, 12, 9, 13, 12, 18, 12, 14, 15, 14, 10, 14, 10, 20, 16, 6, 16, 12, 7, 17, 6, 15, 6, 15, 16, 10, 9, 7, 7, 7, 14, 9, 14, 10, 13, 7, 11, 16, 9, 9, 10, 6, 7, 8, 7, 10, 10, 15, 7, 11, 11, 19, 15, 17, 10, 12, 11, 9, 8, 12, 5, 12, 10, 13, 17, 11, 7, 11, 24, 12, 20, 9, 14, 13, 6, 13, 10, 14, 8, 13, 12, 14, 9, 7, 2, 7, 9, 9, 9, 10, 10, 9, 19, 13, 12, 14, 9, 13, 15, 10, 9, 8, 17, 7, 8, 11, 11, 11, 14, 14, 10, 20, 9, 18, 6, 17, 13, 9, 12, 15, 8, 9, 10, 12, 13, 5, 10, 8, 6, 6, 8, 12, 11, 20, 13, 10, 21, 10, 9, 7, 12, 8, 10, 10, 8, 11, 14, 12, 11, 8, 8, 8, 7, 10, 5, 5, 12, 9, 10, 14, 13, 16, 8, 6, 13, 12, 14, 8, 11, 15, 4, 15, 10, 7, 15, 8, 12, 12, 8, 11, 16, 10, 13, 12, 13, 16, 9, 7, 10, 8, 7, 13, 15, 7, 9, 3, 20, 16, 14, 18, 10, 9, 12, 10, 7, 13, 14, 10, 11, 7, 7, 12, 7, 7, 11, 11, 10, 15, 13, 17, 13, 12, 13, 19, 19, 17, 12, 15, 12, 7, 13, 10, 9, 12, 6, 13, 8, 30, 16, 18, 16, 17, 11, 19, 10, 13, 8, 8, 7, 9, 10, 15, 17, 17, 7, 11, 9, 9, 10, 7, 10, 12, 18, 10, 20, 13, 17, 13, 13, 7, 17, 12, 13, 12, 13, 7, 7, 16, 6, 15, 7, 15, 13, 20, 13, 10, 15, 10, 9, 14, 10, 13, 8, 11, 17, 7, 9, 12, 9, 3, 9, 8, 8, 15, 7, 12, 8, 7, 10, 13, 18, 14, 8, 11, 15, 14, 17, 18, 21, 12, 6, 9, 7, 8, 9, 7, 8, 8, 10, 6, 14, 7, 10, 5, 12, 7, 12, 18, 10, 22, 9, 7, 8, 11, 8, 9, 17, 19, 14, 11, 9, 10, 15, 14, 9, 9, 15, 16, 9, 10, 6, 9, 12, 20, 6, 9, 10, 11, 11, 9, 11, 9, 15, 10, 4, 5, 7, 9, 14, 3, 11, 9, 6, 7, 5, 9, 15, 18, 16, 9, 10, 14, 12, 10, 15, 9, 8, 17, 17, 9, 11, 14, 11, 10, 7, 10, 17, 12, 8, 13, 17, 10, 12, 11, 6, 19, 7, 15, 14, 8, 10, 13, 12, 9, 15, 9, 12, 7, 8, 11, 9, 11, 10, 17, 10, 13, 14, 5, 11, 15, 6, 14, 5, 11, 11, 13, 9, 9, 5, 5, 6, 8, 9, 10, 12, 4, 14, 11, 20, 10, 4, 29, 6, 18, 9, 8, 14, 15, 7, 5, 11, 12, 14, 17, 15, 12, 13, 12, 8, 10, 9, 9, 13, 10, 18, 12, 15, 16, 5, 11, 11, 13, 7, 9, 17, 12, 10, 14, 11, 9, 12, 9, 12, 12, 7, 12, 5, 10, 8, 6, 11, 17, 8, 11, 10, 14, 9, 8, 10, 7, 7, 10, 11, 11, 9, 8, 19, 8, 10, 13, 8, 12, 11, 15, 10, 12, 13, 10, 11, 10, 9, 7, 14, 13, 8, 12, 14, 12, 13, 14, 14, 11, 15, 15, 13, 13, 13, 16, 15, 12, 5, 6, 9, 12, 14, 10, 3, 17, 9, 8, 7, 6, 16, 18, 14, 17, 8, 15, 14, 5, 12, 10, 9, 7, 10, 9, 11, 11, 7, 18, 17, 23, 14, 14, 15, 8, 8, 11, 7, 13, 14, 12, 17, 17, 10, 14, 13, 12, 7, 12, 10, 9, 10, 10, 10, 7, 8, 7, 6, 6, 12, 17, 15, 8, 12, 10, 10, 13, 16, 11, 14, 15, 12, 10, 9, 9, 10, 10, 9, 5, 7, 12, 16, 14, 12, 10, 7, 10, 12, 15, 14, 13, 15, 7, 16, 9, 19, 8, 17, 8, 12, 9, 9, 11, 14, 10, 16, 10, 10, 8, 10, 9, 7, 10, 12, 15, 8, 9, 8, 7, 15, 11, 17, 21, 13, 14, 12, 13, 9, 10, 13, 7, 10, 13, 10, 7, 10, 12, 17, 14, 10, 19, 6, 15, 12, 14, 10, 3, 10, 10, 8, 14, 6, 11, 19, 7, 12, 13, 10, 15, 8, 5, 8, 9, 12, 13, 12, 7, 8, 6, 12, 10, 9, 11, 14, 15, 16, 14, 12, 12, 9, 10, 12, 11, 13, 8, 14, 8, 9, 10, 13, 12, 12, 13, 7, 10, 12, 7, 13, 12, 7, 12, 3, 15, 6, 7, 17, 10, 13, 8, 19, 13, 10, 7, 7, 13, 11, 12, 16, 12, 7, 12, 9, 9, 8, 11, 17, 10, 6, 12, 18, 9, 8, 10, 7, 11, 10, 15, 16, 11, 10, 12, 14, 13, 16, 14, 11, 15, 15, 11, 24, 9, 4, 10, 21, 11, 8, 11, 11, 6, 6, 20, 9, 24, 16, 16, 9, 11, 9, 7, 10, 13, 10, 6, 11, 11, 15, 6, 10, 8, 9, 10, 12, 14, 9, 12, 15, 12, 12, 14, 10, 11, 8, 15, 15, 10, 14, 15, 13, 11, 12, 12, 14, 14, 8, 16, 11, 11, 13, 9, 15, 17, 15, 17, 15, 9, 17, 3, 7, 7, 9, 7, 10, 11, 9, 22, 12, 17, 15, 12, 11, 7, 6, 9, 12, 10, 10, 12, 13, 7, 3, 10, 9, 11, 10, 18, 13, 11, 19, 6, 15, 17, 15, 12, 12, 19, 22, 15, 15, 16, 11, 11, 13, 4, 15, 15, 12, 15, 14, 10, 10, 5, 12, 11, 9, 9, 12, 7, 14, 11, 7, 8, 14, 11, 10, 14, 13, 15, 9, 7, 8, 11, 14, 12, 8, 7, 8, 14, 18, 14, 9, 21, 16, 8, 16, 8, 9, 6, 7, 10, 15, 4, 11, 10, 8, 10, 9, 15, 14, 12, 10, 10, 10, 8, 6, 9, 12, 11, 12, 15, 9, 9, 6, 7, 7, 7, 13, 19, 19, 11, 9, 14, 11, 8, 10, 9, 14, 12, 15, 7, 14, 15, 11, 18, 16, 14, 3, 13, 10, 9, 14, 7, 12, 10, 13, 7, 13, 16, 11, 8, 14, 11, 12, 12, 14, 14, 10, 15, 10, 14, 6, 11, 12, 16, 12, 10, 12, 4, 11, 16, 11, 8, 9, 7, 6, 16, 10, 9, 10, 9, 12, 11, 11, 8, 10, 11, 12, 14, 15, 8, 12, 12, 16, 12, 10, 8, 7, 12, 18, 16, 17, 11, 12, 9, 8, 10, 16, 9, 15, 11, 19, 10, 12, 10, 8, 16, 10, 11, 15, 10, 10, 26, 19, 21, 14, 24, 16, 12, 9, 17, 11, 13, 10, 12, 7, 11, 17, 10, 6, 13, 10, 10, 12, 13, 8, 10, 15, 14, 15, 14, 11, 16, 3, 8, 12, 17, 10, 15, 20, 15, 12, 13, 13, 12, 9, 12, 14, 8, 12, 9, 8, 13, 9, 15, 10, 9, 13, 9, 7, 14, 12, 15, 15, 15, 22, 11, 13, 12, 19, 4, 15, 13, 9, 9, 16, 5, 18, 8, 13, 7, 3, 13, 6, 10, 11, 16, 11, 8, 11, 6, 7, 16, 11, 13, 14, 17, 10, 7, 9, 10, 14, 7, 6, 10, 16, 12, 13, 12, 19, 14, 17, 9, 17, 16, 7, 10, 13, 10, 10, 13, 11, 12, 6, 8, 9, 10, 22, 8, 13, 16, 6, 8, 14, 9, 11, 9, 17, 11, 19, 15, 7, 10, 9, 10, 3, 10, 9, 14, 12, 9, 4, 12, 17, 9, 7, 10, 15, 7, 13, 9, 9, 10, 9, 12, 9, 8, 14, 13, 11, 17, 12, 8, 15, 13, 15, 13, 9, 11, 9, 9, 9, 8, 9, 10, 14, 11, 16, 14, 11, 6, 11, 13, 5, 7, 5, 13, 8, 15, 12, 14, 6, 8, 6, 11, 8, 8, 20, 9, 9, 24, 5, 11, 17, 13, 14, 12, 8, 14, 10, 16, 3, 12, 14, 10, 7, 11, 9, 11, 11, 12, 10, 20, 13, 12, 10, 10, 16, 16, 7, 15, 12, 7, 25, 14, 12, 9, 6, 14, 11, 7, 18, 13, 10, 10, 14, 19, 19, 21, 10, 12, 9, 13, 13, 12, 9, 18, 11, 17, 9, 13, 16, 11, 12, 10, 16, 12, 20, 8, 10, 20, 24, 12, 7, 10, 14, 5, 10, 10, 9, 11, 15, 12, 13, 18, 11, 13, 11, 9, 6, 8, 15, 21, 16, 21, 13, 19, 13, 8, 10, 7, 8, 17, 15, 13, 17, 8, 13, 12, 21, 18, 10, 21, 16, 7, 13, 6, 4, 9, 8, 17, 6, 14, 8, 8, 9, 8, 12, 9, 7, 11, 7, 10, 11, 17, 7, 15, 11, 10, 10, 11, 23, 9, 7, 7, 15, 5, 15, 16, 8, 14, 15, 8, 18, 7, 6, 10, 11, 10, 12, 7, 15, 7, 13, 19, 13, 18, 16, 7, 11, 13, 12, 16, 8, 7, 12, 14, 9, 13, 12, 13, 11, 16, 16, 10, 12, 9, 8, 11, 11, 7, 9, 14, 10, 16, 8, 13, 16, 8, 7, 17, 16, 7, 10, 8, 12, 8, 22, 6, 12, 11, 8, 16, 15, 13, 14, 13, 10, 15, 9, 8, 11, 7, 8, 10, 7, 13, 6, 13, 11, 8, 9, 14, 5, 20, 6, 7, 18, 15, 10, 10, 8, 21, 15, 14, 10, 8, 11, 11, 11, 10, 17, 10, 9, 16, 12, 15, 10, 8, 8, 10, 13, 13, 21, 19, 7, 14, 9, 16, 11, 10, 14, 15, 16, 14, 11, 10, 12, 8, 9, 13, 11, 9, 9, 19, 8, 19, 16, 13, 14, 11, 12, 13, 12, 13, 13, 11, 11, 8, 13, 13, 8, 10, 24, 15, 13, 11, 9, 7, 9, 6, 9, 18, 11, 9, 17, 12, 14, 7, 8, 10, 9, 10, 13, 9, 6, 8, 10, 14, 10, 19, 8, 9, 14, 10, 16, 14, 10, 9, 10, 6, 7, 9, 12, 8, 9, 8, 13, 10, 9, 8, 15, 9, 14, 9, 15, 7, 10, 12, 15, 8, 12, 8, 12, 13, 13, 9, 9, 18, 16, 8, 8, 11, 9, 13, 11, 8, 12, 14, 13, 13, 12, 8, 14, 12, 12, 20, 14, 9, 9, 11, 10, 10, 11, 10, 15, 7, 12, 12, 11, 9, 11, 10, 11, 8, 13, 9, 8, 7, 7, 14, 13, 14, 15, 7, 10, 9, 10, 14, 12, 8, 16, 16, 19, 5, 3, 8, 14, 13, 11, 9, 15, 8, 7, 12, 10, 9, 20, 12, 14, 15, 8, 9, 14, 9, 17, 6, 19, 13, 11, 9, 9, 7, 13, 8, 11, 13, 11, 10, 7, 9, 13, 6, 13, 20, 13, 9, 10, 10, 6, 9, 6, 12, 14, 16, 15, 19, 10, 13, 17, 17, 9, 14, 17, 12, 11, 11, 17, 15, 18, 9, 17, 10, 13, 9, 13, 9, 11, 13, 15, 11, 14, 11, 24, 10, 8, 13, 13, 11, 9, 12, 11, 16, 7, 10, 17, 13, 17, 26, 16, 14, 14, 10, 11, 11, 9, 5, 15, 9, 9, 13, 8, 11, 8, 10, 10, 17, 18, 12, 13, 14, 8, 14, 10, 11, 9, 10, 23, 11, 7, 12, 8, 17, 17, 17, 14, 7, 13, 7, 11, 11, 6, 8, 12, 10, 13, 6, 14, 14, 14, 11, 10, 9, 9, 7, 13, 9, 9, 10, 10, 10, 14, 10, 15, 6, 9, 12, 12, 17, 13, 16, 6, 15, 11, 18, 11, 13, 6, 11, 14, 13, 7, 14, 6, 9, 9, 11, 6, 7, 10, 8, 5, 8, 14, 18, 10, 10, 9, 13, 15, 6, 8, 19, 12, 9, 12, 11, 7, 16, 7, 10, 8, 13, 12, 7, 14, 19, 10, 13, 9, 14, 10, 15, 10, 13, 10, 16, 11, 18, 15, 10, 8, 12, 10, 13, 9, 9, 13, 15, 13, 9, 11, 13, 14, 11, 13, 19, 9, 18, 16, 9, 17, 14, 10, 15, 13, 6, 20, 10, 10, 9, 13, 9, 9, 20, 9, 11, 19, 10, 3, 7, 12, 12, 12, 8, 8, 10, 17, 12, 15, 8, 15, 16, 20, 15, 17, 11, 12, 20, 9, 10, 11, 10, 8, 9, 13, 7, 11, 15, 8, 8, 15, 10, 9, 20, 14, 7, 20, 11, 14, 7, 12, 12, 11, 11, 18, 14, 13, 16, 10, 12, 6, 10, 11, 13, 13, 18, 12, 9, 15, 11, 21, 12, 14, 12, 5, 7, 15, 14, 10, 12, 16, 12, 18, 13, 9, 8, 10, 15, 11, 9, 9, 7, 9, 14, 10, 12, 15, 11, 6, 8, 10, 17, 12, 13, 13, 17, 10, 17, 18, 17, 9, 8, 12, 15, 14, 9, 13, 16, 19, 10, 21, 7, 10, 12, 8, 11, 9, 8, 11, 14, 7, 12, 20, 9, 10, 11, 11, 10, 10, 7, 7, 10, 15, 10, 11, 8, 10, 13, 14, 15, 9, 7, 9, 9, 8, 9, 19, 11, 12, 8, 8, 17, 11, 12, 15, 8, 11, 11, 7, 13, 9, 13, 12, 11, 11, 11, 13, 13, 13, 13, 15, 11, 12, 11, 11, 11, 12, 9, 8, 9, 19, 11, 12, 12, 11, 7, 16, 11, 15, 7, 7, 12, 17, 11, 16, 12, 12, 14, 13, 15, 19, 12, 15, 22, 13, 13, 7, 10, 10, 12, 12, 18, 14, 9, 8, 13, 10, 17, 12, 10, 13, 15, 6, 12, 11, 10, 17, 9, 6, 8, 11, 15, 6, 7, 10, 13, 6, 8, 8, 12, 8, 14, 11, 16, 8, 6, 7, 10, 17, 9, 8, 8, 18, 13, 10, 19, 10, 13, 13, 14, 13, 14, 15, 11, 13, 16, 13, 17, 18, 17, 12, 15, 17, 7, 10, 27, 12, 12, 13, 11, 14, 18, 10, 8, 12, 5, 14, 11, 12, 11, 16, 8, 6, 11, 10, 6, 17, 12, 19, 16, 14, 8, 13, 8, 6, 8, 20, 9, 13, 17, 16, 11, 7, 10, 17, 12, 7, 11, 12, 15, 14, 13, 13, 10, 15, 8, 7, 12, 15, 8, 12, 10, 11, 13, 13, 18, 15, 16, 12, 18, 12, 10, 15, 18, 12, 11, 9, 14, 15, 15, 7, 6, 6, 13, 8, 11, 7, 14, 15, 13, 10, 10, 14, 8, 24, 9, 9, 13, 12, 3, 11, 13, 11, 11, 15, 13, 11, 10, 14, 8, 7, 9, 12, 9, 12, 11, 15, 8, 12, 10, 10, 9, 11, 12, 14, 12, 10, 11, 16, 11, 8, 11, 10, 10, 13, 15, 10, 12, 16, 13, 14, 16, 9, 9, 8, 5, 11, 15, 13, 6, 8, 10, 8, 8, 12, 14, 16, 17, 15, 16, 13, 15, 12, 11, 14, 14, 8, 11, 23, 12, 9, 15, 17, 15, 18, 13, 13, 5, 11, 9, 10, 15, 19, 20, 16, 11, 12, 16, 20, 14, 8, 7, 15, 12, 11, 20, 7, 11, 12, 10, 10, 6, 13, 19, 14, 13, 8, 16, 8, 14, 8, 11, 7, 10, 14, 10, 20, 7, 11, 8, 8, 12, 19, 11, 17, 10, 19, 10, 8, 8, 7, 20, 10, 8, 13, 20, 13, 8, 17, 15, 11, 14, 11, 15, 12, 14, 12, 13, 10, 8, 8, 7, 8, 9, 13, 6, 12, 15, 12, 8, 13, 19, 8, 13, 9, 11, 18, 11, 13, 11, 16, 13, 13, 15, 11, 13, 17, 7, 5, 11, 8, 18, 16, 8, 7, 15, 8, 15, 10, 14, 9, 14, 17, 2, 8, 3, 8, 7, 14, 10, 9, 12, 15, 14, 5, 12, 11, 12, 19, 8, 13, 20, 26, 7, 9, 13, 11, 10, 7, 20, 7, 9, 9, 9, 6, 9, 11, 11, 10, 13, 13, 18, 11, 10, 11, 12, 13, 6, 9, 9, 9, 7, 8, 15, 13, 13, 8, 5, 5, 10, 5, 12, 13, 13, 11, 11, 11, 6, 13, 15, 15, 13, 20, 12, 6, 10, 8, 12, 11, 13, 5, 16, 14, 9, 10, 15, 8, 11, 13, 16, 12, 13, 13, 12, 12, 12, 16, 19, 12, 16, 12, 13, 19, 13, 19, 6, 11, 18, 12, 9, 13, 11, 9, 7, 6, 6, 13, 11, 8, 5, 13, 9, 24, 12, 14, 11, 9, 4, 6, 15, 10, 10, 12, 16, 8, 13, 11, 11, 13, 12, 12, 12, 14, 8, 13, 7, 12, 8, 14, 9, 10, 15, 19, 9, 10, 9, 15, 13, 8, 11, 23, 17, 7, 10, 10, 3, 13, 10, 6, 14, 8, 10, 12, 8, 18, 11, 13, 19, 13, 12, 10, 9, 12, 13, 6, 13, 9, 11, 12, 8, 8, 13, 13, 10, 10, 12, 8, 15, 12, 14, 18, 13, 23, 18, 13, 11, 13, 8, 10, 9, 17, 16, 14, 8, 11, 9, 5, 13, 13, 6, 3, 6, 6, 10, 9, 15, 11, 11, 6, 13, 12, 11, 13, 12, 8, 7, 10, 3, 5, 12, 8, 10, 8, 8, 8, 9, 15, 8, 10, 9, 14, 19, 4, 5, 7, 13, 19, 15, 13, 10, 10, 10, 11, 20, 16, 10, 13, 12, 6, 9, 16, 16, 13, 7, 10, 10, 11, 10, 9, 11, 11, 11, 16, 13, 11, 14, 9, 8, 9, 7, 13, 14, 12, 10, 8, 10, 9, 25, 15, 16, 5, 12, 12, 6, 8, 10, 6, 10, 8, 7, 10, 7, 6, 8, 12, 13, 12, 9, 10, 9, 14, 8, 9, 12, 17, 9, 15, 12, 14, 17, 9, 17, 14, 13, 19, 4, 9, 11, 9, 11, 13, 7, 13, 13, 15, 11, 13, 13, 17, 8, 11, 9, 14, 6, 10, 8, 14, 10, 10, 10, 12, 8, 9, 7, 9, 9, 13, 11, 9, 15, 8, 9, 10, 18, 12, 14, 19, 15, 13, 16, 29, 13, 6, 10, 9, 9, 7, 5, 14, 5, 11, 12, 12, 13, 10, 9, 11, 13, 6, 9, 14, 8, 9, 10, 9, 7, 7, 11, 8, 9, 9, 9, 12, 11, 20, 15, 12, 13, 15, 14, 17, 16, 10, 8, 10, 9, 17, 15, 7, 8, 16, 15, 13, 18, 13, 18, 12, 12, 21, 16, 11, 9, 21, 5, 4, 10, 12, 11, 12, 12, 12, 14, 21, 15, 14, 12, 12, 18, 16, 18, 9, 8, 12, 5, 8, 6, 7, 15, 10, 12, 11, 4, 10, 5, 3, 4, 11, 9, 12, 9, 17, 12, 11, 8, 11, 11, 10, 9, 14, 13, 13, 11, 13, 11, 8, 14, 19, 17, 16, 14, 16, 13, 17, 6, 9, 6, 16, 8, 12, 11, 9, 13, 15, 15, 12, 14, 7, 8, 8, 9, 9, 10, 16, 14, 14, 12, 15, 12, 15, 8, 8, 14, 15, 9, 13, 10, 11, 10, 10, 13, 15, 14, 13, 14, 11, 10, 15, 13, 16, 12, 10, 15, 15, 13, 14, 11, 5, 12, 13, 7, 10, 13, 9, 15, 10, 11, 12, 14, 16, 5, 7, 13, 13, 8, 13, 11, 7, 10, 15, 12, 13, 12, 13, 10, 16, 10, 11, 9, 8, 7, 14, 13, 12, 11, 13, 14, 15, 6, 12, 8, 9, 9, 14, 14, 9, 8, 11, 18, 14, 18, 11, 8, 29, 11, 15, 19, 14, 14, 16, 18, 21, 14, 8, 10, 15, 14, 17, 14, 15, 13, 11, 7, 7, 13, 10, 12, 9, 10, 15, 12, 9, 11, 16, 8, 10, 12, 13, 9, 13, 11, 6, 12, 12, 11, 11, 8, 5, 8, 7, 8, 8, 12, 12, 9, 9, 7, 11, 14, 3, 6, 8, 14, 9, 9, 7, 10, 8, 10, 10, 8, 8, 15, 9, 8, 9, 13, 13, 13, 24, 17, 18, 10, 16, 15, 12, 15, 12, 11, 12, 13, 10, 9, 10, 13, 7, 9, 13, 11, 12, 10, 13, 7, 9, 9, 9, 10, 11, 10, 16, 8, 10]\n"
     ]
    }
   ],
   "source": [
    "print(lengths_of_caps_test)                              # print all test captions leangth"
   ]
  },
  {
   "cell_type": "code",
   "execution_count": 41,
   "metadata": {},
   "outputs": [
    {
     "data": {
      "text/plain": [
       "True"
      ]
     },
     "execution_count": 41,
     "metadata": {},
     "output_type": "execute_result"
    }
   ],
   "source": [
    "len(features_train_lst)==len(lengths_of_caps_train)      # insure that train features and aptions are equal"
   ]
  },
  {
   "cell_type": "code",
   "execution_count": 42,
   "metadata": {},
   "outputs": [
    {
     "data": {
      "text/plain": [
       "True"
      ]
     },
     "execution_count": 42,
     "metadata": {},
     "output_type": "execute_result"
    }
   ],
   "source": [
    "len(features_test_lst)==len(lengths_of_caps_test)        # insure that test features and aptions are equal"
   ]
  },
  {
   "cell_type": "code",
   "execution_count": 43,
   "metadata": {},
   "outputs": [
    {
     "data": {
      "text/plain": [
       "397862"
      ]
     },
     "execution_count": 43,
     "metadata": {},
     "output_type": "execute_result"
    }
   ],
   "source": [
    "sum(lengths_of_caps_train)                               # calculate all lengths of train captions"
   ]
  },
  {
   "cell_type": "code",
   "execution_count": 44,
   "metadata": {},
   "outputs": [
    {
     "data": {
      "text/plain": [
       "62423"
      ]
     },
     "execution_count": 44,
     "metadata": {},
     "output_type": "execute_result"
    }
   ],
   "source": [
    "sum(lengths_of_caps_test)                                # calculate all lengths of test captions"
   ]
  },
  {
   "cell_type": "code",
   "execution_count": 45,
   "metadata": {},
   "outputs": [],
   "source": [
    "all_features_train_lst=[]                                # create a list of all train features\n",
    "all_features_test_lst=[]                                 # create a list of all train features\n",
    "\n",
    "for i in range(len(features_train_lst)):                 # create loop indicate length of train features list\n",
    "    for j in range(lengths_of_caps_train[i]):            # create loop indicate length of train captions\n",
    "        all_features_train_lst.append(features_train_lst[i])   # append all features after process all train data  \n",
    "\n",
    "for i in range(len(features_test_lst)):                  # create loop indicate length of train features list\n",
    "    for j in range(lengths_of_caps_test[i]):             # create loop indicate length of test captions\n",
    "        all_features_test_lst.append(features_test_lst[i])     # append all features after process all test data"
   ]
  },
  {
   "cell_type": "code",
   "execution_count": 46,
   "metadata": {},
   "outputs": [
    {
     "data": {
      "text/plain": [
       "array([[False, False, False, ..., False, False, False]])"
      ]
     },
     "execution_count": 46,
     "metadata": {},
     "output_type": "execute_result"
    }
   ],
   "source": [
    "all_features_train_lst[0]==all_features_train_lst[58]    # check after calculation the train features"
   ]
  },
  {
   "cell_type": "code",
   "execution_count": 47,
   "metadata": {},
   "outputs": [
    {
     "data": {
      "text/plain": [
       "array([[ True,  True,  True, ...,  True,  True,  True]])"
      ]
     },
     "execution_count": 47,
     "metadata": {},
     "output_type": "execute_result"
    }
   ],
   "source": [
    "all_features_test_lst[0]==all_features_test_lst[56]      # check after calculation the test features"
   ]
  },
  {
   "cell_type": "code",
   "execution_count": 48,
   "metadata": {},
   "outputs": [],
   "source": [
    "in_seqs_train=[]                                         # create a list of in-sequance train data\n",
    "out_seqs_train=[]                                        # create a list of in-sequance test data\n",
    "\n",
    "for cap in train_captions:                               # loop for each train caption \n",
    "    seq=tokenizer.texts_to_sequences([cap])[0]           # convert text to sequance\n",
    "    for i in range(1,len(seq)):                          # Iterate through each word in the sequence\n",
    "        in_seq_train=seq[:i]                             # indicate input sequance\n",
    "        out_seq_train=seq[i]                             # indicate output sequance\n",
    "        in_seqs_train.append(in_seq_train)               # append input sequance\n",
    "        out_seqs_train.append(out_seq_train)             # indicate output sequance"
   ]
  },
  {
   "cell_type": "code",
   "execution_count": 50,
   "metadata": {},
   "outputs": [],
   "source": [
    "in_seq_test=[]                                          # create a list of in-sequance train data\n",
    "out_seq_test=[]                                         # create a list of in-sequance test data\n",
    "\n",
    "for cap in test_captions:                                # loop for each train caption\n",
    "    seq=tokenizer.texts_to_sequences([cap])[0]           # convert text to sequance\n",
    "    for i in range(1,len(seq)):                          # Iterate through each word in the sequence\n",
    "        in_seq_train=seq[:i]                             # indicate input sequance\n",
    "        out_seq_train=seq[i]                             # indicate output sequance\n",
    "        in_seqs_test.append(in_seq_test)                 # append input sequance\n",
    "        out_seqs_test.append(out_seq_test)               # indicate output sequance"
   ]
  },
  {
   "cell_type": "code",
   "execution_count": 51,
   "metadata": {},
   "outputs": [],
   "source": [
    "in_sequences_train=[]                                    # create pad-sequance list for in-sequance train data\n",
    "\n",
    "for in_seq in in_seqs_train:                             # iterate eash sequance in in-sequance train data\n",
    "    in_seq=pad_sequences([in_seq],maxlen=max_length)[0]  # pad-sequance to max length\n",
    "    in_sequences_train.append(in_seq)                    # append padded-sequance to the list"
   ]
  },
  {
   "cell_type": "code",
   "execution_count": 52,
   "metadata": {},
   "outputs": [],
   "source": [
    "in_sequences_test=[]                                     # create pad-sequance list for in-sequance test data\n",
    "\n",
    "for in_seq in in_seqs_test:                              # iterate eash sequance in in-sequance test data\n",
    "    in_seq=pad_sequences([in_seq],maxlen=max_length)[0]  # pad-sequance to max length\n",
    "    in_sequences_test.append(in_seq)                     # append padded-sequance to the list"
   ]
  },
  {
   "cell_type": "code",
   "execution_count": 53,
   "metadata": {},
   "outputs": [],
   "source": [
    "out_sequences_train=[]                                   # create pad-sequance list for out-sequance train data\n",
    "\n",
    "for out_seq in out_seqs_train:                           # loop in each out-sequance train data\n",
    "    out_seq = to_categorical([out_seq],num_classes=vocab_size)[0] # apply one-hot-encoder to out-sequance\n",
    "    out_sequences_train.append(out_seq)                  # append out-sequance after apply 'to_categorical'"
   ]
  },
  {
   "cell_type": "code",
   "execution_count": 54,
   "metadata": {},
   "outputs": [],
   "source": [
    "out_sequences_test=[]                                    # create pad-sequance list for out-sequance test data\n",
    "\n",
    "for out_seq in out_seqs_test:                            # loop in each out-sequance test data\n",
    "    out_seq = to_categorical([out_seq],num_classes=vocab_size)[0]  # apply one-hot-encoder to out-sequance\n",
    "    out_sequences_test.append(out_seq)                   # append out-sequance after apply 'to_categorical'"
   ]
  },
  {
   "cell_type": "markdown",
   "metadata": {},
   "source": [
    "## Create the model"
   ]
  },
  {
   "cell_type": "code",
   "execution_count": 58,
   "metadata": {},
   "outputs": [
    {
     "name": "stdout",
     "output_type": "stream",
     "text": [
      "WARNING:tensorflow:From C:\\Users\\3tia Al Hasawy\\AppData\\Local\\Programs\\Python\\Python311\\Lib\\site-packages\\keras\\src\\optimizers\\__init__.py:309: The name tf.train.Optimizer is deprecated. Please use tf.compat.v1.train.Optimizer instead.\n",
      "\n",
      "Model: \"model_2\"\n",
      "__________________________________________________________________________________________________\n",
      " Layer (type)                Output Shape                 Param #   Connected to                  \n",
      "==================================================================================================\n",
      " input_7 (InputLayer)        [(None, 35)]                 0         []                            \n",
      "                                                                                                  \n",
      " input_6 (InputLayer)        [(None, 2048)]               0         []                            \n",
      "                                                                                                  \n",
      " embedding_1 (Embedding)     (None, 35, 256)              2118656   ['input_7[0][0]']             \n",
      "                                                                                                  \n",
      " dropout_3 (Dropout)         (None, 2048)                 0         ['input_6[0][0]']             \n",
      "                                                                                                  \n",
      " dropout_4 (Dropout)         (None, 35, 256)              0         ['embedding_1[0][0]']         \n",
      "                                                                                                  \n",
      " dense_6 (Dense)             (None, 256)                  524544    ['dropout_3[0][0]']           \n",
      "                                                                                                  \n",
      " lstm_1 (LSTM)               (None, 35, 256)              525312    ['dropout_4[0][0]']           \n",
      "                                                                                                  \n",
      " add (Add)                   (None, 35, 256)              0         ['dense_6[0][0]',             \n",
      "                                                                     'lstm_1[0][0]']              \n",
      "                                                                                                  \n",
      " dense_7 (Dense)             (None, 35, 256)              65792     ['add[0][0]']                 \n",
      "                                                                                                  \n",
      " flatten_2 (Flatten)         (None, 8960)                 0         ['dense_7[0][0]']             \n",
      "                                                                                                  \n",
      " dense_8 (Dense)             (None, 8276)                 7416123   ['flatten_2[0][0]']           \n",
      "                                                          6                                       \n",
      "                                                                                                  \n",
      "==================================================================================================\n",
      "Total params: 77395540 (295.24 MB)\n",
      "Trainable params: 77395540 (295.24 MB)\n",
      "Non-trainable params: 0 (0.00 Byte)\n",
      "__________________________________________________________________________________________________\n"
     ]
    }
   ],
   "source": [
    "inputs1=Input(shape=(2048,))                                           # Define the input layer for image features\n",
    "features_encoder1=Dropout(0.4)(inputs1)                                # Apply dropout to the input layer for regularization\n",
    "features_encoder2=Dense(256,activation='relu')(features_encoder1)      # Add another dense layer with 256 units and ReLU activation function\n",
    "\n",
    "\n",
    "\n",
    "inputs2=Input(shape=(max_length,))                                     # Define the input layer for sequences (captions)\n",
    "sequences_encoder1=Embedding(vocab_size,256,mask_zero=True)(inputs2)   # Apply an embedding layer to convert sequences into dense vectors of fixed size\n",
    "sequences_encoder2=Dropout(0.4)(sequences_encoder1)                    # Apply dropout to the embedding layer for regularization\n",
    "sequences_encoder3=LSTM(256,return_sequences=True)(sequences_encoder2) # Apply LSTM layer to process the sequences\n",
    "\n",
    "\n",
    "\n",
    "merge_layer=add([features_encoder2,sequences_encoder3])                # Merge the outputs of the two encoders\n",
    "decoder1=Dense(256,activation='relu')(merge_layer)                     # Add a dense layer with 256 units and ReLU activation function to merge layer\n",
    "flatten_layer=Flatten()(decoder1)                                      # Flatten the output of the decoder\n",
    "outputs=Dense(vocab_size,activation='softmax')(flatten_layer)          # Add dense layer with softmax activation function to produce output probabilities\n",
    "\n",
    "\n",
    "model=Model(inputs=[inputs1,inputs2],outputs=outputs)                  # Create a model with inputs and outputs\n",
    "\n",
    "model.compile(                                                         # Compile the model\n",
    "    optimizer='adam',\n",
    "    loss='categorical_crossentropy',\n",
    "    metrics=['accuracy']\n",
    ")\n",
    "\n",
    "model.summary()                                                        # Display a summary of the model architecture and parameters"
   ]
  },
  {
   "cell_type": "code",
   "execution_count": 59,
   "metadata": {},
   "outputs": [],
   "source": [
    "x1=np.array(all_features_train_lst[:1024*70])\n",
    "x1=tf.reshape(x1, (-1, 2048))\n",
    "x2=np.array(in_sequences_train[:1024*70])\n",
    "y=np.array(out_sequences_train[:1024*70])"
   ]
  },
  {
   "cell_type": "code",
   "execution_count": 53,
   "metadata": {},
   "outputs": [
    {
     "name": "stdout",
     "output_type": "stream",
     "text": [
      "Epoch 1/25\n",
      "WARNING:tensorflow:From C:\\Users\\3tia Al Hasawy\\AppData\\Local\\Programs\\Python\\Python311\\Lib\\site-packages\\keras\\src\\utils\\tf_utils.py:492: The name tf.ragged.RaggedTensorValue is deprecated. Please use tf.compat.v1.ragged.RaggedTensorValue instead.\n",
      "\n",
      "WARNING:tensorflow:From C:\\Users\\3tia Al Hasawy\\AppData\\Local\\Programs\\Python\\Python311\\Lib\\site-packages\\keras\\src\\engine\\base_layer_utils.py:384: The name tf.executing_eagerly_outside_functions is deprecated. Please use tf.compat.v1.executing_eagerly_outside_functions instead.\n",
      "\n",
      "2240/2240 [==============================] - ETA: 0s - loss: 4.7069 - accuracy: 0.2426WARNING:tensorflow:Early stopping conditioned on metric `val_loss` which is not available. Available metrics are: loss,accuracy\n",
      "2240/2240 [==============================] - 1485s 660ms/step - loss: 4.7069 - accuracy: 0.2426\n",
      "Epoch 2/25\n",
      "2240/2240 [==============================] - ETA: 0s - loss: 3.7741 - accuracy: 0.2974WARNING:tensorflow:Early stopping conditioned on metric `val_loss` which is not available. Available metrics are: loss,accuracy\n",
      "2240/2240 [==============================] - 1478s 660ms/step - loss: 3.7741 - accuracy: 0.2974\n",
      "Epoch 3/25\n",
      "2240/2240 [==============================] - ETA: 0s - loss: 3.3061 - accuracy: 0.3236WARNING:tensorflow:Early stopping conditioned on metric `val_loss` which is not available. Available metrics are: loss,accuracy\n",
      "2240/2240 [==============================] - 1474s 658ms/step - loss: 3.3061 - accuracy: 0.3236\n",
      "Epoch 4/25\n",
      "2240/2240 [==============================] - ETA: 0s - loss: 2.9513 - accuracy: 0.3545WARNING:tensorflow:Early stopping conditioned on metric `val_loss` which is not available. Available metrics are: loss,accuracy\n",
      "2240/2240 [==============================] - 1475s 658ms/step - loss: 2.9513 - accuracy: 0.3545\n",
      "Epoch 5/25\n",
      "2240/2240 [==============================] - ETA: 0s - loss: 2.6561 - accuracy: 0.3902WARNING:tensorflow:Early stopping conditioned on metric `val_loss` which is not available. Available metrics are: loss,accuracy\n",
      "2240/2240 [==============================] - 1475s 658ms/step - loss: 2.6561 - accuracy: 0.3902\n",
      "Epoch 6/25\n",
      "2240/2240 [==============================] - ETA: 0s - loss: 2.4182 - accuracy: 0.4236WARNING:tensorflow:Early stopping conditioned on metric `val_loss` which is not available. Available metrics are: loss,accuracy\n",
      "2240/2240 [==============================] - 1473s 658ms/step - loss: 2.4182 - accuracy: 0.4236\n",
      "Epoch 7/25\n",
      "2240/2240 [==============================] - ETA: 0s - loss: 2.2258 - accuracy: 0.4550WARNING:tensorflow:Early stopping conditioned on metric `val_loss` which is not available. Available metrics are: loss,accuracy\n",
      "2240/2240 [==============================] - 1475s 659ms/step - loss: 2.2258 - accuracy: 0.4550\n",
      "Epoch 8/25\n",
      "2240/2240 [==============================] - ETA: 0s - loss: 2.0552 - accuracy: 0.4835WARNING:tensorflow:Early stopping conditioned on metric `val_loss` which is not available. Available metrics are: loss,accuracy\n",
      "2240/2240 [==============================] - 1473s 657ms/step - loss: 2.0552 - accuracy: 0.4835\n",
      "Epoch 9/25\n",
      "2240/2240 [==============================] - ETA: 0s - loss: 1.8990 - accuracy: 0.5125WARNING:tensorflow:Early stopping conditioned on metric `val_loss` which is not available. Available metrics are: loss,accuracy\n",
      "2240/2240 [==============================] - 1473s 657ms/step - loss: 1.8990 - accuracy: 0.5125\n",
      "Epoch 10/25\n",
      "2240/2240 [==============================] - ETA: 0s - loss: 1.7602 - accuracy: 0.5417WARNING:tensorflow:Early stopping conditioned on metric `val_loss` which is not available. Available metrics are: loss,accuracy\n",
      "2240/2240 [==============================] - 1472s 657ms/step - loss: 1.7602 - accuracy: 0.5417\n",
      "Epoch 11/25\n",
      "2240/2240 [==============================] - ETA: 0s - loss: 1.6397 - accuracy: 0.5678WARNING:tensorflow:Early stopping conditioned on metric `val_loss` which is not available. Available metrics are: loss,accuracy\n",
      "2240/2240 [==============================] - 1474s 658ms/step - loss: 1.6397 - accuracy: 0.5678\n",
      "Epoch 12/25\n",
      "2240/2240 [==============================] - ETA: 0s - loss: 1.5334 - accuracy: 0.5922WARNING:tensorflow:Early stopping conditioned on metric `val_loss` which is not available. Available metrics are: loss,accuracy\n",
      "2240/2240 [==============================] - 1476s 659ms/step - loss: 1.5334 - accuracy: 0.5922\n",
      "Epoch 13/25\n",
      "2240/2240 [==============================] - ETA: 0s - loss: 1.4410 - accuracy: 0.6131WARNING:tensorflow:Early stopping conditioned on metric `val_loss` which is not available. Available metrics are: loss,accuracy\n",
      "2240/2240 [==============================] - 1479s 660ms/step - loss: 1.4410 - accuracy: 0.6131\n",
      "Epoch 14/25\n",
      "2240/2240 [==============================] - ETA: 0s - loss: 1.3663 - accuracy: 0.6327WARNING:tensorflow:Early stopping conditioned on metric `val_loss` which is not available. Available metrics are: loss,accuracy\n",
      "2240/2240 [==============================] - 4493s 2s/step - loss: 1.3663 - accuracy: 0.6327\n",
      "Epoch 15/25\n",
      "2240/2240 [==============================] - ETA: 0s - loss: 1.3006 - accuracy: 0.6497WARNING:tensorflow:Early stopping conditioned on metric `val_loss` which is not available. Available metrics are: loss,accuracy\n",
      "2240/2240 [==============================] - 1463s 653ms/step - loss: 1.3006 - accuracy: 0.6497\n",
      "Epoch 16/25\n",
      "2240/2240 [==============================] - ETA: 0s - loss: 1.2416 - accuracy: 0.6651WARNING:tensorflow:Early stopping conditioned on metric `val_loss` which is not available. Available metrics are: loss,accuracy\n",
      "2240/2240 [==============================] - 1665s 743ms/step - loss: 1.2416 - accuracy: 0.6651\n",
      "Epoch 17/25\n",
      "2240/2240 [==============================] - ETA: 0s - loss: 1.1958 - accuracy: 0.6749WARNING:tensorflow:Early stopping conditioned on metric `val_loss` which is not available. Available metrics are: loss,accuracy\n",
      "2240/2240 [==============================] - 1499s 669ms/step - loss: 1.1958 - accuracy: 0.6749\n",
      "Epoch 18/25\n",
      "2240/2240 [==============================] - ETA: 0s - loss: 1.1557 - accuracy: 0.6862WARNING:tensorflow:Early stopping conditioned on metric `val_loss` which is not available. Available metrics are: loss,accuracy\n",
      "2240/2240 [==============================] - 1510s 674ms/step - loss: 1.1557 - accuracy: 0.6862\n",
      "Epoch 19/25\n",
      "2240/2240 [==============================] - ETA: 0s - loss: 1.1201 - accuracy: 0.6971WARNING:tensorflow:Early stopping conditioned on metric `val_loss` which is not available. Available metrics are: loss,accuracy\n",
      "2240/2240 [==============================] - 1512s 675ms/step - loss: 1.1201 - accuracy: 0.6971\n",
      "Epoch 20/25\n",
      "2240/2240 [==============================] - ETA: 0s - loss: 1.0916 - accuracy: 0.7035WARNING:tensorflow:Early stopping conditioned on metric `val_loss` which is not available. Available metrics are: loss,accuracy\n",
      "2240/2240 [==============================] - 1508s 673ms/step - loss: 1.0916 - accuracy: 0.7035\n",
      "Epoch 21/25\n",
      "2240/2240 [==============================] - ETA: 0s - loss: 1.0660 - accuracy: 0.7116WARNING:tensorflow:Early stopping conditioned on metric `val_loss` which is not available. Available metrics are: loss,accuracy\n",
      "2240/2240 [==============================] - 1485s 663ms/step - loss: 1.0660 - accuracy: 0.7116\n",
      "Epoch 22/25\n",
      "2240/2240 [==============================] - ETA: 0s - loss: 1.0427 - accuracy: 0.7173WARNING:tensorflow:Early stopping conditioned on metric `val_loss` which is not available. Available metrics are: loss,accuracy\n",
      "2240/2240 [==============================] - 1488s 664ms/step - loss: 1.0427 - accuracy: 0.7173\n",
      "Epoch 23/25\n",
      "2240/2240 [==============================] - ETA: 0s - loss: 1.0250 - accuracy: 0.7219WARNING:tensorflow:Early stopping conditioned on metric `val_loss` which is not available. Available metrics are: loss,accuracy\n",
      "2240/2240 [==============================] - 1502s 671ms/step - loss: 1.0250 - accuracy: 0.7219\n",
      "Epoch 24/25\n",
      "2240/2240 [==============================] - ETA: 0s - loss: 1.0070 - accuracy: 0.7267WARNING:tensorflow:Early stopping conditioned on metric `val_loss` which is not available. Available metrics are: loss,accuracy\n",
      "2240/2240 [==============================] - 1464s 653ms/step - loss: 1.0070 - accuracy: 0.7267\n",
      "Epoch 25/25\n",
      "2240/2240 [==============================] - ETA: 0s - loss: 0.9988 - accuracy: 0.7290WARNING:tensorflow:Early stopping conditioned on metric `val_loss` which is not available. Available metrics are: loss,accuracy\n",
      "2240/2240 [==============================] - 1471s 657ms/step - loss: 0.9988 - accuracy: 0.7290\n"
     ]
    },
    {
     "data": {
      "text/plain": [
       "<keras.src.callbacks.History at 0x1ffe5e37a10>"
      ]
     },
     "execution_count": 53,
     "metadata": {},
     "output_type": "execute_result"
    }
   ],
   "source": [
    "earlystopping = EarlyStopping(monitor='val_loss',min_delta = 0, patience = 5, verbose = 1, restore_best_weights=True)\n",
    "\n",
    "model.fit(x=(x1,x2),y=y,batch_size=32,\n",
    "          epochs=25,callbacks=[earlystopping])"
   ]
  },
  {
   "cell_type": "code",
   "execution_count": 54,
   "metadata": {
    "scrolled": true
   },
   "outputs": [
    {
     "name": "stderr",
     "output_type": "stream",
     "text": [
      "C:\\Users\\3tia Al Hasawy\\AppData\\Local\\Programs\\Python\\Python311\\Lib\\site-packages\\keras\\src\\engine\\training.py:3103: UserWarning: You are saving your model as an HDF5 file via `model.save()`. This file format is considered legacy. We recommend using instead the native Keras format, e.g. `model.save('my_model.keras')`.\n",
      "  saving_api.save_model(\n"
     ]
    }
   ],
   "source": [
    "model.save('model1.h5')"
   ]
  },
  {
   "cell_type": "code",
   "execution_count": 60,
   "metadata": {},
   "outputs": [],
   "source": [
    "model=load_model('model1.h5')"
   ]
  },
  {
   "cell_type": "code",
   "execution_count": 63,
   "metadata": {},
   "outputs": [],
   "source": [
    "x1_t=np.array(all_features_train_lst[1024*70:1024*80])\n",
    "x1_t=tf.reshape(x1, (-1, 2048))\n",
    "x2_t=np.array(in_sequences_train[1024*70:1024*80])\n",
    "y_t=np.array(out_sequences_train[1024*70:1024*80])"
   ]
  },
  {
   "cell_type": "code",
   "execution_count": null,
   "metadata": {},
   "outputs": [],
   "source": [
    "model.evaluate((x1,x2),y_t)"
   ]
  },
  {
   "cell_type": "code",
   "execution_count": null,
   "metadata": {},
   "outputs": [],
   "source": []
  }
 ],
 "metadata": {
  "kernelspec": {
   "display_name": "Python 3 (ipykernel)",
   "language": "python",
   "name": "python3"
  },
  "language_info": {
   "codemirror_mode": {
    "name": "ipython",
    "version": 3
   },
   "file_extension": ".py",
   "mimetype": "text/x-python",
   "name": "python",
   "nbconvert_exporter": "python",
   "pygments_lexer": "ipython3",
   "version": "3.11.2"
  }
 },
 "nbformat": 4,
 "nbformat_minor": 4
}
